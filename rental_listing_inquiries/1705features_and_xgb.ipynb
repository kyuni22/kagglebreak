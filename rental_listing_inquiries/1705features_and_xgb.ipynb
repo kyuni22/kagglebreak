{
 "cells": [
  {
   "cell_type": "markdown",
   "metadata": {},
   "source": [
    "먼저 Feature들을 하나씩 만든다.\n",
    "그리고 xgboost를 강의 내용을 따라하면서 튜닝해서 만들어본다.\n",
    "\n",
    "https://github.com/KaggleBreak/walkingkaggle/blob/master/rental_listing/rental_listing_0422.ipynb"
   ]
  },
  {
   "cell_type": "markdown",
   "metadata": {},
   "source": [
    "## Features & Issues"
   ]
  },
  {
   "cell_type": "markdown",
   "metadata": {},
   "source": [
    "list all features\n",
    "  * Numerical data\n",
    "    * price\n",
    "    * price_per_bedrooms: price / bedrooms\n",
    "    * bathrooms\n",
    "    * bedrooms\n",
    "    * room_sum: bedrooms + bathrooms\n",
    "    * num_priceXroom: price / (1 + bedrooms + 0.5*bathrooms) -> https://www.kaggle.com/arnaldcat/two-sigma-connect-rental-listing-inquiries/a-proxy-for-sqft-and-the-interest-on-1-2-baths 참고했다고 한다. \n",
    "    * latitude\n",
    "    * longitude\n",
    "    * dist_from_center: sqrt((latitude-latitude.median())**2 + (longitude - longitude.median()) & apply precision \n",
    "    * num_photos: apply len to photos list\n",
    "    * num_features: apply len to features list\n",
    "    * num_description_words: apply split(\" \") to description\n",
    "    * building_avg_score\n",
    "    * building_frequency\n",
    "    * manager_avg_score\n",
    "    * manager_frequency\n",
    "    * created: Neural Network 파트에서 weekday, weekofyear로 변환해서 사용. **시간도 의미가 있었는데** 이걸 사용할 필요성 있을듯?\n",
    "  * Categorical data\n",
    "    * display_address\n",
    "   \n",
    "    \n",
    "raw data but not used for feature\n",
    "  * listing_id -> 이건 created 별로 scaling을 해서 쓰는게 맞다고 보는데. categorical로 할 필요가 없을 듯.\n",
    "  * manager_id, building_id는 각각 평균 score와 빈도로 numerical data로 바꿨는데 또 추가할 필요가 있을까?\n",
    "  * steet_address는 할 필요 없고 display_address로만 하는것이 좋을 듯. 동네만 알면 되지 번지까지 할 필욘 없으니깐."
   ]
  },
  {
   "cell_type": "markdown",
   "metadata": {},
   "source": [
    "Features related issues\n",
    "  * interest_level의 대부분이 low이고 high가 적기 때문에 클래스간 비율을 위해 oversampling / undersampling이 필요할 듯\n",
    "  * interest_level의 Numerical incoding이 필요할까? -> low, medium, high이기 때문에 0, 1, 2를 적용하는 것은 합리적이긴 함.\n",
    "  * tfidf 팩터화..가 뭘까? 뭔가 stop words를 제외시키는 작업인 듯 한데.\n",
    "  * outlier들: price, bedrooms, bathrooms, longitude, latitude 처리 필요성 -> pandas의 clip을 사용하면 아웃라이어들을 특정한 값으로 지정 가능.\n",
    "  * dist_from_center의 precision을 적용, 일정구역을 같은 값으로 설정한 후에 density도 구하던데, 이게 feature로 유용할지 잘 모르겠어서 일단 제외.\n",
    "  * Neural Network 파트에서 building_id와 manager_id에 대해 supervised를 계산하는데 이게 뭔지 잘 모르겠음. frequency는 알것는데. 이거 확인해보고 feature에 넣어주는 걸 고려\n",
    "  * Neural Network 파트에서 price를 digitize를 한다. 뭐하는건지 확인.\n",
    "  * Neural Network 파트에서 0.5 단위 bathrooms를 num_even_bathrooms로 처리를 해주는데 어떻게 넣어줬는지 잘 모르겠음.\n",
    "  * Neural Network 파트에서 특정 단어들에 대해서 몇번 나왔는지 체크하는 것도 feature로 사용한듯 보인다. "
   ]
  },
  {
   "cell_type": "markdown",
   "metadata": {},
   "source": [
    "XGBoost related issues\n",
    "  * change data to fit on XGB\n",
    "  * XGB는 아웃라이어에 대해 영향을 덜 받을까?"
   ]
  },
  {
   "cell_type": "markdown",
   "metadata": {},
   "source": [
    "sklearn에서는 DataFrameMapper로 StandardScaler를 사용할 수 있는 듯. -> 이거 볼 필요성은 있겠다. "
   ]
  },
  {
   "cell_type": "code",
   "execution_count": 1,
   "metadata": {
    "collapsed": true
   },
   "outputs": [],
   "source": [
    "%matplotlib inline\n",
    "import matplotlib.pyplot as plt\n",
    "import seaborn as sns"
   ]
  },
  {
   "cell_type": "code",
   "execution_count": 2,
   "metadata": {
    "collapsed": true
   },
   "outputs": [],
   "source": [
    "import numpy as np\n",
    "import pandas as pd"
   ]
  },
  {
   "cell_type": "code",
   "execution_count": 17,
   "metadata": {
    "collapsed": true
   },
   "outputs": [],
   "source": [
    "train = pd.read_json('./data/train.json')\n",
    "test = pd.read_json('./data/test.json')"
   ]
  },
  {
   "cell_type": "code",
   "execution_count": 18,
   "metadata": {
    "collapsed": false
   },
   "outputs": [
    {
     "data": {
      "text/html": [
       "<div>\n",
       "<table border=\"1\" class=\"dataframe\">\n",
       "  <thead>\n",
       "    <tr style=\"text-align: right;\">\n",
       "      <th></th>\n",
       "      <th>bathrooms</th>\n",
       "      <th>bedrooms</th>\n",
       "      <th>building_id</th>\n",
       "      <th>created</th>\n",
       "      <th>description</th>\n",
       "      <th>display_address</th>\n",
       "      <th>features</th>\n",
       "      <th>interest_level</th>\n",
       "      <th>latitude</th>\n",
       "      <th>listing_id</th>\n",
       "      <th>longitude</th>\n",
       "      <th>manager_id</th>\n",
       "      <th>photos</th>\n",
       "      <th>price</th>\n",
       "      <th>street_address</th>\n",
       "    </tr>\n",
       "  </thead>\n",
       "  <tbody>\n",
       "    <tr>\n",
       "      <th>9999</th>\n",
       "      <td>1.0</td>\n",
       "      <td>2</td>\n",
       "      <td>297160caf8a88c10718b492d4672c6b4</td>\n",
       "      <td>2016-06-02 05:41:05</td>\n",
       "      <td>30TH/3RD, MASSIVE CONV 2BR IN LUXURY FULL SERV...</td>\n",
       "      <td>E 30 St</td>\n",
       "      <td>[Elevator, Laundry in Building, Laundry in Uni...</td>\n",
       "      <td>medium</td>\n",
       "      <td>40.7426</td>\n",
       "      <td>7098690</td>\n",
       "      <td>-73.9790</td>\n",
       "      <td>2a1ee03b449700c3a15dd8c9a505c525</td>\n",
       "      <td>[https://photos.renthop.com/2/7098690_18396d32...</td>\n",
       "      <td>3200</td>\n",
       "      <td>230 E 30 St</td>\n",
       "    </tr>\n",
       "    <tr>\n",
       "      <th>99991</th>\n",
       "      <td>1.0</td>\n",
       "      <td>1</td>\n",
       "      <td>9e871ccfea7b07686c101548ca693af6</td>\n",
       "      <td>2016-04-04 18:22:34</td>\n",
       "      <td>HIGH END condo finishes, swimming pool, and ki...</td>\n",
       "      <td>Rector Pl</td>\n",
       "      <td>[Common Outdoor Space, Cats Allowed, Dogs Allo...</td>\n",
       "      <td>low</td>\n",
       "      <td>40.7102</td>\n",
       "      <td>6822449</td>\n",
       "      <td>-74.0163</td>\n",
       "      <td>ef20d40b528500037e37b167787ac089</td>\n",
       "      <td>[https://photos.renthop.com/2/6822449_b429587b...</td>\n",
       "      <td>3950</td>\n",
       "      <td>225 Rector Place</td>\n",
       "    </tr>\n",
       "    <tr>\n",
       "      <th>99992</th>\n",
       "      <td>1.0</td>\n",
       "      <td>1</td>\n",
       "      <td>7967a1280bf3f7644500fc79d2696b0e</td>\n",
       "      <td>2016-04-16 02:13:40</td>\n",
       "      <td>Large Renovated One Bedroom Apartment with Sta...</td>\n",
       "      <td>West 45th Street</td>\n",
       "      <td>[Doorman, Elevator, Pre-War, Dogs Allowed, Cat...</td>\n",
       "      <td>low</td>\n",
       "      <td>40.7601</td>\n",
       "      <td>6881461</td>\n",
       "      <td>-73.9900</td>\n",
       "      <td>d889a9552265fe359e7d36d172084fcb</td>\n",
       "      <td>[https://photos.renthop.com/2/6881461_20a86530...</td>\n",
       "      <td>2595</td>\n",
       "      <td>341 West 45th Street</td>\n",
       "    </tr>\n",
       "    <tr>\n",
       "      <th>99993</th>\n",
       "      <td>1.0</td>\n",
       "      <td>0</td>\n",
       "      <td>ad67f6181a49bde19218929b401b31b7</td>\n",
       "      <td>2016-04-08 02:13:33</td>\n",
       "      <td>Stylishly sleek studio apartment with unsurpas...</td>\n",
       "      <td>Wall Street</td>\n",
       "      <td>[Doorman, Elevator, Pre-War, Dogs Allowed, Cat...</td>\n",
       "      <td>low</td>\n",
       "      <td>40.7066</td>\n",
       "      <td>6841891</td>\n",
       "      <td>-74.0101</td>\n",
       "      <td>9fd3af5b2d23951e028059e8940a55d7</td>\n",
       "      <td>[https://photos.renthop.com/2/6841891_124c9c44...</td>\n",
       "      <td>3350</td>\n",
       "      <td>37 Wall Street</td>\n",
       "    </tr>\n",
       "    <tr>\n",
       "      <th>99994</th>\n",
       "      <td>1.0</td>\n",
       "      <td>2</td>\n",
       "      <td>5173052db6efc0caaa4d817112a70f32</td>\n",
       "      <td>2016-04-12 02:48:07</td>\n",
       "      <td>Look no further!!!  This giant 2 bedroom apart...</td>\n",
       "      <td>Park Terrace East</td>\n",
       "      <td>[Hardwood Floors]</td>\n",
       "      <td>low</td>\n",
       "      <td>40.8699</td>\n",
       "      <td>6858245</td>\n",
       "      <td>-73.9172</td>\n",
       "      <td>d7f57128272bfd82e33a61999b5f4c42</td>\n",
       "      <td>[https://photos.renthop.com/2/6858245_c4380bde...</td>\n",
       "      <td>2200</td>\n",
       "      <td>30 Park Terrace East</td>\n",
       "    </tr>\n",
       "  </tbody>\n",
       "</table>\n",
       "</div>"
      ],
      "text/plain": [
       "       bathrooms  bedrooms                       building_id  \\\n",
       "9999         1.0         2  297160caf8a88c10718b492d4672c6b4   \n",
       "99991        1.0         1  9e871ccfea7b07686c101548ca693af6   \n",
       "99992        1.0         1  7967a1280bf3f7644500fc79d2696b0e   \n",
       "99993        1.0         0  ad67f6181a49bde19218929b401b31b7   \n",
       "99994        1.0         2  5173052db6efc0caaa4d817112a70f32   \n",
       "\n",
       "                   created                                        description  \\\n",
       "9999   2016-06-02 05:41:05  30TH/3RD, MASSIVE CONV 2BR IN LUXURY FULL SERV...   \n",
       "99991  2016-04-04 18:22:34  HIGH END condo finishes, swimming pool, and ki...   \n",
       "99992  2016-04-16 02:13:40  Large Renovated One Bedroom Apartment with Sta...   \n",
       "99993  2016-04-08 02:13:33  Stylishly sleek studio apartment with unsurpas...   \n",
       "99994  2016-04-12 02:48:07  Look no further!!!  This giant 2 bedroom apart...   \n",
       "\n",
       "         display_address                                           features  \\\n",
       "9999             E 30 St  [Elevator, Laundry in Building, Laundry in Uni...   \n",
       "99991          Rector Pl  [Common Outdoor Space, Cats Allowed, Dogs Allo...   \n",
       "99992   West 45th Street  [Doorman, Elevator, Pre-War, Dogs Allowed, Cat...   \n",
       "99993        Wall Street  [Doorman, Elevator, Pre-War, Dogs Allowed, Cat...   \n",
       "99994  Park Terrace East                                  [Hardwood Floors]   \n",
       "\n",
       "      interest_level  latitude  listing_id  longitude  \\\n",
       "9999          medium   40.7426     7098690   -73.9790   \n",
       "99991            low   40.7102     6822449   -74.0163   \n",
       "99992            low   40.7601     6881461   -73.9900   \n",
       "99993            low   40.7066     6841891   -74.0101   \n",
       "99994            low   40.8699     6858245   -73.9172   \n",
       "\n",
       "                             manager_id  \\\n",
       "9999   2a1ee03b449700c3a15dd8c9a505c525   \n",
       "99991  ef20d40b528500037e37b167787ac089   \n",
       "99992  d889a9552265fe359e7d36d172084fcb   \n",
       "99993  9fd3af5b2d23951e028059e8940a55d7   \n",
       "99994  d7f57128272bfd82e33a61999b5f4c42   \n",
       "\n",
       "                                                  photos  price  \\\n",
       "9999   [https://photos.renthop.com/2/7098690_18396d32...   3200   \n",
       "99991  [https://photos.renthop.com/2/6822449_b429587b...   3950   \n",
       "99992  [https://photos.renthop.com/2/6881461_20a86530...   2595   \n",
       "99993  [https://photos.renthop.com/2/6841891_124c9c44...   3350   \n",
       "99994  [https://photos.renthop.com/2/6858245_c4380bde...   2200   \n",
       "\n",
       "             street_address  \n",
       "9999            230 E 30 St  \n",
       "99991      225 Rector Place  \n",
       "99992  341 West 45th Street  \n",
       "99993        37 Wall Street  \n",
       "99994  30 Park Terrace East  "
      ]
     },
     "execution_count": 18,
     "metadata": {},
     "output_type": "execute_result"
    }
   ],
   "source": [
    "train.tail()"
   ]
  },
  {
   "cell_type": "markdown",
   "metadata": {},
   "source": [
    "### Numerical Features"
   ]
  },
  {
   "cell_type": "markdown",
   "metadata": {},
   "source": [
    "* price\n",
    "* price_per_bedrooms: price / bedrooms\n",
    "* bathrooms\n",
    "* bedrooms\n",
    "* room_sum: bedrooms + bathrooms\n",
    "* num_priceXroom: price / (1 + bedrooms + 0.5*bathrooms) -> https://www.kaggle.com/arnaldcat/two-sigma-connect-rental-listing-inquiries/a-proxy-for-sqft-and-the-interest-on-1-2-baths 참고했다고 한다. \n",
    "* latitude\n",
    "* longitude\n",
    "* dist_from_center: sqrt((latitude-latitude.median())**2 + (longitude - longitude.median()) & apply precision \n",
    "* num_photos: apply len to photos list\n",
    "* num_features: apply len to features list\n",
    "* num_description_words: apply split(\" \") to description\n",
    "* building_avg_score\n",
    "* building_frequency\n",
    "* manager_avg_score\n",
    "* manager_frequency\n",
    "* created: Neural Network 파트에서 weekday, weekofyear로 변환해서 사용."
   ]
  },
  {
   "cell_type": "code",
   "execution_count": 19,
   "metadata": {
    "collapsed": false
   },
   "outputs": [],
   "source": [
    "# numerical encoding of target value\n",
    "train.loc[:, 'interest_level_in_num'] = 0.0\n",
    "train.loc[train.loc[:, 'interest_level'] == 'medium', 'interest_level_in_num'] = 1.0\n",
    "train.loc[train.loc[:, 'interest_level'] == 'high', 'interest_level_in_num'] = 2.0\n",
    "\n",
    "# making derivated features for train data\n",
    "train.loc[:, 'price_per_bedrooms'] = train.loc[:, 'price'] / train.loc[:, 'bedrooms']\n",
    "train.loc[:, 'price_per_bathrooms'] = train.loc[:, 'price'] / train.loc[:, 'bathrooms']\n",
    "# https://www.kaggle.com/arnaldcat/two-sigma-connect-rental-listing-inquiries/a-proxy-for-sqft-and-the-interest-on-1-2-baths\n",
    "train.loc[:, 'priceXroom'] = (train.loc[:, 'price'] / (1. + train.loc[:, 'bedrooms'].clip(1, 4) + \\\n",
    "                                                       0.5*train.loc[:, 'bathrooms'].clip(0, 2)))\n",
    "train.loc[:, 'room_sum'] = train.loc[:, 'bedrooms'] + train.loc[:, 'bathrooms']\n",
    "train.loc[:, 'dist_from_center'] = np.sqrt((train.loc[:, 'latitude'] - train.loc[:, 'latitude'].median())**2 + \\\n",
    "                                           (train.loc[:, 'longitude'] - train.loc[:, 'longitude'].median())**2)\n",
    "train.loc[:, 'num_photos'] = train.loc[:, 'photos'].apply(len)\n",
    "train.loc[:, 'num_features'] = train.loc[:, 'features'].apply(len)\n",
    "# maybe better to exclude 'stop words' by using tfid??\n",
    "train.loc[:, 'num_description_words'] = train.loc[:, 'description'].apply(lambda x: len(x.split(\" \")))\n",
    "\n",
    "# apply scores depends on building id and manager id\n",
    "b_id_freq_th = 15. # frequency threshold for assigning building id interest level in num score\n",
    "m_id_freq_th = 15. # frequency threshold for assigning manager id interest level in num score\n",
    "\n",
    "grouped = train.groupby('building_id')['interest_level_in_num'].aggregate(['count', 'mean'])\n",
    "tmp_dic = grouped.loc[grouped.loc[:, 'count'] > b_id_freq_th, 'mean'].to_dict()\n",
    "tmp_avg = train.loc[:, 'interest_level_in_num'].mean()\n",
    "train.loc[:, 'building_avg_score'] = train.loc[:, 'building_id'].apply(lambda x: tmp_dic.get(x, tmp_avg))\n",
    "test.loc[:, 'building_avg_score'] = test.loc[:, 'building_id'].apply(lambda x: tmp_dic.get(x, tmp_avg)) # using train data\n",
    "\n",
    "tmp_dic = train.loc[:, 'building_id'].value_counts().to_dict()\n",
    "tmp_avg = train.loc[:, 'building_id'].value_counts().min()\n",
    "train.loc[:, 'building_frequency'] = train.loc[:, 'building_id'].apply(lambda x: tmp_dic.get(x, tmp_avg))\n",
    "test.loc[:, 'building_frequency'] = test.loc[:, 'building_id'].apply(lambda x: tmp_dic.get(x, tmp_avg)) # using train data\n",
    "\n",
    "grouped = train.groupby('manager_id')['interest_level_in_num'].aggregate(['count', 'mean'])\n",
    "tmp_dic = grouped.loc[grouped.loc[:, 'count'] > m_id_freq_th, 'mean'].to_dict()\n",
    "tmp_avg = train.loc[:, 'interest_level_in_num'].mean()\n",
    "train.loc[:, 'manager_avg_score'] = train.loc[:, 'manager_id'].apply(lambda x: tmp_dic.get(x, tmp_avg))\n",
    "test.loc[:, 'manager_avg_score'] = test.loc[:, 'manager_id'].apply(lambda x: tmp_dic.get(x, tmp_avg)) # using train data\n",
    "\n",
    "tmp_dic = train.loc[:, 'manager_id'].value_counts().to_dict()\n",
    "tmp_avg = train.loc[:, 'manager_id'].value_counts().min()\n",
    "train.loc[:, 'manager_frequency'] = train.loc[:, 'manager_id'].apply(lambda x: tmp_dic.get(x, tmp_avg))\n",
    "test.loc[:, 'manager_frequency'] = test.loc[:, 'manager_id'].apply(lambda x: tmp_dic.get(x, tmp_avg)) # using train data\n",
    "\n",
    "# created\n",
    "train.loc[:, 'created'] = pd.to_datetime(train.loc[:, 'created'])\n",
    "train.loc[:, 'dayofweek'] = train.loc[:, 'created'].dt.dayofweek\n",
    "train.loc[:, 'weekofyear'] = train.loc[:, 'created'].dt.weekofyear\n",
    "train.loc[:, 'hour'] = train.loc[:, 'created'].dt.hour"
   ]
  },
  {
   "cell_type": "code",
   "execution_count": 20,
   "metadata": {
    "collapsed": false
   },
   "outputs": [],
   "source": [
    "# making derivated features for test data\n",
    "test.loc[:, 'price_per_bedrooms'] = test.loc[:, 'price'] / test.loc[:, 'bedrooms']\n",
    "test.loc[:, 'price_per_bathrooms'] = test.loc[:, 'price'] / test.loc[:, 'bathrooms']\n",
    "# https://www.kaggle.com/arnaldcat/two-sigma-connect-rental-listing-inquiries/a-proxy-for-sqft-and-the-interest-on-1-2-baths\n",
    "test.loc[:, 'priceXroom'] = (test.loc[:, 'price'] / (1. + test.loc[:, 'bedrooms'].clip(1, 4) + \\\n",
    "                                                       0.5*test.loc[:, 'bathrooms'].clip(0, 2)))\n",
    "test.loc[:, 'room_sum'] = test.loc[:, 'bedrooms'] + test.loc[:, 'bathrooms']\n",
    "test.loc[:, 'dist_from_center'] = np.sqrt((test.loc[:, 'latitude'] - test.loc[:, 'latitude'].median())**2 + \\\n",
    "                                           (test.loc[:, 'longitude'] - test.loc[:, 'longitude'].median())**2)\n",
    "test.loc[:, 'num_photos'] = test.loc[:, 'photos'].apply(len)\n",
    "test.loc[:, 'num_features'] = test.loc[:, 'features'].apply(len)\n",
    "# maybe better to exclude 'stop words' by using tfid??\n",
    "test.loc[:, 'num_description_words'] = test.loc[:, 'description'].apply(lambda x: len(x.split(\" \")))\n",
    "\n",
    "# created\n",
    "test.loc[:, 'created'] = pd.to_datetime(test.loc[:, 'created'])\n",
    "test.loc[:, 'dayofweek'] = test.loc[:, 'created'].dt.dayofweek\n",
    "test.loc[:, 'weekofyear'] = test.loc[:, 'created'].dt.weekofyear\n",
    "test.loc[:, 'hour'] = test.loc[:, 'created'].dt.hour"
   ]
  },
  {
   "cell_type": "markdown",
   "metadata": {
    "collapsed": true
   },
   "source": [
    "### Categorical Features"
   ]
  },
  {
   "cell_type": "markdown",
   "metadata": {},
   "source": [
    "* display_address\n",
    "\n",
    "제외\n",
    "* listing_id -> 이건 created 별로 scaling을 해서 쓰는게 맞다고 보는데. categorical로 할 필요가 없을 듯.\n",
    "* manager_id, building_id는 각각 평균 score와 빈도로 numerical data로 바꿨는데 또 추가할 필요가 있을까?\n",
    "* steet_address는 할 필요 없고 display_address로만 하는것이 좋을 듯. 동네만 알면 되지 번지까지 할 필욘 없으니깐."
   ]
  },
  {
   "cell_type": "markdown",
   "metadata": {},
   "source": [
    "Issues\n",
    "* 근데 encoding을 LabelEncoder로 하는게 맞나? OneHotEncoder로 해야 맞는거 아닌가?"
   ]
  },
  {
   "cell_type": "code",
   "execution_count": 21,
   "metadata": {
    "collapsed": true
   },
   "outputs": [],
   "source": [
    "from sklearn import preprocessing"
   ]
  },
  {
   "cell_type": "code",
   "execution_count": 22,
   "metadata": {
    "collapsed": true
   },
   "outputs": [],
   "source": [
    "le = preprocessing.LabelEncoder()\n",
    "le.fit(np.append(train.loc[:, 'display_address'].values, test.loc[:, 'display_address'].values))\n",
    "train.loc[:, 'le_display_address'] = le.transform(train.loc[:, 'display_address'].values)\n",
    "test.loc[:, 'le_display_address'] = le.transform(test.loc[:, 'display_address'].values)"
   ]
  },
  {
   "cell_type": "code",
   "execution_count": 23,
   "metadata": {
    "collapsed": false
   },
   "outputs": [
    {
     "data": {
      "text/plain": [
       "9999      9577\n",
       "99991    12864\n",
       "99992    15306\n",
       "99993    14850\n",
       "99994    12707\n",
       "Name: le_display_address, dtype: int32"
      ]
     },
     "execution_count": 23,
     "metadata": {},
     "output_type": "execute_result"
    }
   ],
   "source": [
    "train.loc[:, 'le_display_address'].tail()"
   ]
  },
  {
   "cell_type": "markdown",
   "metadata": {},
   "source": [
    "### Adding more features"
   ]
  },
  {
   "cell_type": "markdown",
   "metadata": {},
   "source": [
    "Little Boat https://www.kaggle.com/c/two-sigma-connect-rental-listing-inquiries/discussion/32123 posting suggest \"encoding other categorical features\" to some \"important\" features (especially manager_id)\n",
    "\n",
    "https://github.com/plantsgo/Rental-Listing-Inquiries"
   ]
  },
  {
   "cell_type": "code",
   "execution_count": 26,
   "metadata": {
    "collapsed": true
   },
   "outputs": [],
   "source": [
    "def get_stats(train_df, test_df, target_cols, group_col, agg_func=['count', 'mean', 'std', 'median', 'max', 'min']):\n",
    "    all_df = train_df.append(test_df)\n",
    "    ret_df = all_df.groupby(group_col)[target_cols].aggregate(agg_func)\n",
    "    ret_df.columns = [group_col+'_'+'_'.join(col) for col in ret_df.columns.values]\n",
    "    return ret_df"
   ]
  },
  {
   "cell_type": "code",
   "execution_count": 30,
   "metadata": {
    "collapsed": true
   },
   "outputs": [],
   "source": [
    "manager_id_target_cols = ['price', 'price_per_bedrooms', 'price_per_bathrooms', 'priceXroom', 'bathrooms', 'bedrooms', 'room_sum', \\\n",
    "                          'latitude', 'longitude', 'num_photos', 'num_features', 'num_description_words', 'building_avg_score', \\\n",
    "                          'building_frequency', 'dayofweek', 'weekofyear', 'hour']\n",
    "stats_df = get_stats(train, test, manager_id_target_cols, 'manager_id')\n",
    "train = train.merge(stats_df, how='left', left_on='manager_id', right_index=True)\n",
    "test = test.merge(stats_df, how='left', left_on='manager_id', right_index=True)"
   ]
  },
  {
   "cell_type": "markdown",
   "metadata": {},
   "source": [
    "With 'manager_id', Little Boat said bedrooms stats features also contribute to his best model. However, fundamentally, it is harder to understand how bedrooms stats help to imporove the model compare to manager_id. Let's just test manager_id stats features first."
   ]
  },
  {
   "cell_type": "code",
   "execution_count": 52,
   "metadata": {
    "collapsed": true
   },
   "outputs": [],
   "source": [
    "features_to_use = ['price', 'price_per_bedrooms', 'price_per_bathrooms', 'priceXroom', 'bathrooms', 'bedrooms', 'room_sum', 'latitude', \\\n",
    "                   'longitude', 'num_photos', 'num_features', 'num_description_words', 'building_avg_score', \\\n",
    "                   'building_frequency', 'manager_avg_score', 'manager_frequency', 'dayofweek', 'weekofyear', 'hour', \\\n",
    "                   'le_display_address']"
   ]
  },
  {
   "cell_type": "code",
   "execution_count": 53,
   "metadata": {
    "collapsed": false
   },
   "outputs": [],
   "source": [
    "manager_id_features = train.columns[-17*6:].values"
   ]
  },
  {
   "cell_type": "code",
   "execution_count": 54,
   "metadata": {
    "collapsed": false
   },
   "outputs": [],
   "source": [
    "all_features_to_use = np.append(features_to_use,manager_id_features)"
   ]
  },
  {
   "cell_type": "code",
   "execution_count": 57,
   "metadata": {
    "collapsed": false
   },
   "outputs": [
    {
     "name": "stdout",
     "output_type": "stream",
     "text": [
      "20 102 122\n"
     ]
    }
   ],
   "source": [
    "print len(features_to_use), len(manager_id_features), len(all_features_to_use)"
   ]
  },
  {
   "cell_type": "markdown",
   "metadata": {},
   "source": [
    "## xgb part"
   ]
  },
  {
   "cell_type": "markdown",
   "metadata": {},
   "source": [
    "### data transform for xgb"
   ]
  },
  {
   "cell_type": "code",
   "execution_count": 12,
   "metadata": {
    "collapsed": true
   },
   "outputs": [],
   "source": [
    "import xgboost as xgb\n",
    "from xgboost.sklearn import XGBClassifier"
   ]
  },
  {
   "cell_type": "code",
   "execution_count": 13,
   "metadata": {
    "collapsed": false
   },
   "outputs": [],
   "source": [
    "# https://datascience.stackexchange.com/questions/12799/pandas-dataframe-to-dmatrix\n",
    "xgtrain = xgb.DMatrix(train.loc[:, features_to_use].values, label=train.loc[:, 'interest_level_in_num'].values)"
   ]
  },
  {
   "cell_type": "markdown",
   "metadata": {},
   "source": [
    "### Running xgb"
   ]
  },
  {
   "cell_type": "code",
   "execution_count": 14,
   "metadata": {
    "collapsed": true
   },
   "outputs": [],
   "source": [
    "from sklearn.model_selection import StratifiedKFold"
   ]
  },
  {
   "cell_type": "code",
   "execution_count": 15,
   "metadata": {
    "collapsed": true
   },
   "outputs": [],
   "source": [
    "# for xgb.train\n",
    "params = {\n",
    "    'objective':'multi:softprob',\n",
    "    'max_depth':6,\n",
    "    'silent':1,\n",
    "    'eta':0.03,\n",
    "    'num_class':3,\n",
    "    'eval_metric':'mlogloss'\n",
    "}\n",
    "\n",
    "num_rounds = 5"
   ]
  },
  {
   "cell_type": "code",
   "execution_count": 16,
   "metadata": {
    "collapsed": true
   },
   "outputs": [],
   "source": [
    "X = train.loc[:, features_to_use].values\n",
    "y = train.loc[:, 'interest_level_in_num'].values\n",
    "\n",
    "skf = StratifiedKFold(n_splits=5, shuffle=True, random_state=2017)"
   ]
  },
  {
   "cell_type": "code",
   "execution_count": 17,
   "metadata": {
    "collapsed": false,
    "scrolled": true
   },
   "outputs": [
    {
     "name": "stdout",
     "output_type": "stream",
     "text": [
      "[0]\ttest-mlogloss:1.07784\ttrain-mlogloss:1.0775\n",
      "[1]\ttest-mlogloss:1.05812\ttrain-mlogloss:1.05744\n",
      "[2]\ttest-mlogloss:1.03938\ttrain-mlogloss:1.03838\n",
      "[3]\ttest-mlogloss:1.02152\ttrain-mlogloss:1.02024\n",
      "[4]\ttest-mlogloss:1.00456\ttrain-mlogloss:1.00297\n",
      "[0]\ttest-mlogloss:1.07801\ttrain-mlogloss:1.0775\n",
      "[1]\ttest-mlogloss:1.0585\ttrain-mlogloss:1.05745\n",
      "[2]\ttest-mlogloss:1.03992\ttrain-mlogloss:1.03838\n",
      "[3]\ttest-mlogloss:1.02223\ttrain-mlogloss:1.02019\n",
      "[4]\ttest-mlogloss:1.00543\ttrain-mlogloss:1.00293\n",
      "[0]\ttest-mlogloss:1.07784\ttrain-mlogloss:1.07747\n",
      "[1]\ttest-mlogloss:1.05812\ttrain-mlogloss:1.05739\n",
      "[2]\ttest-mlogloss:1.03942\ttrain-mlogloss:1.03831\n",
      "[3]\ttest-mlogloss:1.02158\ttrain-mlogloss:1.02015\n",
      "[4]\ttest-mlogloss:1.00465\ttrain-mlogloss:1.00284\n",
      "[0]\ttest-mlogloss:1.07772\ttrain-mlogloss:1.07747\n",
      "[1]\ttest-mlogloss:1.05792\ttrain-mlogloss:1.05739\n",
      "[2]\ttest-mlogloss:1.03912\ttrain-mlogloss:1.0383\n",
      "[3]\ttest-mlogloss:1.02124\ttrain-mlogloss:1.02016\n",
      "[4]\ttest-mlogloss:1.00418\ttrain-mlogloss:1.0028\n",
      "[0]\ttest-mlogloss:1.0778\ttrain-mlogloss:1.07745\n",
      "[1]\ttest-mlogloss:1.05806\ttrain-mlogloss:1.05735\n",
      "[2]\ttest-mlogloss:1.03932\ttrain-mlogloss:1.03824\n",
      "[3]\ttest-mlogloss:1.02148\ttrain-mlogloss:1.02005\n",
      "[4]\ttest-mlogloss:1.0045\ttrain-mlogloss:1.00273\n"
     ]
    }
   ],
   "source": [
    "for train_index, test_index in skf.split(X, y):\n",
    "    X_train, X_test = X[train_index], X[test_index]\n",
    "    y_train, y_test = y[train_index], y[test_index]\n",
    "    \n",
    "    dtrain = xgb.DMatrix(X_train, y_train)\n",
    "    dtest = xgb.DMatrix(X_test, y_test)\n",
    "    \n",
    "    watchlist  = [(dtest,'test'), (dtrain,'train')] # native interface only\n",
    "    bst = xgb.train(params, dtrain, num_rounds, watchlist)"
   ]
  },
  {
   "cell_type": "code",
   "execution_count": 26,
   "metadata": {
    "collapsed": false
   },
   "outputs": [
    {
     "data": {
      "text/plain": [
       "'room_sum'"
      ]
     },
     "execution_count": 26,
     "metadata": {},
     "output_type": "execute_result"
    }
   ],
   "source": [
    "features_to_use[5]"
   ]
  },
  {
   "cell_type": "code",
   "execution_count": 18,
   "metadata": {
    "collapsed": false
   },
   "outputs": [
    {
     "data": {
      "text/plain": [
       "<matplotlib.axes._subplots.AxesSubplot at 0x7f9119692450>"
      ]
     },
     "execution_count": 18,
     "metadata": {},
     "output_type": "execute_result"
    },
    {
     "data": {
      "image/png": "[encoded data removed]",
      "text/plain": [
       "<matplotlib.figure.Figure at 0x7f911e761490>"
      ]
     },
     "metadata": {},
     "output_type": "display_data"
    }
   ],
   "source": [
    "xgb.plot_importance(bst, importance_type='gain', xlabel='Gain')"
   ]
  },
  {
   "cell_type": "markdown",
   "metadata": {},
   "source": [
    "### Bias-Variance Trade off"
   ]
  },
  {
   "cell_type": "code",
   "execution_count": 18,
   "metadata": {
    "collapsed": true
   },
   "outputs": [],
   "source": [
    "from sklearn.model_selection import validation_curve"
   ]
  },
  {
   "cell_type": "markdown",
   "metadata": {},
   "source": [
    "- use Scikit-learn wrapper,\n",
    "- train the model for different values of trees (`n_estimators`) using stratified 10-fold CV,\n",
    "- plot train/test errors"
   ]
  },
  {
   "cell_type": "code",
   "execution_count": 22,
   "metadata": {
    "collapsed": false
   },
   "outputs": [],
   "source": [
    "# for XGBClassifier\n",
    "default_params = {\n",
    "    'objective': 'multi:softprob',\n",
    "    'max_depth': 2,\n",
    "    'learning_rate': 0.5,\n",
    "    'silent': 1.0\n",
    "}\n",
    "\n",
    "skf = StratifiedKFold(n_splits=10, shuffle=True, random_state=2017)\n",
    "n_estimators_range = np.linspace(1, 200, 10).astype('int')\n",
    "\n",
    "train_scores, test_scores = validation_curve(\n",
    "    XGBClassifier(**default_params),\n",
    "    X, y,\n",
    "    param_name = 'n_estimators',\n",
    "    param_range = n_estimators_range,\n",
    "    cv=skf,\n",
    "    scoring='neg_log_loss'\n",
    ")"
   ]
  },
  {
   "cell_type": "code",
   "execution_count": 23,
   "metadata": {
    "collapsed": false
   },
   "outputs": [
    {
     "data": {
      "image/png": "[encoded data removed]",
      "text/plain": [
       "<matplotlib.figure.Figure at 0x7f2eb1b00b90>"
      ]
     },
     "metadata": {},
     "output_type": "display_data"
    },
    {
     "name": "stdout",
     "output_type": "stream",
     "text": [
      "Best cross-validation result (-0.55) obtained for 200 trees\n"
     ]
    }
   ],
   "source": [
    "train_scores_mean = np.mean(train_scores, axis=1)\n",
    "train_scores_std = np.std(train_scores, axis=1)\n",
    "test_scores_mean = np.mean(test_scores, axis=1)\n",
    "test_scores_std = np.std(test_scores, axis=1)\n",
    "\n",
    "fig = plt.figure(figsize=(10, 6), dpi=100)\n",
    "\n",
    "plt.title(\"Validation Curve with XGBoost (eta = 0.5)\")\n",
    "plt.xlabel(\"number of trees\")\n",
    "plt.ylabel(\"neg_log_loss\")\n",
    "\n",
    "plt.plot(n_estimators_range,\n",
    "             train_scores_mean,\n",
    "             label=\"Training score\",\n",
    "             color=\"r\")\n",
    "\n",
    "plt.plot(n_estimators_range,\n",
    "             test_scores_mean, \n",
    "             label=\"Cross-validation score\",\n",
    "             color=\"g\")\n",
    "\n",
    "plt.fill_between(n_estimators_range, \n",
    "                 train_scores_mean - train_scores_std,\n",
    "                 train_scores_mean + train_scores_std, \n",
    "                 alpha=0.2, color=\"r\")\n",
    "\n",
    "plt.fill_between(n_estimators_range,\n",
    "                 test_scores_mean - test_scores_std,\n",
    "                 test_scores_mean + test_scores_std,\n",
    "                 alpha=0.2, color=\"g\")\n",
    "\n",
    "plt.legend(loc=\"best\")\n",
    "plt.show()\n",
    "\n",
    "i = np.argmax(test_scores_mean)\n",
    "print(\"Best cross-validation result ({0:.2f}) obtained for {1} trees\".format(test_scores_mean[i], n_estimators_range[i]))"
   ]
  },
  {
   "cell_type": "code",
   "execution_count": 43,
   "metadata": {
    "collapsed": true
   },
   "outputs": [],
   "source": [
    "# for XGBClassifier - 파라미터 몇개 빠진듯?\n",
    "default_params = {\n",
    "    'objective': 'multi:softprob',\n",
    "    'max_depth': 3,\n",
    "    'learning_rate': 0.5,\n",
    "    'silent': 1.0,\n",
    "    'colsample_bytree': 0.6,\n",
    "    'subsample': 0.7\n",
    "}\n",
    "\n",
    "skf = StratifiedKFold(n_splits=10, shuffle=True, random_state=2017)\n",
    "n_estimators_range = np.linspace(1, 200, 10).astype('int')\n",
    "\n",
    "train_scores, test_scores = validation_curve(\n",
    "    XGBClassifier(**default_params),\n",
    "    X, y,\n",
    "    param_name = 'n_estimators',\n",
    "    param_range = n_estimators_range,\n",
    "    cv=skf,\n",
    "    scoring='neg_log_loss'\n",
    ")"
   ]
  },
  {
   "cell_type": "code",
   "execution_count": 44,
   "metadata": {
    "collapsed": false
   },
   "outputs": [
    {
     "data": {
      "image/png": "[encoded data removed]",
      "text/plain": [
       "<matplotlib.figure.Figure at 0x7f175ea60350>"
      ]
     },
     "metadata": {},
     "output_type": "display_data"
    },
    {
     "name": "stdout",
     "output_type": "stream",
     "text": [
      "Best cross-validation result (-0.55) obtained for 177 trees\n"
     ]
    }
   ],
   "source": [
    "train_scores_mean = np.mean(train_scores, axis=1)\n",
    "train_scores_std = np.std(train_scores, axis=1)\n",
    "test_scores_mean = np.mean(test_scores, axis=1)\n",
    "test_scores_std = np.std(test_scores, axis=1)\n",
    "\n",
    "fig = plt.figure(figsize=(10, 6), dpi=100)\n",
    "\n",
    "plt.title(\"Validation Curve with XGBoost (eta = 0.5)\")\n",
    "plt.xlabel(\"number of trees\")\n",
    "plt.ylabel(\"neg_log_loss\")\n",
    "\n",
    "plt.plot(n_estimators_range,\n",
    "             train_scores_mean,\n",
    "             label=\"Training score\",\n",
    "             color=\"r\")\n",
    "\n",
    "plt.plot(n_estimators_range,\n",
    "             test_scores_mean, \n",
    "             label=\"Cross-validation score\",\n",
    "             color=\"g\")\n",
    "\n",
    "plt.fill_between(n_estimators_range, \n",
    "                 train_scores_mean - train_scores_std,\n",
    "                 train_scores_mean + train_scores_std, \n",
    "                 alpha=0.2, color=\"r\")\n",
    "\n",
    "plt.fill_between(n_estimators_range,\n",
    "                 test_scores_mean - test_scores_std,\n",
    "                 test_scores_mean + test_scores_std,\n",
    "                 alpha=0.2, color=\"g\")\n",
    "\n",
    "plt.legend(loc=\"best\")\n",
    "plt.show()\n",
    "\n",
    "i = np.argmax(test_scores_mean)\n",
    "print(\"Best cross-validation result ({0:.2f}) obtained for {1} trees\".format(test_scores_mean[i], n_estimators_range[i]))"
   ]
  },
  {
   "cell_type": "markdown",
   "metadata": {},
   "source": [
    "#### Dealing with high variance\n",
    "If model is too complex try:\n",
    "- using less features (ie. feature selection),\n",
    "- using more training samples (ie. artificially generated),\n",
    "- increasing regularization (add penalties for extra complexity)\n",
    "\n",
    "In XGBoost you can try to:\n",
    "- reduce depth of each tree (`max_depth`),\n",
    "- increase `min_child_weight` parameter,\n",
    "- increase `gamma` parameter,\n",
    "- add more randomness using `subsample`, `colsample_bytree` parameters,\n",
    "- increase `lambda` and `alpha` regularization parameters\n",
    "\n",
    "#### Dealing with high bias\n",
    "If model is too simple:\n",
    "- add more features (ie. better feature engineering),\n",
    "- more sophisticated model\n",
    "- decrease regularization\n",
    "\n",
    "In XGBoost you can do it by:\n",
    "- increase depth of each tree (`max_depth`),\n",
    "- decrease `min_child_weight` parameter,\n",
    "- decrease `gamma` parameter,\n",
    "- decrease `lambda` and `alpha` regularization parameters"
   ]
  },
  {
   "cell_type": "markdown",
   "metadata": {},
   "source": [
    "https://xgboost.readthedocs.io/en/latest/parameter.html\n",
    "\n",
    "https://xgboost.readthedocs.io/en/latest/how_to/param_tuning.html"
   ]
  },
  {
   "cell_type": "markdown",
   "metadata": {},
   "source": [
    "Maybe helpful but not checked yet\n",
    "\n",
    "https://www.analyticsvidhya.com/blog/2016/03/complete-guide-parameter-tuning-xgboost-with-codes-python/"
   ]
  },
  {
   "cell_type": "markdown",
   "metadata": {},
   "source": [
    "`min_child_weight` "
   ]
  },
  {
   "cell_type": "markdown",
   "metadata": {},
   "source": [
    "### Hyper-parameter tuning"
   ]
  },
  {
   "cell_type": "markdown",
   "metadata": {},
   "source": [
    "in 1st place winnder's https://github.com/plantsgo/Rental-Listing-Inquiries/blob/master/xgb.py \n",
    "\n",
    "    params = {'booster': 'gbtree',\n",
    "              #'objective': 'multi:softmax',\n",
    "              'objective': 'multi:softprob',\n",
    "              'eval_metric': 'mlogloss',\n",
    "              'gamma': 1,\n",
    "              'min_child_weight': 1.5,\n",
    "              'max_depth': 5,\n",
    "              'lambda': 10,\n",
    "              'subsample': 0.7,\n",
    "              'colsample_bytree': 0.7,\n",
    "              'colsample_bylevel': 0.7,\n",
    "              'eta': 0.03,\n",
    "              'tree_method': 'exact',\n",
    "              'seed': 2017,\n",
    "              'nthread': 12,\n",
    "              \"num_class\":3\n",
    "              }\n",
    "    num_round = 10000\n",
    "    early_stopping_rounds = 50\n",
    "    \n",
    "    watchlist = [(train_matrix, 'train'),\n",
    "                 (test_matrix, 'eval')\n",
    "                 ]\n",
    "    if test_matrix:\n",
    "        model = xgb.train(params, train_matrix, num_boost_round=num_round, evals=watchlist,\n",
    "                      early_stopping_rounds=early_stopping_rounds\n",
    "                      )\n",
    "        pred_test_y = model.predict(test_matrix,ntree_limit=model.best_iteration)\n",
    "        return pred_test_y, model\n",
    "    else:\n",
    "        model = xgb.train(params, train_matrix, num_boost_round=num_round\n",
    "                      )\n",
    "        return model"
   ]
  },
  {
   "cell_type": "markdown",
   "metadata": {},
   "source": [
    "#### Grid-Search"
   ]
  },
  {
   "cell_type": "code",
   "execution_count": 28,
   "metadata": {
    "collapsed": true
   },
   "outputs": [],
   "source": [
    "from sklearn.model_selection import GridSearchCV"
   ]
  },
  {
   "cell_type": "code",
   "execution_count": 24,
   "metadata": {
    "collapsed": true
   },
   "outputs": [],
   "source": [
    "params_grid = {\n",
    "    'max_depth': [1, 2, 3],\n",
    "    'n_estimators': [5, 10, 25, 50],\n",
    "    'learning_rate': np.linspace(1e-16, 1, 3)\n",
    "}"
   ]
  },
  {
   "cell_type": "code",
   "execution_count": 25,
   "metadata": {
    "collapsed": true
   },
   "outputs": [],
   "source": [
    "params_fixed = {\n",
    "    'objective': 'multi:softprob',\n",
    "    'silent': 1\n",
    "}"
   ]
  },
  {
   "cell_type": "code",
   "execution_count": 31,
   "metadata": {
    "collapsed": false
   },
   "outputs": [],
   "source": [
    "skf = StratifiedKFold(n_splits=10, shuffle=True, random_state=2017)\n",
    "\n",
    "bst_grid = GridSearchCV(\n",
    "    estimator=XGBClassifier(**params_fixed),\n",
    "    param_grid=params_grid,\n",
    "    cv=skf,\n",
    "    scoring='neg_log_loss'\n",
    ")"
   ]
  },
  {
   "cell_type": "code",
   "execution_count": 32,
   "metadata": {
    "collapsed": false
   },
   "outputs": [
    {
     "data": {
      "text/plain": [
       "GridSearchCV(cv=StratifiedKFold(n_splits=10, random_state=2017, shuffle=True),\n",
       "       error_score='raise',\n",
       "       estimator=XGBClassifier(base_score=0.5, colsample_bylevel=1, colsample_bytree=1,\n",
       "       gamma=0, learning_rate=0.1, max_delta_step=0, max_depth=3,\n",
       "       min_child_weight=1, missing=None, n_estimators=100, nthread=-1,\n",
       "       objective='multi:softprob', reg_alpha=0, reg_lambda=1,\n",
       "       scale_pos_weight=1, seed=0, silent=1, subsample=1),\n",
       "       fit_params={}, iid=True, n_jobs=1,\n",
       "       param_grid={'n_estimators': [5, 10, 25, 50], 'learning_rate': array([  1.00000e-16,   5.00000e-01,   1.00000e+00]), 'max_depth': [1, 2, 3]},\n",
       "       pre_dispatch='2*n_jobs', refit=True, return_train_score=True,\n",
       "       scoring='neg_log_loss', verbose=0)"
      ]
     },
     "execution_count": 32,
     "metadata": {},
     "output_type": "execute_result"
    }
   ],
   "source": [
    "bst_grid.fit(X, y)"
   ]
  },
  {
   "cell_type": "code",
   "execution_count": 38,
   "metadata": {
    "collapsed": false
   },
   "outputs": [
    {
     "data": {
      "text/plain": [
       "{'learning_rate': 1.0, 'max_depth': 3, 'n_estimators': 50}"
      ]
     },
     "execution_count": 38,
     "metadata": {},
     "output_type": "execute_result"
    }
   ],
   "source": [
    "bst_grid.best_params_"
   ]
  },
  {
   "cell_type": "code",
   "execution_count": 37,
   "metadata": {
    "collapsed": false
   },
   "outputs": [
    {
     "data": {
      "text/plain": [
       "-0.55369701243578895"
      ]
     },
     "execution_count": 37,
     "metadata": {},
     "output_type": "execute_result"
    }
   ],
   "source": [
    "bst_grid.best_score_"
   ]
  },
  {
   "cell_type": "markdown",
   "metadata": {},
   "source": [
    "#### Randomize Grid-Search"
   ]
  },
  {
   "cell_type": "code",
   "execution_count": 31,
   "metadata": {
    "collapsed": true
   },
   "outputs": [],
   "source": [
    "from scipy.stats import randint, uniform\n",
    "from sklearn.model_selection import RandomizedSearchCV"
   ]
  },
  {
   "cell_type": "code",
   "execution_count": 85,
   "metadata": {
    "collapsed": false
   },
   "outputs": [],
   "source": [
    "params_dist_grid = {\n",
    "    'max_depth': [2, 4, 6, 8, 10],\n",
    "    'gamma': [0.5, 1],\n",
    "    'n_estimators': randint(1, 1001), # uniform discrete random distribution\n",
    "    'learning_rate': uniform(), # gaussian distribution\n",
    "    'colsample_bytree': [0.2, 0.4, 0.6, 0.8, 1.]\n",
    "}"
   ]
  },
  {
   "cell_type": "code",
   "execution_count": 86,
   "metadata": {
    "collapsed": true
   },
   "outputs": [],
   "source": [
    "params_fixed = {\n",
    "    'objective': 'multi:softprob',\n",
    "    'subsample': 0.7,\n",
    "    'silent': 1\n",
    "}"
   ]
  },
  {
   "cell_type": "code",
   "execution_count": 87,
   "metadata": {
    "collapsed": false
   },
   "outputs": [],
   "source": [
    "skf = StratifiedKFold(n_splits=10, shuffle=True, random_state=2017)\n",
    "\n",
    "rs_grid = RandomizedSearchCV(\n",
    "    estimator=XGBClassifier(**params_fixed),\n",
    "    param_distributions=params_dist_grid,\n",
    "    n_iter=10,\n",
    "    cv=skf,\n",
    "    scoring='neg_log_loss'\n",
    ")"
   ]
  },
  {
   "cell_type": "code",
   "execution_count": null,
   "metadata": {
    "collapsed": false
   },
   "outputs": [],
   "source": [
    "rs_grid.fit(X, y)"
   ]
  },
  {
   "cell_type": "code",
   "execution_count": 39,
   "metadata": {
    "collapsed": false
   },
   "outputs": [
    {
     "data": {
      "text/plain": [
       "{'colsample_bytree': 0.3148797781637962,\n",
       " 'gamma': 1,\n",
       " 'learning_rate': 0.12970797503948339,\n",
       " 'max_depth': 2,\n",
       " 'n_estimators': 666,\n",
       " 'subsample': 0.61471163233607695}"
      ]
     },
     "execution_count": 39,
     "metadata": {},
     "output_type": "execute_result"
    }
   ],
   "source": [
    "rs_grid.best_params_"
   ]
  },
  {
   "cell_type": "code",
   "execution_count": 40,
   "metadata": {
    "collapsed": false
   },
   "outputs": [
    {
     "data": {
      "text/plain": [
       "-0.55063645940816919"
      ]
     },
     "execution_count": 40,
     "metadata": {},
     "output_type": "execute_result"
    }
   ],
   "source": [
    "rs_grid.best_score_"
   ]
  },
  {
   "cell_type": "markdown",
   "metadata": {},
   "source": [
    "### Evaluate results"
   ]
  },
  {
   "cell_type": "markdown",
   "metadata": {},
   "source": [
    "### Deal with missing values"
   ]
  },
  {
   "cell_type": "markdown",
   "metadata": {},
   "source": [
    "### Handle imbalanced Datasets"
   ]
  },
  {
   "cell_type": "markdown",
   "metadata": {},
   "source": [
    "#### General advices<a name='generaladvices' />\n",
    "These are some common tactics when approaching imbalanced datasets:\n",
    "\n",
    "- collect more data,\n",
    "- use better evaluation metric (that notices mistakes - ie. AUC, F1, Kappa, ...),\n",
    "- try oversampling minority class or undersampling majority class,\n",
    "- generate artificial samples of minority class (ie. SMOTE algorithm)\n",
    "\n",
    "In XGBoost you can try to:\n",
    "- make sure that parameter `min_child_weight` is small (because leaf nodes can have smaller size groups), it is set to `min_child_weight=1` by default,\n",
    "- assign more weights to specific samples while initalizing `DMatrix`,\n",
    "- control the balance of positive and negative weights  using `set_pos_weight` parameter,\n",
    "- use AUC for evaluation"
   ]
  },
  {
   "cell_type": "code",
   "execution_count": 56,
   "metadata": {
    "collapsed": true
   },
   "outputs": [],
   "source": [
    "from sklearn.model_selection import train_test_split\n",
    "from sklearn.metrics import accuracy_score, precision_score, recall_score"
   ]
  },
  {
   "cell_type": "code",
   "execution_count": 43,
   "metadata": {
    "collapsed": true
   },
   "outputs": [],
   "source": [
    "X_train, X_test, y_train, y_test = train_test_split(X, y, test_size=0.33, stratify=y)"
   ]
  },
  {
   "cell_type": "code",
   "execution_count": 46,
   "metadata": {
    "collapsed": false
   },
   "outputs": [
    {
     "data": {
      "text/plain": [
       "(array([ 0.,  1.,  2.]), array([22970,  7523,  2572]))"
      ]
     },
     "execution_count": 46,
     "metadata": {},
     "output_type": "execute_result"
    }
   ],
   "source": [
    "np.unique(y_train, return_counts=True)"
   ]
  },
  {
   "cell_type": "code",
   "execution_count": 50,
   "metadata": {
    "collapsed": false
   },
   "outputs": [],
   "source": [
    "params = {\n",
    "    'max_depth': 2,\n",
    "    'gamma': 1,\n",
    "    'n_estimators': 500,\n",
    "    'learning_rate': 0.2,\n",
    "    'subsample': 0.6,\n",
    "    'colsample_bytree': 0.3\n",
    "}"
   ]
  },
  {
   "cell_type": "code",
   "execution_count": 52,
   "metadata": {
    "collapsed": true
   },
   "outputs": [],
   "source": [
    "bst = XGBClassifier(**params).fit(X_train, y_train)\n",
    "y_test_preds = bst.predict(X_test)"
   ]
  },
  {
   "cell_type": "code",
   "execution_count": 55,
   "metadata": {
    "collapsed": false
   },
   "outputs": [
    {
     "data": {
      "text/html": [
       "<div>\n",
       "<table border=\"1\" class=\"dataframe\">\n",
       "  <thead>\n",
       "    <tr style=\"text-align: right;\">\n",
       "      <th>Predicted</th>\n",
       "      <th>0.0</th>\n",
       "      <th>1.0</th>\n",
       "      <th>2.0</th>\n",
       "      <th>All</th>\n",
       "    </tr>\n",
       "    <tr>\n",
       "      <th>Actual</th>\n",
       "      <th></th>\n",
       "      <th></th>\n",
       "      <th></th>\n",
       "      <th></th>\n",
       "    </tr>\n",
       "  </thead>\n",
       "  <tbody>\n",
       "    <tr>\n",
       "      <th>0.0</th>\n",
       "      <td>10432</td>\n",
       "      <td>829</td>\n",
       "      <td>53</td>\n",
       "      <td>11314</td>\n",
       "    </tr>\n",
       "    <tr>\n",
       "      <th>1.0</th>\n",
       "      <td>2018</td>\n",
       "      <td>1500</td>\n",
       "      <td>188</td>\n",
       "      <td>3706</td>\n",
       "    </tr>\n",
       "    <tr>\n",
       "      <th>2.0</th>\n",
       "      <td>295</td>\n",
       "      <td>626</td>\n",
       "      <td>346</td>\n",
       "      <td>1267</td>\n",
       "    </tr>\n",
       "    <tr>\n",
       "      <th>All</th>\n",
       "      <td>12745</td>\n",
       "      <td>2955</td>\n",
       "      <td>587</td>\n",
       "      <td>16287</td>\n",
       "    </tr>\n",
       "  </tbody>\n",
       "</table>\n",
       "</div>"
      ],
      "text/plain": [
       "Predicted    0.0   1.0  2.0    All\n",
       "Actual                            \n",
       "0.0        10432   829   53  11314\n",
       "1.0         2018  1500  188   3706\n",
       "2.0          295   626  346   1267\n",
       "All        12745  2955  587  16287"
      ]
     },
     "execution_count": 55,
     "metadata": {},
     "output_type": "execute_result"
    }
   ],
   "source": [
    "pd.crosstab(\n",
    "    pd.Series(y_test, name='Actual'),\n",
    "    pd.Series(y_test_preds, name='Predicted'),\n",
    "    margins=True\n",
    ")"
   ]
  },
  {
   "cell_type": "code",
   "execution_count": 59,
   "metadata": {
    "collapsed": false
   },
   "outputs": [
    {
     "name": "stdout",
     "output_type": "stream",
     "text": [
      "Accuracy: 0.75\n",
      "Precision: 0.64\n",
      "Recall: 0.53\n"
     ]
    }
   ],
   "source": [
    "print('Accuracy: {0:.2f}'.format(accuracy_score(y_test, y_test_preds)))\n",
    "print('Precision: {0:.2f}'.format(precision_score(y_test, y_test_preds, average='macro')))\n",
    "print('Recall: {0:.2f}'.format(recall_score(y_test, y_test_preds, average='macro')))"
   ]
  },
  {
   "cell_type": "markdown",
   "metadata": {},
   "source": [
    "How to use `scale_pos_weight` for multi class classification?? -> it is for `binary classification`\n",
    "https://datascience.stackexchange.com/questions/16342/unbalanced-multiclass-data-with-xgboost/18823\n",
    "\n",
    "by using sample_weight, we can specify weight.\n",
    "http://stackoverflow.com/questions/42192227/xgboost-python-classifier-class-weight-option"
   ]
  },
  {
   "cell_type": "code",
   "execution_count": 70,
   "metadata": {
    "collapsed": false
   },
   "outputs": [],
   "source": [
    "sample_weights = np.unique(y_train, return_counts=True)[1] * 1.0 / y_train.shape[0] * 1.0"
   ]
  },
  {
   "cell_type": "code",
   "execution_count": 71,
   "metadata": {
    "collapsed": false
   },
   "outputs": [
    {
     "data": {
      "text/plain": [
       "array([ 0.69469227,  0.22752155,  0.07778618])"
      ]
     },
     "execution_count": 71,
     "metadata": {},
     "output_type": "execute_result"
    }
   ],
   "source": [
    "sample_weights"
   ]
  },
  {
   "cell_type": "code",
   "execution_count": 72,
   "metadata": {
    "collapsed": true
   },
   "outputs": [],
   "source": [
    "bst = XGBClassifier(**params).fit(X_train, y_train, sample_weight=sample_weights)\n",
    "y_test_preds = bst.predict(X_test)"
   ]
  },
  {
   "cell_type": "code",
   "execution_count": 73,
   "metadata": {
    "collapsed": false
   },
   "outputs": [
    {
     "data": {
      "text/html": [
       "<div>\n",
       "<table border=\"1\" class=\"dataframe\">\n",
       "  <thead>\n",
       "    <tr style=\"text-align: right;\">\n",
       "      <th>Predicted</th>\n",
       "      <th>0.0</th>\n",
       "      <th>All</th>\n",
       "    </tr>\n",
       "    <tr>\n",
       "      <th>Actual</th>\n",
       "      <th></th>\n",
       "      <th></th>\n",
       "    </tr>\n",
       "  </thead>\n",
       "  <tbody>\n",
       "    <tr>\n",
       "      <th>0.0</th>\n",
       "      <td>11314</td>\n",
       "      <td>11314</td>\n",
       "    </tr>\n",
       "    <tr>\n",
       "      <th>1.0</th>\n",
       "      <td>3706</td>\n",
       "      <td>3706</td>\n",
       "    </tr>\n",
       "    <tr>\n",
       "      <th>2.0</th>\n",
       "      <td>1267</td>\n",
       "      <td>1267</td>\n",
       "    </tr>\n",
       "    <tr>\n",
       "      <th>All</th>\n",
       "      <td>16287</td>\n",
       "      <td>16287</td>\n",
       "    </tr>\n",
       "  </tbody>\n",
       "</table>\n",
       "</div>"
      ],
      "text/plain": [
       "Predicted    0.0    All\n",
       "Actual                 \n",
       "0.0        11314  11314\n",
       "1.0         3706   3706\n",
       "2.0         1267   1267\n",
       "All        16287  16287"
      ]
     },
     "execution_count": 73,
     "metadata": {},
     "output_type": "execute_result"
    }
   ],
   "source": [
    "pd.crosstab(\n",
    "    pd.Series(y_test, name='Actual'),\n",
    "    pd.Series(y_test_preds, name='Predicted'),\n",
    "    margins=True\n",
    ")"
   ]
  },
  {
   "cell_type": "code",
   "execution_count": 74,
   "metadata": {
    "collapsed": false
   },
   "outputs": [
    {
     "name": "stdout",
     "output_type": "stream",
     "text": [
      "Accuracy: 0.69\n",
      "Precision: 0.23\n",
      "Recall: 0.33\n"
     ]
    }
   ],
   "source": [
    "print('Accuracy: {0:.2f}'.format(accuracy_score(y_test, y_test_preds)))\n",
    "print('Precision: {0:.2f}'.format(precision_score(y_test, y_test_preds, average='macro')))\n",
    "print('Recall: {0:.2f}'.format(recall_score(y_test, y_test_preds, average='macro')))"
   ]
  },
  {
   "cell_type": "markdown",
   "metadata": {},
   "source": [
    "dont know how to apply sample_weights,,"
   ]
  },
  {
   "cell_type": "markdown",
   "metadata": {},
   "source": [
    "Maybe able to use xgboost with GPU\n",
    "https://github.com/dmlc/xgboost/blob/master/plugin/updater_gpu/README.md"
   ]
  }
 ],
 "metadata": {
  "anaconda-cloud": {},
  "kernelspec": {
   "display_name": "Python [conda root]",
   "language": "python",
   "name": "conda-root-py"
  },
  "language_info": {
   "codemirror_mode": {
    "name": "ipython",
    "version": 2
   },
   "file_extension": ".py",
   "mimetype": "text/x-python",
   "name": "python",
   "nbconvert_exporter": "python",
   "pygments_lexer": "ipython2",
   "version": "2.7.12"
  }
 },
 "nbformat": 4,
 "nbformat_minor": 0
}
