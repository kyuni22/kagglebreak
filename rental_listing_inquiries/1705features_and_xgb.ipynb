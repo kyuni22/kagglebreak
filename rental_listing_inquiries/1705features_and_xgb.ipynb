{
 "cells": [
  {
   "cell_type": "markdown",
   "metadata": {},
   "source": [
    "먼저 Feature들을 하나씩 만든다.\n",
    "그리고 xgboost를 강의 내용을 따라하면서 튜닝해서 만들어본다.\n",
    "\n",
    "https://github.com/KaggleBreak/walkingkaggle/blob/master/rental_listing/rental_listing_0422.ipynb"
   ]
  },
  {
   "cell_type": "markdown",
   "metadata": {},
   "source": [
    "## Features & Issues"
   ]
  },
  {
   "cell_type": "markdown",
   "metadata": {},
   "source": [
    "list all features\n",
    "  * Numerical data\n",
    "    * price\n",
    "    * price_per_bedrooms: price / bedrooms\n",
    "    * bathrooms\n",
    "    * bedrooms\n",
    "    * room_sum: bedrooms + bathrooms\n",
    "    * num_priceXroom: price / (1 + bedrooms + 0.5*bathrooms) -> https://www.kaggle.com/arnaldcat/two-sigma-connect-rental-listing-inquiries/a-proxy-for-sqft-and-the-interest-on-1-2-baths 참고했다고 한다. \n",
    "    * latitude\n",
    "    * longitude\n",
    "    * dist_from_center: sqrt((latitude-latitude.median())**2 + (longitude - longitude.median()) & apply precision \n",
    "    * num_photos: apply len to photos list\n",
    "    * num_features: apply len to features list\n",
    "    * num_description_words: apply split(\" \") to description\n",
    "    * building_avg_score\n",
    "    * building_frequency\n",
    "    * manager_avg_score\n",
    "    * manager_frequency\n",
    "    * created: Neural Network 파트에서 weekday, weekofyear로 변환해서 사용. **시간도 의미가 있었는데** 이걸 사용할 필요성 있을듯?\n",
    "  * Categorical data\n",
    "    * display_address\n",
    "   \n",
    "    \n",
    "raw data but not used for feature\n",
    "  * listing_id -> 이건 created 별로 scaling을 해서 쓰는게 맞다고 보는데. categorical로 할 필요가 없을 듯.\n",
    "  * manager_id, building_id는 각각 평균 score와 빈도로 numerical data로 바꿨는데 또 추가할 필요가 있을까?\n",
    "  * steet_address는 할 필요 없고 display_address로만 하는것이 좋을 듯. 동네만 알면 되지 번지까지 할 필욘 없으니깐."
   ]
  },
  {
   "cell_type": "markdown",
   "metadata": {},
   "source": [
    "Features related issues\n",
    "  * interest_level의 대부분이 low이고 high가 적기 때문에 클래스간 비율을 위해 oversampling / undersampling이 필요할 듯\n",
    "  * interest_level의 Numerical incoding이 필요할까? -> low, medium, high이기 때문에 0, 1, 2를 적용하는 것은 합리적이긴 함.\n",
    "  * tfidf 팩터화..가 뭘까? 뭔가 stop words를 제외시키는 작업인 듯 한데.\n",
    "  * outlier들: price, bedrooms, bathrooms, longitude, latitude 처리 필요성 -> pandas의 clip을 사용하면 아웃라이어들을 특정한 값으로 지정 가능.\n",
    "  * dist_from_center의 precision을 적용, 일정구역을 같은 값으로 설정한 후에 density도 구하던데, 이게 feature로 유용할지 잘 모르겠어서 일단 제외.\n",
    "  * Neural Network 파트에서 building_id와 manager_id에 대해 supervised를 계산하는데 이게 뭔지 잘 모르겠음. frequency는 알것는데. 이거 확인해보고 feature에 넣어주는 걸 고려\n",
    "  * Neural Network 파트에서 price를 digitize를 한다. 뭐하는건지 확인.\n",
    "  * Neural Network 파트에서 0.5 단위 bathrooms를 num_even_bathrooms로 처리를 해주는데 어떻게 넣어줬는지 잘 모르겠음.\n",
    "  * Neural Network 파트에서 특정 단어들에 대해서 몇번 나왔는지 체크하는 것도 feature로 사용한듯 보인다. "
   ]
  },
  {
   "cell_type": "markdown",
   "metadata": {},
   "source": [
    "XGBoost related issues\n",
    "  * change data to fit on XGB\n",
    "  * XGB는 아웃라이어에 대해 영향을 덜 받을까?"
   ]
  },
  {
   "cell_type": "markdown",
   "metadata": {},
   "source": [
    "sklearn에서는 DataFrameMapper로 StandardScaler를 사용할 수 있는 듯. -> 이거 볼 필요성은 있겠다. "
   ]
  },
  {
   "cell_type": "code",
   "execution_count": 1,
   "metadata": {
    "collapsed": true
   },
   "outputs": [],
   "source": [
    "%matplotlib inline\n",
    "import matplotlib.pyplot as plt\n",
    "import seaborn as sns"
   ]
  },
  {
   "cell_type": "code",
   "execution_count": 2,
   "metadata": {
    "collapsed": true
   },
   "outputs": [],
   "source": [
    "import numpy as np\n",
    "import pandas as pd"
   ]
  },
  {
   "cell_type": "code",
   "execution_count": 3,
   "metadata": {
    "collapsed": true
   },
   "outputs": [],
   "source": [
    "train = pd.read_json('./data/train.json')\n",
    "test = pd.read_json('./data/test.json')"
   ]
  },
  {
   "cell_type": "code",
   "execution_count": 4,
   "metadata": {
    "collapsed": false
   },
   "outputs": [
    {
     "data": {
      "text/html": [
       "<div>\n",
       "<table border=\"1\" class=\"dataframe\">\n",
       "  <thead>\n",
       "    <tr style=\"text-align: right;\">\n",
       "      <th></th>\n",
       "      <th>bathrooms</th>\n",
       "      <th>bedrooms</th>\n",
       "      <th>building_id</th>\n",
       "      <th>created</th>\n",
       "      <th>description</th>\n",
       "      <th>display_address</th>\n",
       "      <th>features</th>\n",
       "      <th>interest_level</th>\n",
       "      <th>latitude</th>\n",
       "      <th>listing_id</th>\n",
       "      <th>longitude</th>\n",
       "      <th>manager_id</th>\n",
       "      <th>photos</th>\n",
       "      <th>price</th>\n",
       "      <th>street_address</th>\n",
       "    </tr>\n",
       "  </thead>\n",
       "  <tbody>\n",
       "    <tr>\n",
       "      <th>9999</th>\n",
       "      <td>1.0</td>\n",
       "      <td>2</td>\n",
       "      <td>297160caf8a88c10718b492d4672c6b4</td>\n",
       "      <td>2016-06-02 05:41:05</td>\n",
       "      <td>30TH/3RD, MASSIVE CONV 2BR IN LUXURY FULL SERV...</td>\n",
       "      <td>E 30 St</td>\n",
       "      <td>[Elevator, Laundry in Building, Laundry in Uni...</td>\n",
       "      <td>medium</td>\n",
       "      <td>40.7426</td>\n",
       "      <td>7098690</td>\n",
       "      <td>-73.9790</td>\n",
       "      <td>2a1ee03b449700c3a15dd8c9a505c525</td>\n",
       "      <td>[https://photos.renthop.com/2/7098690_18396d32...</td>\n",
       "      <td>3200</td>\n",
       "      <td>230 E 30 St</td>\n",
       "    </tr>\n",
       "    <tr>\n",
       "      <th>99991</th>\n",
       "      <td>1.0</td>\n",
       "      <td>1</td>\n",
       "      <td>9e871ccfea7b07686c101548ca693af6</td>\n",
       "      <td>2016-04-04 18:22:34</td>\n",
       "      <td>HIGH END condo finishes, swimming pool, and ki...</td>\n",
       "      <td>Rector Pl</td>\n",
       "      <td>[Common Outdoor Space, Cats Allowed, Dogs Allo...</td>\n",
       "      <td>low</td>\n",
       "      <td>40.7102</td>\n",
       "      <td>6822449</td>\n",
       "      <td>-74.0163</td>\n",
       "      <td>ef20d40b528500037e37b167787ac089</td>\n",
       "      <td>[https://photos.renthop.com/2/6822449_b429587b...</td>\n",
       "      <td>3950</td>\n",
       "      <td>225 Rector Place</td>\n",
       "    </tr>\n",
       "    <tr>\n",
       "      <th>99992</th>\n",
       "      <td>1.0</td>\n",
       "      <td>1</td>\n",
       "      <td>7967a1280bf3f7644500fc79d2696b0e</td>\n",
       "      <td>2016-04-16 02:13:40</td>\n",
       "      <td>Large Renovated One Bedroom Apartment with Sta...</td>\n",
       "      <td>West 45th Street</td>\n",
       "      <td>[Doorman, Elevator, Pre-War, Dogs Allowed, Cat...</td>\n",
       "      <td>low</td>\n",
       "      <td>40.7601</td>\n",
       "      <td>6881461</td>\n",
       "      <td>-73.9900</td>\n",
       "      <td>d889a9552265fe359e7d36d172084fcb</td>\n",
       "      <td>[https://photos.renthop.com/2/6881461_20a86530...</td>\n",
       "      <td>2595</td>\n",
       "      <td>341 West 45th Street</td>\n",
       "    </tr>\n",
       "    <tr>\n",
       "      <th>99993</th>\n",
       "      <td>1.0</td>\n",
       "      <td>0</td>\n",
       "      <td>ad67f6181a49bde19218929b401b31b7</td>\n",
       "      <td>2016-04-08 02:13:33</td>\n",
       "      <td>Stylishly sleek studio apartment with unsurpas...</td>\n",
       "      <td>Wall Street</td>\n",
       "      <td>[Doorman, Elevator, Pre-War, Dogs Allowed, Cat...</td>\n",
       "      <td>low</td>\n",
       "      <td>40.7066</td>\n",
       "      <td>6841891</td>\n",
       "      <td>-74.0101</td>\n",
       "      <td>9fd3af5b2d23951e028059e8940a55d7</td>\n",
       "      <td>[https://photos.renthop.com/2/6841891_124c9c44...</td>\n",
       "      <td>3350</td>\n",
       "      <td>37 Wall Street</td>\n",
       "    </tr>\n",
       "    <tr>\n",
       "      <th>99994</th>\n",
       "      <td>1.0</td>\n",
       "      <td>2</td>\n",
       "      <td>5173052db6efc0caaa4d817112a70f32</td>\n",
       "      <td>2016-04-12 02:48:07</td>\n",
       "      <td>Look no further!!!  This giant 2 bedroom apart...</td>\n",
       "      <td>Park Terrace East</td>\n",
       "      <td>[Hardwood Floors]</td>\n",
       "      <td>low</td>\n",
       "      <td>40.8699</td>\n",
       "      <td>6858245</td>\n",
       "      <td>-73.9172</td>\n",
       "      <td>d7f57128272bfd82e33a61999b5f4c42</td>\n",
       "      <td>[https://photos.renthop.com/2/6858245_c4380bde...</td>\n",
       "      <td>2200</td>\n",
       "      <td>30 Park Terrace East</td>\n",
       "    </tr>\n",
       "  </tbody>\n",
       "</table>\n",
       "</div>"
      ],
      "text/plain": [
       "       bathrooms  bedrooms                       building_id  \\\n",
       "9999         1.0         2  297160caf8a88c10718b492d4672c6b4   \n",
       "99991        1.0         1  9e871ccfea7b07686c101548ca693af6   \n",
       "99992        1.0         1  7967a1280bf3f7644500fc79d2696b0e   \n",
       "99993        1.0         0  ad67f6181a49bde19218929b401b31b7   \n",
       "99994        1.0         2  5173052db6efc0caaa4d817112a70f32   \n",
       "\n",
       "                   created                                        description  \\\n",
       "9999   2016-06-02 05:41:05  30TH/3RD, MASSIVE CONV 2BR IN LUXURY FULL SERV...   \n",
       "99991  2016-04-04 18:22:34  HIGH END condo finishes, swimming pool, and ki...   \n",
       "99992  2016-04-16 02:13:40  Large Renovated One Bedroom Apartment with Sta...   \n",
       "99993  2016-04-08 02:13:33  Stylishly sleek studio apartment with unsurpas...   \n",
       "99994  2016-04-12 02:48:07  Look no further!!!  This giant 2 bedroom apart...   \n",
       "\n",
       "         display_address                                           features  \\\n",
       "9999             E 30 St  [Elevator, Laundry in Building, Laundry in Uni...   \n",
       "99991          Rector Pl  [Common Outdoor Space, Cats Allowed, Dogs Allo...   \n",
       "99992   West 45th Street  [Doorman, Elevator, Pre-War, Dogs Allowed, Cat...   \n",
       "99993        Wall Street  [Doorman, Elevator, Pre-War, Dogs Allowed, Cat...   \n",
       "99994  Park Terrace East                                  [Hardwood Floors]   \n",
       "\n",
       "      interest_level  latitude  listing_id  longitude  \\\n",
       "9999          medium   40.7426     7098690   -73.9790   \n",
       "99991            low   40.7102     6822449   -74.0163   \n",
       "99992            low   40.7601     6881461   -73.9900   \n",
       "99993            low   40.7066     6841891   -74.0101   \n",
       "99994            low   40.8699     6858245   -73.9172   \n",
       "\n",
       "                             manager_id  \\\n",
       "9999   2a1ee03b449700c3a15dd8c9a505c525   \n",
       "99991  ef20d40b528500037e37b167787ac089   \n",
       "99992  d889a9552265fe359e7d36d172084fcb   \n",
       "99993  9fd3af5b2d23951e028059e8940a55d7   \n",
       "99994  d7f57128272bfd82e33a61999b5f4c42   \n",
       "\n",
       "                                                  photos  price  \\\n",
       "9999   [https://photos.renthop.com/2/7098690_18396d32...   3200   \n",
       "99991  [https://photos.renthop.com/2/6822449_b429587b...   3950   \n",
       "99992  [https://photos.renthop.com/2/6881461_20a86530...   2595   \n",
       "99993  [https://photos.renthop.com/2/6841891_124c9c44...   3350   \n",
       "99994  [https://photos.renthop.com/2/6858245_c4380bde...   2200   \n",
       "\n",
       "             street_address  \n",
       "9999            230 E 30 St  \n",
       "99991      225 Rector Place  \n",
       "99992  341 West 45th Street  \n",
       "99993        37 Wall Street  \n",
       "99994  30 Park Terrace East  "
      ]
     },
     "execution_count": 4,
     "metadata": {},
     "output_type": "execute_result"
    }
   ],
   "source": [
    "train.tail()"
   ]
  },
  {
   "cell_type": "markdown",
   "metadata": {},
   "source": [
    "### Numerical Features"
   ]
  },
  {
   "cell_type": "markdown",
   "metadata": {},
   "source": [
    "* price\n",
    "* price_per_bedrooms: price / bedrooms\n",
    "* bathrooms\n",
    "* bedrooms\n",
    "* room_sum: bedrooms + bathrooms\n",
    "* num_priceXroom: price / (1 + bedrooms + 0.5*bathrooms) -> https://www.kaggle.com/arnaldcat/two-sigma-connect-rental-listing-inquiries/a-proxy-for-sqft-and-the-interest-on-1-2-baths 참고했다고 한다. \n",
    "* latitude\n",
    "* longitude\n",
    "* dist_from_center: sqrt((latitude-latitude.median())**2 + (longitude - longitude.median()) & apply precision \n",
    "* num_photos: apply len to photos list\n",
    "* num_features: apply len to features list\n",
    "* num_description_words: apply split(\" \") to description\n",
    "* building_avg_score\n",
    "* building_frequency\n",
    "* manager_avg_score\n",
    "* manager_frequency\n",
    "* created: Neural Network 파트에서 weekday, weekofyear로 변환해서 사용."
   ]
  },
  {
   "cell_type": "code",
   "execution_count": 5,
   "metadata": {
    "collapsed": false
   },
   "outputs": [],
   "source": [
    "# numerical encoding of target value\n",
    "train.loc[:, 'interest_level_in_num'] = 0.0\n",
    "train.loc[train.loc[:, 'interest_level'] == 'medium', 'interest_level_in_num'] = 1.0\n",
    "train.loc[train.loc[:, 'interest_level'] == 'high', 'interest_level_in_num'] = 2.0\n",
    "\n",
    "# making derivated features for train data\n",
    "train.loc[:, 'price_per_bedrooms'] = train.loc[:, 'price'] / train.loc[:, 'bedrooms']\n",
    "# https://www.kaggle.com/arnaldcat/two-sigma-connect-rental-listing-inquiries/a-proxy-for-sqft-and-the-interest-on-1-2-baths\n",
    "train.loc[:, 'priceXroom'] = (train.loc[:, 'price'] / (1. + train.loc[:, 'bedrooms'].clip(1, 4) + \\\n",
    "                                                       0.5*train.loc[:, 'bathrooms'].clip(0, 2)))\n",
    "train.loc[:, 'room_sum'] = train.loc[:, 'bedrooms'] + train.loc[:, 'bathrooms']\n",
    "train.loc[:, 'dist_from_center'] = np.sqrt((train.loc[:, 'latitude'] - train.loc[:, 'latitude'].median())**2 + \\\n",
    "                                           (train.loc[:, 'longitude'] - train.loc[:, 'longitude'].median())**2)\n",
    "train.loc[:, 'num_photos'] = train.loc[:, 'photos'].apply(len)\n",
    "train.loc[:, 'num_features'] = train.loc[:, 'features'].apply(len)\n",
    "# maybe better to exclude 'stop words' by using tfid??\n",
    "train.loc[:, 'num_description_words'] = train.loc[:, 'description'].apply(lambda x: len(x.split(\" \")))\n",
    "\n",
    "# apply scores depends on building id and manager id\n",
    "b_id_freq_th = 15. # frequency threshold for assigning building id interest level in num score\n",
    "m_id_freq_th = 15. # frequency threshold for assigning manager id interest level in num score\n",
    "\n",
    "grouped = train.groupby('building_id')['interest_level_in_num'].aggregate(['count', 'mean'])\n",
    "tmp_dic = grouped.loc[grouped.loc[:, 'count'] > b_id_freq_th, 'mean'].to_dict()\n",
    "tmp_avg = train.loc[:, 'interest_level_in_num'].mean()\n",
    "train.loc[:, 'building_avg_score'] = train.loc[:, 'building_id'].apply(lambda x: tmp_dic.get(x, tmp_avg))\n",
    "test.loc[:, 'building_avg_score'] = test.loc[:, 'building_id'].apply(lambda x: tmp_dic.get(x, tmp_avg)) # using train data\n",
    "\n",
    "tmp_dic = train.loc[:, 'building_id'].value_counts().to_dict()\n",
    "tmp_avg = train.loc[:, 'building_id'].value_counts().min()\n",
    "train.loc[:, 'building_frequency'] = train.loc[:, 'building_id'].apply(lambda x: tmp_dic.get(x, tmp_avg))\n",
    "test.loc[:, 'building_frequency'] = test.loc[:, 'building_id'].apply(lambda x: tmp_dic.get(x, tmp_avg)) # using train data\n",
    "\n",
    "grouped = train.groupby('manager_id')['interest_level_in_num'].aggregate(['count', 'mean'])\n",
    "tmp_dic = grouped.loc[grouped.loc[:, 'count'] > m_id_freq_th, 'mean'].to_dict()\n",
    "tmp_avg = train.loc[:, 'interest_level_in_num'].mean()\n",
    "train.loc[:, 'manager_avg_score'] = train.loc[:, 'manager_id'].apply(lambda x: tmp_dic.get(x, tmp_avg))\n",
    "test.loc[:, 'manager_avg_score'] = test.loc[:, 'manager_id'].apply(lambda x: tmp_dic.get(x, tmp_avg)) # using train data\n",
    "\n",
    "tmp_dic = train.loc[:, 'manager_id'].value_counts().to_dict()\n",
    "tmp_avg = train.loc[:, 'manager_id'].value_counts().min()\n",
    "train.loc[:, 'manager_frequency'] = train.loc[:, 'manager_id'].apply(lambda x: tmp_dic.get(x, tmp_avg))\n",
    "test.loc[:, 'manager_frequency'] = test.loc[:, 'manager_id'].apply(lambda x: tmp_dic.get(x, tmp_avg)) # using train data\n",
    "\n",
    "# created\n",
    "train.loc[:, 'created'] = pd.to_datetime(train.loc[:, 'created'])\n",
    "train.loc[:, 'dayofweek'] = train.loc[:, 'created'].dt.dayofweek\n",
    "train.loc[:, 'weekofyear'] = train.loc[:, 'created'].dt.weekofyear"
   ]
  },
  {
   "cell_type": "code",
   "execution_count": 6,
   "metadata": {
    "collapsed": false
   },
   "outputs": [],
   "source": [
    "# making derivated features for test data\n",
    "test.loc[:, 'price_per_bedrooms'] = test.loc[:, 'price'] / test.loc[:, 'bedrooms']\n",
    "# https://www.kaggle.com/arnaldcat/two-sigma-connect-rental-listing-inquiries/a-proxy-for-sqft-and-the-interest-on-1-2-baths\n",
    "test.loc[:, 'priceXroom'] = (test.loc[:, 'price'] / (1. + test.loc[:, 'bedrooms'].clip(1, 4) + \\\n",
    "                                                       0.5*test.loc[:, 'bathrooms'].clip(0, 2)))\n",
    "test.loc[:, 'room_sum'] = test.loc[:, 'bedrooms'] + test.loc[:, 'bathrooms']\n",
    "test.loc[:, 'dist_from_center'] = np.sqrt((test.loc[:, 'latitude'] - test.loc[:, 'latitude'].median())**2 + \\\n",
    "                                           (test.loc[:, 'longitude'] - test.loc[:, 'longitude'].median())**2)\n",
    "test.loc[:, 'num_photos'] = test.loc[:, 'photos'].apply(len)\n",
    "test.loc[:, 'num_features'] = test.loc[:, 'features'].apply(len)\n",
    "# maybe better to exclude 'stop words' by using tfid??\n",
    "test.loc[:, 'num_description_words'] = test.loc[:, 'description'].apply(lambda x: len(x.split(\" \")))\n",
    "\n",
    "# created\n",
    "test.loc[:, 'created'] = pd.to_datetime(test.loc[:, 'created'])\n",
    "test.loc[:, 'dayofweek'] = test.loc[:, 'created'].dt.dayofweek\n",
    "test.loc[:, 'weekofyear'] = test.loc[:, 'created'].dt.weekofyear"
   ]
  },
  {
   "cell_type": "markdown",
   "metadata": {
    "collapsed": true
   },
   "source": [
    "### Categorical Features"
   ]
  },
  {
   "cell_type": "markdown",
   "metadata": {},
   "source": [
    "* display_address\n",
    "\n",
    "제외\n",
    "* listing_id -> 이건 created 별로 scaling을 해서 쓰는게 맞다고 보는데. categorical로 할 필요가 없을 듯.\n",
    "* manager_id, building_id는 각각 평균 score와 빈도로 numerical data로 바꿨는데 또 추가할 필요가 있을까?\n",
    "* steet_address는 할 필요 없고 display_address로만 하는것이 좋을 듯. 동네만 알면 되지 번지까지 할 필욘 없으니깐."
   ]
  },
  {
   "cell_type": "markdown",
   "metadata": {},
   "source": [
    "Issues\n",
    "* 근데 encoding을 LabelEncoder로 하는게 맞나? OneHotEncoder로 해야 맞는거 아닌가?"
   ]
  },
  {
   "cell_type": "code",
   "execution_count": 7,
   "metadata": {
    "collapsed": true
   },
   "outputs": [],
   "source": [
    "from sklearn import preprocessing"
   ]
  },
  {
   "cell_type": "code",
   "execution_count": 8,
   "metadata": {
    "collapsed": true
   },
   "outputs": [],
   "source": [
    "le = preprocessing.LabelEncoder()\n",
    "le.fit(np.append(train.loc[:, 'display_address'].values, test.loc[:, 'display_address'].values))\n",
    "train.loc[:, 'le_display_address'] = le.transform(train.loc[:, 'display_address'].values)\n",
    "test.loc[:, 'le_display_address'] = le.transform(test.loc[:, 'display_address'].values)"
   ]
  },
  {
   "cell_type": "code",
   "execution_count": 9,
   "metadata": {
    "collapsed": false
   },
   "outputs": [
    {
     "data": {
      "text/plain": [
       "9999      9577\n",
       "99991    12864\n",
       "99992    15306\n",
       "99993    14850\n",
       "99994    12707\n",
       "Name: le_display_address, dtype: int64"
      ]
     },
     "execution_count": 9,
     "metadata": {},
     "output_type": "execute_result"
    }
   ],
   "source": [
    "train.loc[:, 'le_display_address'].tail()"
   ]
  },
  {
   "cell_type": "code",
   "execution_count": 10,
   "metadata": {
    "collapsed": true
   },
   "outputs": [],
   "source": [
    "features_to_use = ['price', 'price_per_bedrooms', 'priceXroom', 'bathrooms', 'bedrooms', 'room_sum', 'latitude', \\\n",
    "                   'longitude', 'num_photos', 'num_features', 'num_description_words', 'building_avg_score', \\\n",
    "                   'building_frequency', 'manager_avg_score', 'manager_frequency', 'dayofweek', 'weekofyear', \\\n",
    "                   'le_display_address']"
   ]
  },
  {
   "cell_type": "code",
   "execution_count": 11,
   "metadata": {
    "collapsed": false
   },
   "outputs": [
    {
     "data": {
      "text/plain": [
       "18"
      ]
     },
     "execution_count": 11,
     "metadata": {},
     "output_type": "execute_result"
    }
   ],
   "source": [
    "len(features_to_use)"
   ]
  },
  {
   "cell_type": "markdown",
   "metadata": {},
   "source": [
    "## xgb part"
   ]
  },
  {
   "cell_type": "markdown",
   "metadata": {},
   "source": [
    "### data transform for xgb"
   ]
  },
  {
   "cell_type": "code",
   "execution_count": 14,
   "metadata": {
    "collapsed": true
   },
   "outputs": [],
   "source": [
    "import xgboost as xgb"
   ]
  },
  {
   "cell_type": "code",
   "execution_count": 15,
   "metadata": {
    "collapsed": false
   },
   "outputs": [],
   "source": [
    "# https://datascience.stackexchange.com/questions/12799/pandas-dataframe-to-dmatrix\n",
    "xgtrain = xgb.DMatrix(train.loc[:, features_to_use].values, label=train.loc[:, 'interest_level_in_num'].values)"
   ]
  },
  {
   "cell_type": "markdown",
   "metadata": {},
   "source": [
    "### Running xgb"
   ]
  },
  {
   "cell_type": "code",
   "execution_count": 16,
   "metadata": {
    "collapsed": true
   },
   "outputs": [],
   "source": [
    "params = {\n",
    "    'objective':'multi:softprob',\n",
    "    'max_depth':2,\n",
    "    'silent':1,\n",
    "    'eta':1,\n",
    "    'num_class':3,\n",
    "    'eval_metric':'mlogloss'\n",
    "}\n",
    "\n",
    "num_rounds = 5"
   ]
  },
  {
   "cell_type": "code",
   "execution_count": 17,
   "metadata": {
    "collapsed": true
   },
   "outputs": [],
   "source": [
    "model = xgb.train(params, xgtrain, num_rounds)"
   ]
  },
  {
   "cell_type": "code",
   "execution_count": null,
   "metadata": {
    "collapsed": true
   },
   "outputs": [],
   "source": []
  }
 ],
 "metadata": {
  "anaconda-cloud": {},
  "kernelspec": {
   "display_name": "Python [conda root]",
   "language": "python",
   "name": "conda-root-py"
  },
  "language_info": {
   "codemirror_mode": {
    "name": "ipython",
    "version": 2
   },
   "file_extension": ".py",
   "mimetype": "text/x-python",
   "name": "python",
   "nbconvert_exporter": "python",
   "pygments_lexer": "ipython2",
   "version": "2.7.11"
  }
 },
 "nbformat": 4,
 "nbformat_minor": 0
}
