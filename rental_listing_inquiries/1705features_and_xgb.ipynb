{
 "cells": [
  {
   "cell_type": "markdown",
   "metadata": {},
   "source": [
    "먼저 Feature들을 하나씩 만든다.\n",
    "그리고 xgboost를 강의 내용을 따라하면서 튜닝해서 만들어본다.\n",
    "\n",
    "https://github.com/KaggleBreak/walkingkaggle/blob/master/rental_listing/rental_listing_0422.ipynb"
   ]
  },
  {
   "cell_type": "markdown",
   "metadata": {},
   "source": [
    "## Features & Issues"
   ]
  },
  {
   "cell_type": "markdown",
   "metadata": {},
   "source": [
    "list all features\n",
    "  * Numerical data\n",
    "    * price\n",
    "    * price_per_bedrooms: price / bedrooms\n",
    "    * bathrooms\n",
    "    * bedrooms\n",
    "    * room_sum: bedrooms + bathrooms\n",
    "    * num_priceXroom: price / (1 + bedrooms + 0.5*bathrooms) -> https://www.kaggle.com/arnaldcat/two-sigma-connect-rental-listing-inquiries/a-proxy-for-sqft-and-the-interest-on-1-2-baths 참고했다고 한다. \n",
    "    * latitude\n",
    "    * longitude\n",
    "    * dist_from_center: sqrt((latitude-latitude.median())**2 + (longitude - longitude.median()) & apply precision \n",
    "    * num_photos: apply len to photos list\n",
    "    * num_features: apply len to features list\n",
    "    * num_description_words: apply split(\" \") to description\n",
    "    * building_avg_score\n",
    "    * building_frequency\n",
    "    * manager_avg_score\n",
    "    * manager_frequency\n",
    "    * created: Neural Network 파트에서 weekday, weekofyear로 변환해서 사용. **시간도 의미가 있었는데** 이걸 사용할 필요성 있을듯?\n",
    "  * Categorical data\n",
    "    * display_address\n",
    "   \n",
    "    \n",
    "raw data but not used for feature\n",
    "  * listing_id -> 이건 created 별로 scaling을 해서 쓰는게 맞다고 보는데. categorical로 할 필요가 없을 듯.\n",
    "  * manager_id, building_id는 각각 평균 score와 빈도로 numerical data로 바꿨는데 또 추가할 필요가 있을까?\n",
    "  * steet_address는 할 필요 없고 display_address로만 하는것이 좋을 듯. 동네만 알면 되지 번지까지 할 필욘 없으니깐."
   ]
  },
  {
   "cell_type": "markdown",
   "metadata": {},
   "source": [
    "Features related issues\n",
    "  * interest_level의 대부분이 low이고 high가 적기 때문에 클래스간 비율을 위해 oversampling / undersampling이 필요할 듯\n",
    "  * interest_level의 Numerical incoding이 필요할까? -> low, medium, high이기 때문에 0, 1, 2를 적용하는 것은 합리적이긴 함.\n",
    "  * tfidf 팩터화..가 뭘까? 뭔가 stop words를 제외시키는 작업인 듯 한데.\n",
    "  * outlier들: price, bedrooms, bathrooms, longitude, latitude 처리 필요성 -> pandas의 clip을 사용하면 아웃라이어들을 특정한 값으로 지정 가능.\n",
    "  * dist_from_center의 precision을 적용, 일정구역을 같은 값으로 설정한 후에 density도 구하던데, 이게 feature로 유용할지 잘 모르겠어서 일단 제외.\n",
    "  * Neural Network 파트에서 building_id와 manager_id에 대해 supervised를 계산하는데 이게 뭔지 잘 모르겠음. frequency는 알것는데. 이거 확인해보고 feature에 넣어주는 걸 고려\n",
    "  * Neural Network 파트에서 price를 digitize를 한다. 뭐하는건지 확인.\n",
    "  * Neural Network 파트에서 0.5 단위 bathrooms를 num_even_bathrooms로 처리를 해주는데 어떻게 넣어줬는지 잘 모르겠음.\n",
    "  * Neural Network 파트에서 특정 단어들에 대해서 몇번 나왔는지 체크하는 것도 feature로 사용한듯 보인다. "
   ]
  },
  {
   "cell_type": "markdown",
   "metadata": {},
   "source": [
    "XGBoost related issues\n",
    "  * change data to fit on XGB\n",
    "  * XGB는 아웃라이어에 대해 영향을 덜 받을까?"
   ]
  },
  {
   "cell_type": "markdown",
   "metadata": {},
   "source": [
    "sklearn에서는 DataFrameMapper로 StandardScaler를 사용할 수 있는 듯. -> 이거 볼 필요성은 있겠다. "
   ]
  },
  {
   "cell_type": "code",
   "execution_count": 1,
   "metadata": {
    "collapsed": true
   },
   "outputs": [],
   "source": [
    "%matplotlib inline\n",
    "import matplotlib.pyplot as plt\n",
    "import seaborn as sns"
   ]
  },
  {
   "cell_type": "code",
   "execution_count": 2,
   "metadata": {
    "collapsed": true
   },
   "outputs": [],
   "source": [
    "import numpy as np\n",
    "import pandas as pd"
   ]
  },
  {
   "cell_type": "code",
   "execution_count": 3,
   "metadata": {
    "collapsed": true
   },
   "outputs": [],
   "source": [
    "train = pd.read_json('./data/train.json')\n",
    "test = pd.read_json('./data/test.json')"
   ]
  },
  {
   "cell_type": "code",
   "execution_count": 4,
   "metadata": {
    "collapsed": false
   },
   "outputs": [
    {
     "data": {
      "text/html": [
       "<div>\n",
       "<table border=\"1\" class=\"dataframe\">\n",
       "  <thead>\n",
       "    <tr style=\"text-align: right;\">\n",
       "      <th></th>\n",
       "      <th>bathrooms</th>\n",
       "      <th>bedrooms</th>\n",
       "      <th>building_id</th>\n",
       "      <th>created</th>\n",
       "      <th>description</th>\n",
       "      <th>display_address</th>\n",
       "      <th>features</th>\n",
       "      <th>interest_level</th>\n",
       "      <th>latitude</th>\n",
       "      <th>listing_id</th>\n",
       "      <th>longitude</th>\n",
       "      <th>manager_id</th>\n",
       "      <th>photos</th>\n",
       "      <th>price</th>\n",
       "      <th>street_address</th>\n",
       "    </tr>\n",
       "  </thead>\n",
       "  <tbody>\n",
       "    <tr>\n",
       "      <th>9999</th>\n",
       "      <td>1.0</td>\n",
       "      <td>2</td>\n",
       "      <td>297160caf8a88c10718b492d4672c6b4</td>\n",
       "      <td>2016-06-02 05:41:05</td>\n",
       "      <td>30TH/3RD, MASSIVE CONV 2BR IN LUXURY FULL SERV...</td>\n",
       "      <td>E 30 St</td>\n",
       "      <td>[Elevator, Laundry in Building, Laundry in Uni...</td>\n",
       "      <td>medium</td>\n",
       "      <td>40.7426</td>\n",
       "      <td>7098690</td>\n",
       "      <td>-73.9790</td>\n",
       "      <td>2a1ee03b449700c3a15dd8c9a505c525</td>\n",
       "      <td>[https://photos.renthop.com/2/7098690_18396d32...</td>\n",
       "      <td>3200</td>\n",
       "      <td>230 E 30 St</td>\n",
       "    </tr>\n",
       "    <tr>\n",
       "      <th>99991</th>\n",
       "      <td>1.0</td>\n",
       "      <td>1</td>\n",
       "      <td>9e871ccfea7b07686c101548ca693af6</td>\n",
       "      <td>2016-04-04 18:22:34</td>\n",
       "      <td>HIGH END condo finishes, swimming pool, and ki...</td>\n",
       "      <td>Rector Pl</td>\n",
       "      <td>[Common Outdoor Space, Cats Allowed, Dogs Allo...</td>\n",
       "      <td>low</td>\n",
       "      <td>40.7102</td>\n",
       "      <td>6822449</td>\n",
       "      <td>-74.0163</td>\n",
       "      <td>ef20d40b528500037e37b167787ac089</td>\n",
       "      <td>[https://photos.renthop.com/2/6822449_b429587b...</td>\n",
       "      <td>3950</td>\n",
       "      <td>225 Rector Place</td>\n",
       "    </tr>\n",
       "    <tr>\n",
       "      <th>99992</th>\n",
       "      <td>1.0</td>\n",
       "      <td>1</td>\n",
       "      <td>7967a1280bf3f7644500fc79d2696b0e</td>\n",
       "      <td>2016-04-16 02:13:40</td>\n",
       "      <td>Large Renovated One Bedroom Apartment with Sta...</td>\n",
       "      <td>West 45th Street</td>\n",
       "      <td>[Doorman, Elevator, Pre-War, Dogs Allowed, Cat...</td>\n",
       "      <td>low</td>\n",
       "      <td>40.7601</td>\n",
       "      <td>6881461</td>\n",
       "      <td>-73.9900</td>\n",
       "      <td>d889a9552265fe359e7d36d172084fcb</td>\n",
       "      <td>[https://photos.renthop.com/2/6881461_20a86530...</td>\n",
       "      <td>2595</td>\n",
       "      <td>341 West 45th Street</td>\n",
       "    </tr>\n",
       "    <tr>\n",
       "      <th>99993</th>\n",
       "      <td>1.0</td>\n",
       "      <td>0</td>\n",
       "      <td>ad67f6181a49bde19218929b401b31b7</td>\n",
       "      <td>2016-04-08 02:13:33</td>\n",
       "      <td>Stylishly sleek studio apartment with unsurpas...</td>\n",
       "      <td>Wall Street</td>\n",
       "      <td>[Doorman, Elevator, Pre-War, Dogs Allowed, Cat...</td>\n",
       "      <td>low</td>\n",
       "      <td>40.7066</td>\n",
       "      <td>6841891</td>\n",
       "      <td>-74.0101</td>\n",
       "      <td>9fd3af5b2d23951e028059e8940a55d7</td>\n",
       "      <td>[https://photos.renthop.com/2/6841891_124c9c44...</td>\n",
       "      <td>3350</td>\n",
       "      <td>37 Wall Street</td>\n",
       "    </tr>\n",
       "    <tr>\n",
       "      <th>99994</th>\n",
       "      <td>1.0</td>\n",
       "      <td>2</td>\n",
       "      <td>5173052db6efc0caaa4d817112a70f32</td>\n",
       "      <td>2016-04-12 02:48:07</td>\n",
       "      <td>Look no further!!!  This giant 2 bedroom apart...</td>\n",
       "      <td>Park Terrace East</td>\n",
       "      <td>[Hardwood Floors]</td>\n",
       "      <td>low</td>\n",
       "      <td>40.8699</td>\n",
       "      <td>6858245</td>\n",
       "      <td>-73.9172</td>\n",
       "      <td>d7f57128272bfd82e33a61999b5f4c42</td>\n",
       "      <td>[https://photos.renthop.com/2/6858245_c4380bde...</td>\n",
       "      <td>2200</td>\n",
       "      <td>30 Park Terrace East</td>\n",
       "    </tr>\n",
       "  </tbody>\n",
       "</table>\n",
       "</div>"
      ],
      "text/plain": [
       "       bathrooms  bedrooms                       building_id  \\\n",
       "9999         1.0         2  297160caf8a88c10718b492d4672c6b4   \n",
       "99991        1.0         1  9e871ccfea7b07686c101548ca693af6   \n",
       "99992        1.0         1  7967a1280bf3f7644500fc79d2696b0e   \n",
       "99993        1.0         0  ad67f6181a49bde19218929b401b31b7   \n",
       "99994        1.0         2  5173052db6efc0caaa4d817112a70f32   \n",
       "\n",
       "                   created                                        description  \\\n",
       "9999   2016-06-02 05:41:05  30TH/3RD, MASSIVE CONV 2BR IN LUXURY FULL SERV...   \n",
       "99991  2016-04-04 18:22:34  HIGH END condo finishes, swimming pool, and ki...   \n",
       "99992  2016-04-16 02:13:40  Large Renovated One Bedroom Apartment with Sta...   \n",
       "99993  2016-04-08 02:13:33  Stylishly sleek studio apartment with unsurpas...   \n",
       "99994  2016-04-12 02:48:07  Look no further!!!  This giant 2 bedroom apart...   \n",
       "\n",
       "         display_address                                           features  \\\n",
       "9999             E 30 St  [Elevator, Laundry in Building, Laundry in Uni...   \n",
       "99991          Rector Pl  [Common Outdoor Space, Cats Allowed, Dogs Allo...   \n",
       "99992   West 45th Street  [Doorman, Elevator, Pre-War, Dogs Allowed, Cat...   \n",
       "99993        Wall Street  [Doorman, Elevator, Pre-War, Dogs Allowed, Cat...   \n",
       "99994  Park Terrace East                                  [Hardwood Floors]   \n",
       "\n",
       "      interest_level  latitude  listing_id  longitude  \\\n",
       "9999          medium   40.7426     7098690   -73.9790   \n",
       "99991            low   40.7102     6822449   -74.0163   \n",
       "99992            low   40.7601     6881461   -73.9900   \n",
       "99993            low   40.7066     6841891   -74.0101   \n",
       "99994            low   40.8699     6858245   -73.9172   \n",
       "\n",
       "                             manager_id  \\\n",
       "9999   2a1ee03b449700c3a15dd8c9a505c525   \n",
       "99991  ef20d40b528500037e37b167787ac089   \n",
       "99992  d889a9552265fe359e7d36d172084fcb   \n",
       "99993  9fd3af5b2d23951e028059e8940a55d7   \n",
       "99994  d7f57128272bfd82e33a61999b5f4c42   \n",
       "\n",
       "                                                  photos  price  \\\n",
       "9999   [https://photos.renthop.com/2/7098690_18396d32...   3200   \n",
       "99991  [https://photos.renthop.com/2/6822449_b429587b...   3950   \n",
       "99992  [https://photos.renthop.com/2/6881461_20a86530...   2595   \n",
       "99993  [https://photos.renthop.com/2/6841891_124c9c44...   3350   \n",
       "99994  [https://photos.renthop.com/2/6858245_c4380bde...   2200   \n",
       "\n",
       "             street_address  \n",
       "9999            230 E 30 St  \n",
       "99991      225 Rector Place  \n",
       "99992  341 West 45th Street  \n",
       "99993        37 Wall Street  \n",
       "99994  30 Park Terrace East  "
      ]
     },
     "execution_count": 4,
     "metadata": {},
     "output_type": "execute_result"
    }
   ],
   "source": [
    "train.tail()"
   ]
  },
  {
   "cell_type": "markdown",
   "metadata": {},
   "source": [
    "### Numerical Features"
   ]
  },
  {
   "cell_type": "markdown",
   "metadata": {},
   "source": [
    "* price\n",
    "* price_per_bedrooms: price / bedrooms\n",
    "* bathrooms\n",
    "* bedrooms\n",
    "* room_sum: bedrooms + bathrooms\n",
    "* num_priceXroom: price / (1 + bedrooms + 0.5*bathrooms) -> https://www.kaggle.com/arnaldcat/two-sigma-connect-rental-listing-inquiries/a-proxy-for-sqft-and-the-interest-on-1-2-baths 참고했다고 한다. \n",
    "* latitude\n",
    "* longitude\n",
    "* dist_from_center: sqrt((latitude-latitude.median())**2 + (longitude - longitude.median()) & apply precision \n",
    "* num_photos: apply len to photos list\n",
    "* num_features: apply len to features list\n",
    "* num_description_words: apply split(\" \") to description\n",
    "* building_avg_score\n",
    "* building_frequency\n",
    "* manager_avg_score\n",
    "* manager_frequency\n",
    "* created: Neural Network 파트에서 weekday, weekofyear로 변환해서 사용."
   ]
  },
  {
   "cell_type": "code",
   "execution_count": 10,
   "metadata": {
    "collapsed": false
   },
   "outputs": [],
   "source": [
    "# numerical encoding of target value\n",
    "train.loc[:, 'interest_level_in_num'] = 0.0\n",
    "train.loc[train.loc[:, 'interest_level'] == 'medium', 'interest_level_in_num'] = 1.0\n",
    "train.loc[train.loc[:, 'interest_level'] == 'high', 'interest_level_in_num'] = 2.0\n",
    "\n",
    "# making derivated features for train data\n",
    "train.loc[:, 'price_per_bedrooms'] = train.loc[:, 'price'] / train.loc[:, 'bedrooms']\n",
    "train.loc[:, 'price_per_bathrooms'] = train.loc[:, 'price'] / train.loc[:, 'bathrooms']\n",
    "# https://www.kaggle.com/arnaldcat/two-sigma-connect-rental-listing-inquiries/a-proxy-for-sqft-and-the-interest-on-1-2-baths\n",
    "train.loc[:, 'priceXroom'] = (train.loc[:, 'price'] / (1. + train.loc[:, 'bedrooms'].clip(1, 4) + \\\n",
    "                                                       0.5*train.loc[:, 'bathrooms'].clip(0, 2)))\n",
    "train.loc[:, 'room_diff'] = train.loc[:, 'bedrooms'] - train.loc[:, 'bathrooms']\n",
    "train.loc[:, 'room_sum'] = train.loc[:, 'bedrooms'] + train.loc[:, 'bathrooms']\n",
    "train.loc[:, 'dist_from_center'] = np.sqrt((train.loc[:, 'latitude'] - train.loc[:, 'latitude'].median())**2 + \\\n",
    "                                           (train.loc[:, 'longitude'] - train.loc[:, 'longitude'].median())**2)\n",
    "train.loc[:, 'num_photos'] = train.loc[:, 'photos'].apply(len)\n",
    "train.loc[:, 'num_features'] = train.loc[:, 'features'].apply(len)\n",
    "# maybe better to exclude 'stop words' by using tfid??\n",
    "train.loc[:, 'num_description_words'] = train.loc[:, 'description'].apply(lambda x: len(x.split(\" \")))\n",
    "\n",
    "# apply scores depends on building id and manager id\n",
    "b_id_freq_th = 15. # frequency threshold for assigning building id interest level in num score\n",
    "m_id_freq_th = 15. # frequency threshold for assigning manager id interest level in num score\n",
    "\n",
    "grouped = train.groupby('building_id')['interest_level_in_num'].aggregate(['count', 'mean'])\n",
    "tmp_dic = grouped.loc[grouped.loc[:, 'count'] > b_id_freq_th, 'mean'].to_dict()\n",
    "tmp_avg = train.loc[:, 'interest_level_in_num'].mean()\n",
    "train.loc[:, 'building_avg_score'] = train.loc[:, 'building_id'].apply(lambda x: tmp_dic.get(x, tmp_avg))\n",
    "test.loc[:, 'building_avg_score'] = test.loc[:, 'building_id'].apply(lambda x: tmp_dic.get(x, tmp_avg)) # using train data\n",
    "\n",
    "tmp_dic = train.loc[:, 'building_id'].value_counts().to_dict()\n",
    "tmp_avg = train.loc[:, 'building_id'].value_counts().min()\n",
    "train.loc[:, 'building_frequency'] = train.loc[:, 'building_id'].apply(lambda x: tmp_dic.get(x, tmp_avg))\n",
    "test.loc[:, 'building_frequency'] = test.loc[:, 'building_id'].apply(lambda x: tmp_dic.get(x, tmp_avg)) # using train data\n",
    "\n",
    "train.loc[:, 'zero_bldg'] = (train.loc[:, 'building_id'] != '0') * 1.0\n",
    "test.loc[:, 'zero_bldg'] = (test.loc[:, 'building_id'] != '0') * 1.0\n",
    "\n",
    "grouped = train.groupby('manager_id')['interest_level_in_num'].aggregate(['count', 'mean'])\n",
    "tmp_dic = grouped.loc[grouped.loc[:, 'count'] > m_id_freq_th, 'mean'].to_dict()\n",
    "tmp_avg = train.loc[:, 'interest_level_in_num'].mean()\n",
    "train.loc[:, 'manager_avg_score'] = train.loc[:, 'manager_id'].apply(lambda x: tmp_dic.get(x, tmp_avg))\n",
    "test.loc[:, 'manager_avg_score'] = test.loc[:, 'manager_id'].apply(lambda x: tmp_dic.get(x, tmp_avg)) # using train data\n",
    "\n",
    "tmp_dic = train.loc[:, 'manager_id'].value_counts().to_dict()\n",
    "tmp_avg = train.loc[:, 'manager_id'].value_counts().min()\n",
    "train.loc[:, 'manager_frequency'] = train.loc[:, 'manager_id'].apply(lambda x: tmp_dic.get(x, tmp_avg))\n",
    "test.loc[:, 'manager_frequency'] = test.loc[:, 'manager_id'].apply(lambda x: tmp_dic.get(x, tmp_avg)) # using train data\n",
    "\n",
    "# created\n",
    "train.loc[:, 'created'] = pd.to_datetime(train.loc[:, 'created'])\n",
    "train.loc[:, 'dayofweek'] = train.loc[:, 'created'].dt.dayofweek\n",
    "train.loc[:, 'weekofyear'] = train.loc[:, 'created'].dt.weekofyear\n",
    "train.loc[:, 'dayofyear'] = train.loc[:, 'created'].dt.dayofyear\n",
    "train.loc[:, 'month'] = train.loc[:, 'created'].dt.month\n",
    "train.loc[:, 'day'] = train.loc[:, 'created'].dt.day\n",
    "train.loc[:, 'hour'] = train.loc[:, 'created'].dt.hour"
   ]
  },
  {
   "cell_type": "code",
   "execution_count": 11,
   "metadata": {
    "collapsed": false
   },
   "outputs": [],
   "source": [
    "# making derivated features for test data\n",
    "test.loc[:, 'price_per_bedrooms'] = test.loc[:, 'price'] / test.loc[:, 'bedrooms']\n",
    "test.loc[:, 'price_per_bathrooms'] = test.loc[:, 'price'] / test.loc[:, 'bathrooms']\n",
    "# https://www.kaggle.com/arnaldcat/two-sigma-connect-rental-listing-inquiries/a-proxy-for-sqft-and-the-interest-on-1-2-baths\n",
    "test.loc[:, 'priceXroom'] = (test.loc[:, 'price'] / (1. + test.loc[:, 'bedrooms'].clip(1, 4) + \\\n",
    "                                                       0.5*test.loc[:, 'bathrooms'].clip(0, 2)))\n",
    "test.loc[:, 'room_diff'] = test.loc[:, 'bedrooms'] - test.loc[:, 'bathrooms']\n",
    "test.loc[:, 'room_sum'] = test.loc[:, 'bedrooms'] + test.loc[:, 'bathrooms']\n",
    "test.loc[:, 'dist_from_center'] = np.sqrt((test.loc[:, 'latitude'] - test.loc[:, 'latitude'].median())**2 + \\\n",
    "                                           (test.loc[:, 'longitude'] - test.loc[:, 'longitude'].median())**2)\n",
    "test.loc[:, 'num_photos'] = test.loc[:, 'photos'].apply(len)\n",
    "test.loc[:, 'num_features'] = test.loc[:, 'features'].apply(len)\n",
    "# maybe better to exclude 'stop words' by using tfid??\n",
    "test.loc[:, 'num_description_words'] = test.loc[:, 'description'].apply(lambda x: len(x.split(\" \")))\n",
    "\n",
    "# created\n",
    "test.loc[:, 'created'] = pd.to_datetime(test.loc[:, 'created'])\n",
    "test.loc[:, 'dayofweek'] = test.loc[:, 'created'].dt.dayofweek\n",
    "test.loc[:, 'weekofyear'] = test.loc[:, 'created'].dt.weekofyear\n",
    "test.loc[:, 'dayofyear'] = test.loc[:, 'created'].dt.dayofyear\n",
    "test.loc[:, 'month'] = test.loc[:, 'created'].dt.month\n",
    "test.loc[:, 'day'] = test.loc[:, 'created'].dt.day\n",
    "test.loc[:, 'hour'] = test.loc[:, 'created'].dt.hour"
   ]
  },
  {
   "cell_type": "markdown",
   "metadata": {
    "collapsed": true
   },
   "source": [
    "### Categorical Features"
   ]
  },
  {
   "cell_type": "markdown",
   "metadata": {},
   "source": [
    "* display_address\n",
    "\n",
    "제외\n",
    "* listing_id -> 이건 created 별로 scaling을 해서 쓰는게 맞다고 보는데. categorical로 할 필요가 없을 듯.\n",
    "* manager_id, building_id는 각각 평균 score와 빈도로 numerical data로 바꿨는데 또 추가할 필요가 있을까?\n",
    "* steet_address는 할 필요 없고 display_address로만 하는것이 좋을 듯. 동네만 알면 되지 번지까지 할 필욘 없으니깐."
   ]
  },
  {
   "cell_type": "markdown",
   "metadata": {},
   "source": [
    "Issues\n",
    "* 근데 encoding을 LabelEncoder로 하는게 맞나? OneHotEncoder로 해야 맞는거 아닌가?"
   ]
  },
  {
   "cell_type": "code",
   "execution_count": 12,
   "metadata": {
    "collapsed": true
   },
   "outputs": [],
   "source": [
    "from sklearn import preprocessing"
   ]
  },
  {
   "cell_type": "code",
   "execution_count": 13,
   "metadata": {
    "collapsed": true
   },
   "outputs": [],
   "source": [
    "le = preprocessing.LabelEncoder()\n",
    "le.fit(np.append(train.loc[:, 'display_address'].values, test.loc[:, 'display_address'].values))\n",
    "train.loc[:, 'le_display_address'] = le.transform(train.loc[:, 'display_address'].values)\n",
    "test.loc[:, 'le_display_address'] = le.transform(test.loc[:, 'display_address'].values)"
   ]
  },
  {
   "cell_type": "code",
   "execution_count": 14,
   "metadata": {
    "collapsed": false
   },
   "outputs": [
    {
     "data": {
      "text/plain": [
       "9999      9577\n",
       "99991    12864\n",
       "99992    15306\n",
       "99993    14850\n",
       "99994    12707\n",
       "Name: le_display_address, dtype: int64"
      ]
     },
     "execution_count": 14,
     "metadata": {},
     "output_type": "execute_result"
    }
   ],
   "source": [
    "train.loc[:, 'le_display_address'].tail()"
   ]
  },
  {
   "cell_type": "markdown",
   "metadata": {},
   "source": [
    "### Adding more features"
   ]
  },
  {
   "cell_type": "markdown",
   "metadata": {},
   "source": [
    "Little Boat https://www.kaggle.com/c/two-sigma-connect-rental-listing-inquiries/discussion/32123 posting suggest \"encoding other categorical features\" to some \"important\" features (especially manager_id)\n",
    "\n",
    "https://github.com/plantsgo/Rental-Listing-Inquiries"
   ]
  },
  {
   "cell_type": "code",
   "execution_count": 15,
   "metadata": {
    "collapsed": true
   },
   "outputs": [],
   "source": [
    "def get_stats(train_df, test_df, target_cols, group_col, agg_func=['count', 'mean', 'std', 'median', 'max', 'min']):\n",
    "    all_df = train_df.append(test_df)\n",
    "    ret_df = all_df.groupby(group_col)[target_cols].aggregate(agg_func)\n",
    "    ret_df.columns = [group_col+'_'+'_'.join(col) for col in ret_df.columns.values]\n",
    "    return ret_df"
   ]
  },
  {
   "cell_type": "code",
   "execution_count": 16,
   "metadata": {
    "collapsed": false
   },
   "outputs": [],
   "source": [
    "manager_id_target_cols = ['price', 'price_per_bedrooms', 'price_per_bathrooms', 'priceXroom', 'bathrooms', 'bedrooms', 'room_sum', \\\n",
    "                          'latitude', 'longitude', 'num_photos', 'num_features', 'num_description_words', 'building_avg_score', \\\n",
    "                          'building_frequency', 'dayofweek', 'weekofyear', 'hour', 'dayofyear', 'month', 'day', 'room_diff', \\\n",
    "                          'zero_bldg']\n",
    "stats_df = get_stats(train, test, manager_id_target_cols, 'manager_id')\n",
    "train = train.merge(stats_df, how='left', left_on='manager_id', right_index=True)\n",
    "test = test.merge(stats_df, how='left', left_on='manager_id', right_index=True)"
   ]
  },
  {
   "cell_type": "code",
   "execution_count": 17,
   "metadata": {
    "collapsed": false
   },
   "outputs": [],
   "source": [
    "bedrooms_target_cols = ['price', 'listing_id', 'dayofweek', 'weekofyear', 'dayofyear', 'month', 'day', 'hour', \\\n",
    "                       'num_features', 'building_frequency']\n",
    "stats_df = get_stats(train, test, bedrooms_target_cols, 'bedrooms')\n",
    "train = train.merge(stats_df, how='left', left_on='bedrooms', right_index=True)\n",
    "test = test.merge(stats_df, how='left', left_on='bedrooms', right_index=True)"
   ]
  },
  {
   "cell_type": "markdown",
   "metadata": {},
   "source": [
    "With 'manager_id', Little Boat said bedrooms stats features also contribute to his best model. However, fundamentally, it is harder to understand how bedrooms stats help to imporove the model compare to manager_id. Let's just test manager_id stats features first."
   ]
  },
  {
   "cell_type": "code",
   "execution_count": 18,
   "metadata": {
    "collapsed": true
   },
   "outputs": [],
   "source": [
    "features_to_use = ['price', 'price_per_bedrooms', 'price_per_bathrooms', 'priceXroom', 'bathrooms', 'bedrooms', 'room_sum', 'latitude', \\\n",
    "                   'longitude', 'num_photos', 'num_features', 'num_description_words', 'building_avg_score', \\\n",
    "                   'building_frequency', 'manager_avg_score', 'manager_frequency', 'dayofweek', 'weekofyear', 'hour', \\\n",
    "                   'le_display_address', 'dayofyear', 'day', 'room_diff', 'zero_bldg']"
   ]
  },
  {
   "cell_type": "code",
   "execution_count": 19,
   "metadata": {
    "collapsed": false
   },
   "outputs": [],
   "source": [
    "manager_id_features = train.columns[-17*6:].values\n",
    "bedrooms_features = train.columns[-11*6:].values"
   ]
  },
  {
   "cell_type": "code",
   "execution_count": 20,
   "metadata": {
    "collapsed": false
   },
   "outputs": [],
   "source": [
    "all_features_to_use = np.append(features_to_use,manager_id_features)\n",
    "all_features_to_use = np.append(all_features_to_use, bedrooms_features)"
   ]
  },
  {
   "cell_type": "code",
   "execution_count": 21,
   "metadata": {
    "collapsed": false
   },
   "outputs": [
    {
     "name": "stdout",
     "output_type": "stream",
     "text": [
      "24 102 66 192\n"
     ]
    }
   ],
   "source": [
    "print len(features_to_use), len(manager_id_features), len(bedrooms_features), len(all_features_to_use)"
   ]
  },
  {
   "cell_type": "markdown",
   "metadata": {},
   "source": [
    "## xgb part"
   ]
  },
  {
   "cell_type": "markdown",
   "metadata": {},
   "source": [
    "### data transform for xgb"
   ]
  },
  {
   "cell_type": "code",
   "execution_count": 22,
   "metadata": {
    "collapsed": true
   },
   "outputs": [],
   "source": [
    "import xgboost as xgb\n",
    "from xgboost.sklearn import XGBClassifier"
   ]
  },
  {
   "cell_type": "code",
   "execution_count": 23,
   "metadata": {
    "collapsed": false
   },
   "outputs": [],
   "source": [
    "# https://datascience.stackexchange.com/questions/12799/pandas-dataframe-to-dmatrix\n",
    "xgtrain = xgb.DMatrix(train.loc[:, features_to_use].values, label=train.loc[:, 'interest_level_in_num'].values)"
   ]
  },
  {
   "cell_type": "markdown",
   "metadata": {},
   "source": [
    "### Running xgb"
   ]
  },
  {
   "cell_type": "code",
   "execution_count": 24,
   "metadata": {
    "collapsed": true
   },
   "outputs": [],
   "source": [
    "from sklearn.model_selection import StratifiedKFold"
   ]
  },
  {
   "cell_type": "code",
   "execution_count": 25,
   "metadata": {
    "collapsed": true
   },
   "outputs": [],
   "source": [
    "# for xgb.train\n",
    "params = {\n",
    "    'objective':'multi:softprob',\n",
    "    'max_depth':5,\n",
    "    'silent':1,\n",
    "    'eta':0.03,\n",
    "    'num_class':3,\n",
    "    'eval_metric':'mlogloss'\n",
    "}\n",
    "\n",
    "num_rounds = 100"
   ]
  },
  {
   "cell_type": "code",
   "execution_count": 26,
   "metadata": {
    "collapsed": true
   },
   "outputs": [],
   "source": [
    "X = train.loc[:, all_features_to_use].values\n",
    "y = train.loc[:, 'interest_level_in_num'].values\n",
    "\n",
    "skf = StratifiedKFold(n_splits=5, shuffle=True, random_state=2017)"
   ]
  },
  {
   "cell_type": "code",
   "execution_count": 27,
   "metadata": {
    "collapsed": false,
    "scrolled": true
   },
   "outputs": [
    {
     "name": "stdout",
     "output_type": "stream",
     "text": [
      "[0]\ttest-mlogloss:1.07815\ttrain-mlogloss:1.078\n",
      "[1]\ttest-mlogloss:1.05867\ttrain-mlogloss:1.05836\n",
      "[2]\ttest-mlogloss:1.04016\ttrain-mlogloss:1.03971\n",
      "[3]\ttest-mlogloss:1.02257\ttrain-mlogloss:1.02198\n",
      "[4]\ttest-mlogloss:1.00583\ttrain-mlogloss:1.00506\n",
      "[5]\ttest-mlogloss:0.989934\ttrain-mlogloss:0.988979\n",
      "[6]\ttest-mlogloss:0.974696\ttrain-mlogloss:0.973589\n",
      "[7]\ttest-mlogloss:0.960179\ttrain-mlogloss:0.9589\n",
      "[8]\ttest-mlogloss:0.946315\ttrain-mlogloss:0.94487\n",
      "[9]\ttest-mlogloss:0.93305\ttrain-mlogloss:0.931438\n",
      "[10]\ttest-mlogloss:0.920343\ttrain-mlogloss:0.918597\n",
      "[11]\ttest-mlogloss:0.908195\ttrain-mlogloss:0.906283\n",
      "[12]\ttest-mlogloss:0.896495\ttrain-mlogloss:0.894458\n",
      "[13]\ttest-mlogloss:0.885349\ttrain-mlogloss:0.883163\n",
      "[14]\ttest-mlogloss:0.874647\ttrain-mlogloss:0.872317\n",
      "[15]\ttest-mlogloss:0.864374\ttrain-mlogloss:0.861901\n",
      "[16]\ttest-mlogloss:0.854535\ttrain-mlogloss:0.851921\n",
      "[17]\ttest-mlogloss:0.845105\ttrain-mlogloss:0.842326\n",
      "[18]\ttest-mlogloss:0.836042\ttrain-mlogloss:0.833097\n",
      "[19]\ttest-mlogloss:0.827343\ttrain-mlogloss:0.824233\n",
      "[20]\ttest-mlogloss:0.819009\ttrain-mlogloss:0.815717\n",
      "[21]\ttest-mlogloss:0.810979\ttrain-mlogloss:0.807513\n",
      "[22]\ttest-mlogloss:0.803253\ttrain-mlogloss:0.799633\n",
      "[23]\ttest-mlogloss:0.795789\ttrain-mlogloss:0.792029\n",
      "[24]\ttest-mlogloss:0.78868\ttrain-mlogloss:0.784737\n",
      "[25]\ttest-mlogloss:0.781762\ttrain-mlogloss:0.777686\n",
      "[26]\ttest-mlogloss:0.775166\ttrain-mlogloss:0.770913\n",
      "[27]\ttest-mlogloss:0.768722\ttrain-mlogloss:0.764352\n",
      "[28]\ttest-mlogloss:0.762561\ttrain-mlogloss:0.758043\n",
      "[29]\ttest-mlogloss:0.756625\ttrain-mlogloss:0.751947\n",
      "[30]\ttest-mlogloss:0.750941\ttrain-mlogloss:0.746101\n",
      "[31]\ttest-mlogloss:0.745415\ttrain-mlogloss:0.74044\n",
      "[32]\ttest-mlogloss:0.740068\ttrain-mlogloss:0.734971\n",
      "[33]\ttest-mlogloss:0.734928\ttrain-mlogloss:0.729706\n",
      "[34]\ttest-mlogloss:0.730006\ttrain-mlogloss:0.724623\n",
      "[35]\ttest-mlogloss:0.725235\ttrain-mlogloss:0.719724\n",
      "[36]\ttest-mlogloss:0.720608\ttrain-mlogloss:0.714942\n",
      "[37]\ttest-mlogloss:0.716152\ttrain-mlogloss:0.710356\n",
      "[38]\ttest-mlogloss:0.711868\ttrain-mlogloss:0.705914\n",
      "[39]\ttest-mlogloss:0.707736\ttrain-mlogloss:0.701648\n",
      "[40]\ttest-mlogloss:0.703729\ttrain-mlogloss:0.69749\n",
      "[41]\ttest-mlogloss:0.699797\ttrain-mlogloss:0.693419\n",
      "[42]\ttest-mlogloss:0.696092\ttrain-mlogloss:0.689546\n",
      "[43]\ttest-mlogloss:0.692464\ttrain-mlogloss:0.685745\n",
      "[44]\ttest-mlogloss:0.688996\ttrain-mlogloss:0.682122\n",
      "[45]\ttest-mlogloss:0.685578\ttrain-mlogloss:0.678558\n",
      "[46]\ttest-mlogloss:0.682325\ttrain-mlogloss:0.675145\n",
      "[47]\ttest-mlogloss:0.679093\ttrain-mlogloss:0.671793\n",
      "[48]\ttest-mlogloss:0.676057\ttrain-mlogloss:0.668605\n",
      "[49]\ttest-mlogloss:0.673092\ttrain-mlogloss:0.665508\n",
      "[50]\ttest-mlogloss:0.670253\ttrain-mlogloss:0.662535\n",
      "[51]\ttest-mlogloss:0.667552\ttrain-mlogloss:0.659691\n",
      "[52]\ttest-mlogloss:0.664909\ttrain-mlogloss:0.656897\n",
      "[53]\ttest-mlogloss:0.662323\ttrain-mlogloss:0.654148\n",
      "[54]\ttest-mlogloss:0.659881\ttrain-mlogloss:0.651533\n",
      "[55]\ttest-mlogloss:0.657464\ttrain-mlogloss:0.648985\n",
      "[56]\ttest-mlogloss:0.655165\ttrain-mlogloss:0.646531\n",
      "[57]\ttest-mlogloss:0.652937\ttrain-mlogloss:0.644152\n",
      "[58]\ttest-mlogloss:0.65076\ttrain-mlogloss:0.641833\n",
      "[59]\ttest-mlogloss:0.648569\ttrain-mlogloss:0.639514\n",
      "[60]\ttest-mlogloss:0.646553\ttrain-mlogloss:0.637368\n",
      "[61]\ttest-mlogloss:0.644484\ttrain-mlogloss:0.635215\n",
      "[62]\ttest-mlogloss:0.642471\ttrain-mlogloss:0.633128\n",
      "[63]\ttest-mlogloss:0.64055\ttrain-mlogloss:0.63115\n",
      "[64]\ttest-mlogloss:0.638668\ttrain-mlogloss:0.629186\n",
      "[65]\ttest-mlogloss:0.636858\ttrain-mlogloss:0.627269\n",
      "[66]\ttest-mlogloss:0.635149\ttrain-mlogloss:0.625428\n",
      "[67]\ttest-mlogloss:0.633471\ttrain-mlogloss:0.623673\n",
      "[68]\ttest-mlogloss:0.63187\ttrain-mlogloss:0.62192\n",
      "[69]\ttest-mlogloss:0.630254\ttrain-mlogloss:0.6202\n",
      "[70]\ttest-mlogloss:0.628706\ttrain-mlogloss:0.618566\n",
      "[71]\ttest-mlogloss:0.627209\ttrain-mlogloss:0.616959\n",
      "[72]\ttest-mlogloss:0.625772\ttrain-mlogloss:0.615387\n",
      "[73]\ttest-mlogloss:0.624361\ttrain-mlogloss:0.613815\n",
      "[74]\ttest-mlogloss:0.622973\ttrain-mlogloss:0.61231\n",
      "[75]\ttest-mlogloss:0.621672\ttrain-mlogloss:0.610844\n",
      "[76]\ttest-mlogloss:0.620434\ttrain-mlogloss:0.609419\n",
      "[77]\ttest-mlogloss:0.61917\ttrain-mlogloss:0.608029\n",
      "[78]\ttest-mlogloss:0.617967\ttrain-mlogloss:0.606699\n",
      "[79]\ttest-mlogloss:0.616757\ttrain-mlogloss:0.605354\n",
      "[80]\ttest-mlogloss:0.615599\ttrain-mlogloss:0.60405\n",
      "[81]\ttest-mlogloss:0.614511\ttrain-mlogloss:0.60282\n",
      "[82]\ttest-mlogloss:0.613441\ttrain-mlogloss:0.601621\n",
      "[83]\ttest-mlogloss:0.612416\ttrain-mlogloss:0.600439\n",
      "[84]\ttest-mlogloss:0.61142\ttrain-mlogloss:0.59928\n",
      "[85]\ttest-mlogloss:0.610431\ttrain-mlogloss:0.598168\n",
      "[86]\ttest-mlogloss:0.60948\ttrain-mlogloss:0.597087\n",
      "[87]\ttest-mlogloss:0.608492\ttrain-mlogloss:0.595959\n",
      "[88]\ttest-mlogloss:0.607568\ttrain-mlogloss:0.594903\n",
      "[89]\ttest-mlogloss:0.606596\ttrain-mlogloss:0.593826\n",
      "[90]\ttest-mlogloss:0.605735\ttrain-mlogloss:0.592823\n",
      "[91]\ttest-mlogloss:0.604879\ttrain-mlogloss:0.591811\n",
      "[92]\ttest-mlogloss:0.603968\ttrain-mlogloss:0.590796\n",
      "[93]\ttest-mlogloss:0.603161\ttrain-mlogloss:0.589868\n",
      "[94]\ttest-mlogloss:0.602382\ttrain-mlogloss:0.588951\n",
      "[95]\ttest-mlogloss:0.601561\ttrain-mlogloss:0.588013\n",
      "[96]\ttest-mlogloss:0.600799\ttrain-mlogloss:0.587137\n",
      "[97]\ttest-mlogloss:0.600071\ttrain-mlogloss:0.586281\n",
      "[98]\ttest-mlogloss:0.59933\ttrain-mlogloss:0.585404\n",
      "[99]\ttest-mlogloss:0.598651\ttrain-mlogloss:0.5846\n",
      "[0]\ttest-mlogloss:1.07826\ttrain-mlogloss:1.07792\n",
      "[1]\ttest-mlogloss:1.05896\ttrain-mlogloss:1.05828\n",
      "[2]\ttest-mlogloss:1.04061\ttrain-mlogloss:1.03963\n",
      "[3]\ttest-mlogloss:1.02315\ttrain-mlogloss:1.02184\n",
      "[4]\ttest-mlogloss:1.00653\ttrain-mlogloss:1.00493\n",
      "[5]\ttest-mlogloss:0.990695\ttrain-mlogloss:0.98878\n",
      "[6]\ttest-mlogloss:0.9756\ttrain-mlogloss:0.973386\n",
      "[7]\ttest-mlogloss:0.961168\ttrain-mlogloss:0.958704\n",
      "[8]\ttest-mlogloss:0.947394\ttrain-mlogloss:0.944677\n",
      "[9]\ttest-mlogloss:0.934219\ttrain-mlogloss:0.93122\n",
      "[10]\ttest-mlogloss:0.921627\ttrain-mlogloss:0.918365\n",
      "[11]\ttest-mlogloss:0.909599\ttrain-mlogloss:0.906035\n",
      "[12]\ttest-mlogloss:0.898018\ttrain-mlogloss:0.894216\n",
      "[13]\ttest-mlogloss:0.886939\ttrain-mlogloss:0.882866\n",
      "[14]\ttest-mlogloss:0.876264\ttrain-mlogloss:0.871956\n",
      "[15]\ttest-mlogloss:0.866045\ttrain-mlogloss:0.861535\n",
      "[16]\ttest-mlogloss:0.856264\ttrain-mlogloss:0.851523\n",
      "[17]\ttest-mlogloss:0.846849\ttrain-mlogloss:0.841871\n",
      "[18]\ttest-mlogloss:0.837811\ttrain-mlogloss:0.832599\n",
      "[19]\ttest-mlogloss:0.829141\ttrain-mlogloss:0.823691\n",
      "[20]\ttest-mlogloss:0.820813\ttrain-mlogloss:0.815115\n",
      "[21]\ttest-mlogloss:0.812802\ttrain-mlogloss:0.806905\n",
      "[22]\ttest-mlogloss:0.805114\ttrain-mlogloss:0.798961\n",
      "[23]\ttest-mlogloss:0.797675\ttrain-mlogloss:0.791334\n",
      "[24]\ttest-mlogloss:0.79055\ttrain-mlogloss:0.783975\n",
      "[25]\ttest-mlogloss:0.783677\ttrain-mlogloss:0.776886\n",
      "[26]\ttest-mlogloss:0.777052\ttrain-mlogloss:0.770068\n",
      "[27]\ttest-mlogloss:0.770694\ttrain-mlogloss:0.763473\n",
      "[28]\ttest-mlogloss:0.764542\ttrain-mlogloss:0.757118\n",
      "[29]\ttest-mlogloss:0.758679\ttrain-mlogloss:0.751005\n",
      "[30]\ttest-mlogloss:0.752965\ttrain-mlogloss:0.745149\n",
      "[31]\ttest-mlogloss:0.747443\ttrain-mlogloss:0.739466\n",
      "[32]\ttest-mlogloss:0.742176\ttrain-mlogloss:0.733973\n",
      "[33]\ttest-mlogloss:0.73711\ttrain-mlogloss:0.728685\n",
      "[34]\ttest-mlogloss:0.732221\ttrain-mlogloss:0.723572\n",
      "[35]\ttest-mlogloss:0.727515\ttrain-mlogloss:0.718647\n",
      "[36]\ttest-mlogloss:0.722937\ttrain-mlogloss:0.713866\n",
      "[37]\ttest-mlogloss:0.718546\ttrain-mlogloss:0.709258\n",
      "[38]\ttest-mlogloss:0.714259\ttrain-mlogloss:0.704798\n",
      "[39]\ttest-mlogloss:0.710099\ttrain-mlogloss:0.700518\n",
      "[40]\ttest-mlogloss:0.706143\ttrain-mlogloss:0.696356\n",
      "[41]\ttest-mlogloss:0.702247\ttrain-mlogloss:0.692276\n",
      "[42]\ttest-mlogloss:0.69848\ttrain-mlogloss:0.688331\n",
      "[43]\ttest-mlogloss:0.694844\ttrain-mlogloss:0.684499\n",
      "[44]\ttest-mlogloss:0.691361\ttrain-mlogloss:0.680812\n",
      "[45]\ttest-mlogloss:0.688029\ttrain-mlogloss:0.677287\n",
      "[46]\ttest-mlogloss:0.684804\ttrain-mlogloss:0.673873\n",
      "[47]\ttest-mlogloss:0.681685\ttrain-mlogloss:0.670583\n",
      "[48]\ttest-mlogloss:0.678656\ttrain-mlogloss:0.667416\n",
      "[49]\ttest-mlogloss:0.67571\ttrain-mlogloss:0.66432\n",
      "[50]\ttest-mlogloss:0.672899\ttrain-mlogloss:0.661355\n",
      "[51]\ttest-mlogloss:0.670174\ttrain-mlogloss:0.658481\n",
      "[52]\ttest-mlogloss:0.667522\ttrain-mlogloss:0.655677\n",
      "[53]\ttest-mlogloss:0.66496\ttrain-mlogloss:0.652958\n",
      "[54]\ttest-mlogloss:0.662502\ttrain-mlogloss:0.650353\n",
      "[55]\ttest-mlogloss:0.660094\ttrain-mlogloss:0.647781\n",
      "[56]\ttest-mlogloss:0.657766\ttrain-mlogloss:0.645334\n",
      "[57]\ttest-mlogloss:0.655495\ttrain-mlogloss:0.642877\n",
      "[58]\ttest-mlogloss:0.653371\ttrain-mlogloss:0.640584\n",
      "[59]\ttest-mlogloss:0.651243\ttrain-mlogloss:0.63833\n",
      "[60]\ttest-mlogloss:0.649209\ttrain-mlogloss:0.636156\n",
      "[61]\ttest-mlogloss:0.647207\ttrain-mlogloss:0.633995\n",
      "[62]\ttest-mlogloss:0.645274\ttrain-mlogloss:0.63191\n",
      "[63]\ttest-mlogloss:0.643404\ttrain-mlogloss:0.629878\n",
      "[64]\ttest-mlogloss:0.641656\ttrain-mlogloss:0.627964\n",
      "[65]\ttest-mlogloss:0.639888\ttrain-mlogloss:0.626086\n",
      "[66]\ttest-mlogloss:0.638172\ttrain-mlogloss:0.624202\n",
      "[67]\ttest-mlogloss:0.636576\ttrain-mlogloss:0.622462\n",
      "[68]\ttest-mlogloss:0.634974\ttrain-mlogloss:0.620691\n",
      "[69]\ttest-mlogloss:0.633445\ttrain-mlogloss:0.618966\n",
      "[70]\ttest-mlogloss:0.631863\ttrain-mlogloss:0.617244\n",
      "[71]\ttest-mlogloss:0.630376\ttrain-mlogloss:0.615591\n",
      "[72]\ttest-mlogloss:0.628866\ttrain-mlogloss:0.613945\n",
      "[73]\ttest-mlogloss:0.627491\ttrain-mlogloss:0.612452\n",
      "[74]\ttest-mlogloss:0.626144\ttrain-mlogloss:0.61097\n",
      "[75]\ttest-mlogloss:0.624834\ttrain-mlogloss:0.609575\n",
      "[76]\ttest-mlogloss:0.623515\ttrain-mlogloss:0.608109\n",
      "[77]\ttest-mlogloss:0.622214\ttrain-mlogloss:0.606677\n",
      "[78]\ttest-mlogloss:0.620998\ttrain-mlogloss:0.605334\n",
      "[79]\ttest-mlogloss:0.61985\ttrain-mlogloss:0.604035\n",
      "[80]\ttest-mlogloss:0.618676\ttrain-mlogloss:0.602693\n",
      "[81]\ttest-mlogloss:0.617538\ttrain-mlogloss:0.601453\n",
      "[82]\ttest-mlogloss:0.616445\ttrain-mlogloss:0.600258\n",
      "[83]\ttest-mlogloss:0.615404\ttrain-mlogloss:0.599074\n",
      "[84]\ttest-mlogloss:0.614385\ttrain-mlogloss:0.597911\n",
      "[85]\ttest-mlogloss:0.613415\ttrain-mlogloss:0.596808\n",
      "[86]\ttest-mlogloss:0.612412\ttrain-mlogloss:0.595733\n",
      "[87]\ttest-mlogloss:0.611479\ttrain-mlogloss:0.594648\n",
      "[88]\ttest-mlogloss:0.610538\ttrain-mlogloss:0.593583\n",
      "[89]\ttest-mlogloss:0.609623\ttrain-mlogloss:0.592511\n",
      "[90]\ttest-mlogloss:0.608732\ttrain-mlogloss:0.591522\n",
      "[91]\ttest-mlogloss:0.607891\ttrain-mlogloss:0.59055\n",
      "[92]\ttest-mlogloss:0.607055\ttrain-mlogloss:0.58954\n",
      "[93]\ttest-mlogloss:0.606234\ttrain-mlogloss:0.588556\n",
      "[94]\ttest-mlogloss:0.605425\ttrain-mlogloss:0.587608\n",
      "[95]\ttest-mlogloss:0.604595\ttrain-mlogloss:0.586666\n",
      "[96]\ttest-mlogloss:0.603832\ttrain-mlogloss:0.585784\n",
      "[97]\ttest-mlogloss:0.603087\ttrain-mlogloss:0.584889\n",
      "[98]\ttest-mlogloss:0.602357\ttrain-mlogloss:0.584057\n",
      "[99]\ttest-mlogloss:0.601691\ttrain-mlogloss:0.583221\n",
      "[0]\ttest-mlogloss:1.07817\ttrain-mlogloss:1.07791\n",
      "[1]\ttest-mlogloss:1.05876\ttrain-mlogloss:1.05826\n",
      "[2]\ttest-mlogloss:1.04029\ttrain-mlogloss:1.0396\n",
      "[3]\ttest-mlogloss:1.02279\ttrain-mlogloss:1.02185\n",
      "[4]\ttest-mlogloss:1.00614\ttrain-mlogloss:1.00496\n",
      "[5]\ttest-mlogloss:0.990211\ttrain-mlogloss:0.988854\n",
      "[6]\ttest-mlogloss:0.975097\ttrain-mlogloss:0.973484\n",
      "[7]\ttest-mlogloss:0.960602\ttrain-mlogloss:0.958793\n",
      "[8]\ttest-mlogloss:0.94674\ttrain-mlogloss:0.944754\n",
      "[9]\ttest-mlogloss:0.933501\ttrain-mlogloss:0.931351\n",
      "[10]\ttest-mlogloss:0.920844\ttrain-mlogloss:0.918492\n",
      "[11]\ttest-mlogloss:0.908714\ttrain-mlogloss:0.906189\n",
      "[12]\ttest-mlogloss:0.89707\ttrain-mlogloss:0.894387\n",
      "[13]\ttest-mlogloss:0.88583\ttrain-mlogloss:0.883029\n",
      "[14]\ttest-mlogloss:0.875165\ttrain-mlogloss:0.872184\n",
      "[15]\ttest-mlogloss:0.864852\ttrain-mlogloss:0.861742\n",
      "[16]\ttest-mlogloss:0.854966\ttrain-mlogloss:0.851701\n",
      "[17]\ttest-mlogloss:0.845517\ttrain-mlogloss:0.842071\n",
      "[18]\ttest-mlogloss:0.836425\ttrain-mlogloss:0.832816\n",
      "[19]\ttest-mlogloss:0.827688\ttrain-mlogloss:0.823944\n",
      "[20]\ttest-mlogloss:0.819292\ttrain-mlogloss:0.815401\n",
      "[21]\ttest-mlogloss:0.811248\ttrain-mlogloss:0.807199\n",
      "[22]\ttest-mlogloss:0.803525\ttrain-mlogloss:0.799299\n",
      "[23]\ttest-mlogloss:0.796066\ttrain-mlogloss:0.791683\n",
      "[24]\ttest-mlogloss:0.788908\ttrain-mlogloss:0.784399\n",
      "[25]\ttest-mlogloss:0.782002\ttrain-mlogloss:0.777334\n",
      "[26]\ttest-mlogloss:0.775334\ttrain-mlogloss:0.770541\n",
      "[27]\ttest-mlogloss:0.768926\ttrain-mlogloss:0.76398\n",
      "[28]\ttest-mlogloss:0.762816\ttrain-mlogloss:0.757716\n",
      "[29]\ttest-mlogloss:0.756877\ttrain-mlogloss:0.751636\n",
      "[30]\ttest-mlogloss:0.751149\ttrain-mlogloss:0.745792\n",
      "[31]\ttest-mlogloss:0.745584\ttrain-mlogloss:0.740118\n",
      "[32]\ttest-mlogloss:0.740267\ttrain-mlogloss:0.734654\n",
      "[33]\ttest-mlogloss:0.73516\ttrain-mlogloss:0.729386\n",
      "[34]\ttest-mlogloss:0.730246\ttrain-mlogloss:0.724314\n",
      "[35]\ttest-mlogloss:0.725492\ttrain-mlogloss:0.719407\n",
      "[36]\ttest-mlogloss:0.720881\ttrain-mlogloss:0.714629\n",
      "[37]\ttest-mlogloss:0.716467\ttrain-mlogloss:0.710048\n",
      "[38]\ttest-mlogloss:0.712175\ttrain-mlogloss:0.705597\n",
      "[39]\ttest-mlogloss:0.707992\ttrain-mlogloss:0.701275\n",
      "[40]\ttest-mlogloss:0.703932\ttrain-mlogloss:0.697107\n",
      "[41]\ttest-mlogloss:0.700032\ttrain-mlogloss:0.693084\n",
      "[42]\ttest-mlogloss:0.69626\ttrain-mlogloss:0.689186\n",
      "[43]\ttest-mlogloss:0.692677\ttrain-mlogloss:0.685459\n",
      "[44]\ttest-mlogloss:0.689151\ttrain-mlogloss:0.681792\n",
      "[45]\ttest-mlogloss:0.685789\ttrain-mlogloss:0.678324\n",
      "[46]\ttest-mlogloss:0.682553\ttrain-mlogloss:0.67494\n",
      "[47]\ttest-mlogloss:0.679353\ttrain-mlogloss:0.671633\n",
      "[48]\ttest-mlogloss:0.676256\ttrain-mlogloss:0.668409\n",
      "[49]\ttest-mlogloss:0.67328\ttrain-mlogloss:0.665325\n",
      "[50]\ttest-mlogloss:0.670384\ttrain-mlogloss:0.662289\n",
      "[51]\ttest-mlogloss:0.667628\ttrain-mlogloss:0.659434\n",
      "[52]\ttest-mlogloss:0.664899\ttrain-mlogloss:0.656581\n",
      "[53]\ttest-mlogloss:0.66229\ttrain-mlogloss:0.65384\n",
      "[54]\ttest-mlogloss:0.659789\ttrain-mlogloss:0.651204\n",
      "[55]\ttest-mlogloss:0.657354\ttrain-mlogloss:0.648606\n",
      "[56]\ttest-mlogloss:0.655037\ttrain-mlogloss:0.646169\n",
      "[57]\ttest-mlogloss:0.65278\ttrain-mlogloss:0.643815\n",
      "[58]\ttest-mlogloss:0.650542\ttrain-mlogloss:0.641475\n",
      "[59]\ttest-mlogloss:0.648431\ttrain-mlogloss:0.639259\n",
      "[60]\ttest-mlogloss:0.646287\ttrain-mlogloss:0.637021\n",
      "[61]\ttest-mlogloss:0.644254\ttrain-mlogloss:0.634915\n",
      "[62]\ttest-mlogloss:0.642253\ttrain-mlogloss:0.632817\n",
      "[63]\ttest-mlogloss:0.640378\ttrain-mlogloss:0.630834\n",
      "[64]\ttest-mlogloss:0.638509\ttrain-mlogloss:0.628867\n",
      "[65]\ttest-mlogloss:0.636676\ttrain-mlogloss:0.626955\n",
      "[66]\ttest-mlogloss:0.634919\ttrain-mlogloss:0.625127\n",
      "[67]\ttest-mlogloss:0.633222\ttrain-mlogloss:0.623318\n",
      "[68]\ttest-mlogloss:0.631588\ttrain-mlogloss:0.621547\n",
      "[69]\ttest-mlogloss:0.630012\ttrain-mlogloss:0.619854\n",
      "[70]\ttest-mlogloss:0.628486\ttrain-mlogloss:0.618216\n",
      "[71]\ttest-mlogloss:0.626982\ttrain-mlogloss:0.616617\n",
      "[72]\ttest-mlogloss:0.625543\ttrain-mlogloss:0.615071\n",
      "[73]\ttest-mlogloss:0.624138\ttrain-mlogloss:0.613557\n",
      "[74]\ttest-mlogloss:0.622788\ttrain-mlogloss:0.612084\n",
      "[75]\ttest-mlogloss:0.621478\ttrain-mlogloss:0.610633\n",
      "[76]\ttest-mlogloss:0.620187\ttrain-mlogloss:0.609218\n",
      "[77]\ttest-mlogloss:0.61897\ttrain-mlogloss:0.607869\n",
      "[78]\ttest-mlogloss:0.617728\ttrain-mlogloss:0.606511\n",
      "[79]\ttest-mlogloss:0.616527\ttrain-mlogloss:0.605192\n",
      "[80]\ttest-mlogloss:0.615374\ttrain-mlogloss:0.603931\n",
      "[81]\ttest-mlogloss:0.614285\ttrain-mlogloss:0.602733\n",
      "[82]\ttest-mlogloss:0.613213\ttrain-mlogloss:0.601544\n",
      "[83]\ttest-mlogloss:0.612179\ttrain-mlogloss:0.600361\n",
      "[84]\ttest-mlogloss:0.61111\ttrain-mlogloss:0.599179\n",
      "[85]\ttest-mlogloss:0.610073\ttrain-mlogloss:0.598037\n",
      "[86]\ttest-mlogloss:0.609103\ttrain-mlogloss:0.596961\n",
      "[87]\ttest-mlogloss:0.608191\ttrain-mlogloss:0.595929\n",
      "[88]\ttest-mlogloss:0.60728\ttrain-mlogloss:0.594882\n",
      "[89]\ttest-mlogloss:0.606398\ttrain-mlogloss:0.593879\n",
      "[90]\ttest-mlogloss:0.605486\ttrain-mlogloss:0.59284\n",
      "[91]\ttest-mlogloss:0.604631\ttrain-mlogloss:0.591899\n",
      "[92]\ttest-mlogloss:0.603819\ttrain-mlogloss:0.590919\n",
      "[93]\ttest-mlogloss:0.602991\ttrain-mlogloss:0.589995\n",
      "[94]\ttest-mlogloss:0.602218\ttrain-mlogloss:0.589107\n",
      "[95]\ttest-mlogloss:0.601412\ttrain-mlogloss:0.588165\n",
      "[96]\ttest-mlogloss:0.600684\ttrain-mlogloss:0.587329\n",
      "[97]\ttest-mlogloss:0.599949\ttrain-mlogloss:0.586493\n",
      "[98]\ttest-mlogloss:0.599181\ttrain-mlogloss:0.585604\n",
      "[99]\ttest-mlogloss:0.598481\ttrain-mlogloss:0.584783\n",
      "[0]\ttest-mlogloss:1.07801\ttrain-mlogloss:1.0779\n",
      "[1]\ttest-mlogloss:1.05849\ttrain-mlogloss:1.05824\n",
      "[2]\ttest-mlogloss:1.03996\ttrain-mlogloss:1.03958\n",
      "[3]\ttest-mlogloss:1.02232\ttrain-mlogloss:1.02178\n",
      "[4]\ttest-mlogloss:1.00554\ttrain-mlogloss:1.00487\n",
      "[5]\ttest-mlogloss:0.989567\ttrain-mlogloss:0.988703\n",
      "[6]\ttest-mlogloss:0.974321\ttrain-mlogloss:0.973301\n",
      "[7]\ttest-mlogloss:0.959799\ttrain-mlogloss:0.958596\n",
      "[8]\ttest-mlogloss:0.945892\ttrain-mlogloss:0.944536\n",
      "[9]\ttest-mlogloss:0.932584\ttrain-mlogloss:0.93111\n",
      "[10]\ttest-mlogloss:0.919876\ttrain-mlogloss:0.918251\n",
      "[11]\ttest-mlogloss:0.907664\ttrain-mlogloss:0.905901\n",
      "[12]\ttest-mlogloss:0.896028\ttrain-mlogloss:0.894083\n",
      "[13]\ttest-mlogloss:0.884858\ttrain-mlogloss:0.882776\n",
      "[14]\ttest-mlogloss:0.874139\ttrain-mlogloss:0.871899\n",
      "[15]\ttest-mlogloss:0.863834\ttrain-mlogloss:0.861469\n",
      "[16]\ttest-mlogloss:0.853988\ttrain-mlogloss:0.851488\n",
      "[17]\ttest-mlogloss:0.844501\ttrain-mlogloss:0.841865\n",
      "[18]\ttest-mlogloss:0.835411\ttrain-mlogloss:0.832647\n",
      "[19]\ttest-mlogloss:0.826658\ttrain-mlogloss:0.823774\n",
      "[20]\ttest-mlogloss:0.818332\ttrain-mlogloss:0.815271\n",
      "[21]\ttest-mlogloss:0.810295\ttrain-mlogloss:0.80705\n",
      "[22]\ttest-mlogloss:0.802589\ttrain-mlogloss:0.799168\n",
      "[23]\ttest-mlogloss:0.795173\ttrain-mlogloss:0.791551\n",
      "[24]\ttest-mlogloss:0.788032\ttrain-mlogloss:0.784208\n",
      "[25]\ttest-mlogloss:0.781132\ttrain-mlogloss:0.777117\n",
      "[26]\ttest-mlogloss:0.774497\ttrain-mlogloss:0.770339\n",
      "[27]\ttest-mlogloss:0.768104\ttrain-mlogloss:0.76377\n",
      "[28]\ttest-mlogloss:0.761967\ttrain-mlogloss:0.757447\n",
      "[29]\ttest-mlogloss:0.756037\ttrain-mlogloss:0.75137\n",
      "[30]\ttest-mlogloss:0.750341\ttrain-mlogloss:0.74549\n",
      "[31]\ttest-mlogloss:0.744825\ttrain-mlogloss:0.739827\n",
      "[32]\ttest-mlogloss:0.73953\ttrain-mlogloss:0.734344\n",
      "[33]\ttest-mlogloss:0.734404\ttrain-mlogloss:0.729049\n",
      "[34]\ttest-mlogloss:0.729471\ttrain-mlogloss:0.723926\n",
      "[35]\ttest-mlogloss:0.724728\ttrain-mlogloss:0.718988\n",
      "[36]\ttest-mlogloss:0.720112\ttrain-mlogloss:0.71423\n",
      "[37]\ttest-mlogloss:0.715692\ttrain-mlogloss:0.709623\n",
      "[38]\ttest-mlogloss:0.711357\ttrain-mlogloss:0.705123\n",
      "[39]\ttest-mlogloss:0.707224\ttrain-mlogloss:0.700823\n",
      "[40]\ttest-mlogloss:0.703209\ttrain-mlogloss:0.696644\n",
      "[41]\ttest-mlogloss:0.69932\ttrain-mlogloss:0.692576\n",
      "[42]\ttest-mlogloss:0.695567\ttrain-mlogloss:0.688653\n",
      "[43]\ttest-mlogloss:0.691941\ttrain-mlogloss:0.684846\n",
      "[44]\ttest-mlogloss:0.688456\ttrain-mlogloss:0.681177\n",
      "[45]\ttest-mlogloss:0.685106\ttrain-mlogloss:0.677648\n",
      "[46]\ttest-mlogloss:0.681846\ttrain-mlogloss:0.674183\n",
      "[47]\ttest-mlogloss:0.678772\ttrain-mlogloss:0.670888\n",
      "[48]\ttest-mlogloss:0.675793\ttrain-mlogloss:0.667689\n",
      "[49]\ttest-mlogloss:0.672871\ttrain-mlogloss:0.664571\n",
      "[50]\ttest-mlogloss:0.670045\ttrain-mlogloss:0.661566\n",
      "[51]\ttest-mlogloss:0.66737\ttrain-mlogloss:0.658676\n",
      "[52]\ttest-mlogloss:0.66476\ttrain-mlogloss:0.655885\n",
      "[53]\ttest-mlogloss:0.662204\ttrain-mlogloss:0.653149\n",
      "[54]\ttest-mlogloss:0.659681\ttrain-mlogloss:0.650455\n",
      "[55]\ttest-mlogloss:0.657251\ttrain-mlogloss:0.647841\n",
      "[56]\ttest-mlogloss:0.654953\ttrain-mlogloss:0.645365\n",
      "[57]\ttest-mlogloss:0.652737\ttrain-mlogloss:0.642986\n",
      "[58]\ttest-mlogloss:0.650548\ttrain-mlogloss:0.640648\n",
      "[59]\ttest-mlogloss:0.648445\ttrain-mlogloss:0.638373\n",
      "[60]\ttest-mlogloss:0.646382\ttrain-mlogloss:0.636152\n",
      "[61]\ttest-mlogloss:0.644382\ttrain-mlogloss:0.633993\n",
      "[62]\ttest-mlogloss:0.642451\ttrain-mlogloss:0.631889\n",
      "[63]\ttest-mlogloss:0.640622\ttrain-mlogloss:0.629893\n",
      "[64]\ttest-mlogloss:0.638796\ttrain-mlogloss:0.627932\n",
      "[65]\ttest-mlogloss:0.637011\ttrain-mlogloss:0.625968\n",
      "[66]\ttest-mlogloss:0.635328\ttrain-mlogloss:0.624118\n",
      "[67]\ttest-mlogloss:0.633673\ttrain-mlogloss:0.622271\n",
      "[68]\ttest-mlogloss:0.63209\ttrain-mlogloss:0.620474\n",
      "[69]\ttest-mlogloss:0.630549\ttrain-mlogloss:0.618759\n",
      "[70]\ttest-mlogloss:0.628976\ttrain-mlogloss:0.61701\n",
      "[71]\ttest-mlogloss:0.627548\ttrain-mlogloss:0.615361\n",
      "[72]\ttest-mlogloss:0.626097\ttrain-mlogloss:0.61378\n",
      "[73]\ttest-mlogloss:0.624701\ttrain-mlogloss:0.612194\n",
      "[74]\ttest-mlogloss:0.623347\ttrain-mlogloss:0.610675\n",
      "[75]\ttest-mlogloss:0.622081\ttrain-mlogloss:0.609241\n",
      "[76]\ttest-mlogloss:0.620763\ttrain-mlogloss:0.607776\n",
      "[77]\ttest-mlogloss:0.619527\ttrain-mlogloss:0.606382\n",
      "[78]\ttest-mlogloss:0.618334\ttrain-mlogloss:0.605023\n",
      "[79]\ttest-mlogloss:0.617153\ttrain-mlogloss:0.603707\n",
      "[80]\ttest-mlogloss:0.616012\ttrain-mlogloss:0.602422\n",
      "[81]\ttest-mlogloss:0.614911\ttrain-mlogloss:0.601165\n",
      "[82]\ttest-mlogloss:0.613832\ttrain-mlogloss:0.599931\n",
      "[83]\ttest-mlogloss:0.612784\ttrain-mlogloss:0.598728\n",
      "[84]\ttest-mlogloss:0.611769\ttrain-mlogloss:0.597572\n",
      "[85]\ttest-mlogloss:0.610714\ttrain-mlogloss:0.5964\n",
      "[86]\ttest-mlogloss:0.609785\ttrain-mlogloss:0.595303\n",
      "[87]\ttest-mlogloss:0.608859\ttrain-mlogloss:0.594217\n",
      "[88]\ttest-mlogloss:0.607972\ttrain-mlogloss:0.593182\n",
      "[89]\ttest-mlogloss:0.607037\ttrain-mlogloss:0.592122\n",
      "[90]\ttest-mlogloss:0.606186\ttrain-mlogloss:0.591123\n",
      "[91]\ttest-mlogloss:0.605331\ttrain-mlogloss:0.590159\n",
      "[92]\ttest-mlogloss:0.604415\ttrain-mlogloss:0.589145\n",
      "[93]\ttest-mlogloss:0.603659\ttrain-mlogloss:0.588218\n",
      "[94]\ttest-mlogloss:0.602847\ttrain-mlogloss:0.5873\n",
      "[95]\ttest-mlogloss:0.602033\ttrain-mlogloss:0.586355\n",
      "[96]\ttest-mlogloss:0.601295\ttrain-mlogloss:0.585482\n",
      "[97]\ttest-mlogloss:0.600481\ttrain-mlogloss:0.584583\n",
      "[98]\ttest-mlogloss:0.59977\ttrain-mlogloss:0.583728\n",
      "[99]\ttest-mlogloss:0.599081\ttrain-mlogloss:0.582908\n",
      "[0]\ttest-mlogloss:1.07813\ttrain-mlogloss:1.07787\n",
      "[1]\ttest-mlogloss:1.05872\ttrain-mlogloss:1.05819\n",
      "[2]\ttest-mlogloss:1.04025\ttrain-mlogloss:1.03947\n",
      "[3]\ttest-mlogloss:1.02269\ttrain-mlogloss:1.02169\n",
      "[4]\ttest-mlogloss:1.006\ttrain-mlogloss:1.00474\n",
      "[5]\ttest-mlogloss:0.990121\ttrain-mlogloss:0.988555\n",
      "[6]\ttest-mlogloss:0.974955\ttrain-mlogloss:0.973143\n",
      "[7]\ttest-mlogloss:0.960436\ttrain-mlogloss:0.958407\n",
      "[8]\ttest-mlogloss:0.94659\ttrain-mlogloss:0.944326\n",
      "[9]\ttest-mlogloss:0.93337\ttrain-mlogloss:0.930882\n",
      "[10]\ttest-mlogloss:0.920729\ttrain-mlogloss:0.918011\n",
      "[11]\ttest-mlogloss:0.9086\ttrain-mlogloss:0.905656\n",
      "[12]\ttest-mlogloss:0.897041\ttrain-mlogloss:0.89385\n",
      "[13]\ttest-mlogloss:0.885921\ttrain-mlogloss:0.882503\n",
      "[14]\ttest-mlogloss:0.875309\ttrain-mlogloss:0.871659\n",
      "[15]\ttest-mlogloss:0.865067\ttrain-mlogloss:0.86122\n",
      "[16]\ttest-mlogloss:0.855265\ttrain-mlogloss:0.851198\n",
      "[17]\ttest-mlogloss:0.845833\ttrain-mlogloss:0.841539\n",
      "[18]\ttest-mlogloss:0.83683\ttrain-mlogloss:0.832298\n",
      "[19]\ttest-mlogloss:0.828139\ttrain-mlogloss:0.823379\n",
      "[20]\ttest-mlogloss:0.819844\ttrain-mlogloss:0.814832\n",
      "[21]\ttest-mlogloss:0.811804\ttrain-mlogloss:0.806594\n",
      "[22]\ttest-mlogloss:0.804097\ttrain-mlogloss:0.798664\n",
      "[23]\ttest-mlogloss:0.79673\ttrain-mlogloss:0.791057\n",
      "[24]\ttest-mlogloss:0.789616\ttrain-mlogloss:0.7837\n",
      "[25]\ttest-mlogloss:0.782764\ttrain-mlogloss:0.776645\n",
      "[26]\ttest-mlogloss:0.776167\ttrain-mlogloss:0.769809\n",
      "[27]\ttest-mlogloss:0.769794\ttrain-mlogloss:0.763237\n",
      "[28]\ttest-mlogloss:0.763617\ttrain-mlogloss:0.756894\n",
      "[29]\ttest-mlogloss:0.757692\ttrain-mlogloss:0.750781\n",
      "[30]\ttest-mlogloss:0.751967\ttrain-mlogloss:0.744891\n",
      "[31]\ttest-mlogloss:0.746474\ttrain-mlogloss:0.739212\n",
      "[32]\ttest-mlogloss:0.741164\ttrain-mlogloss:0.733741\n",
      "[33]\ttest-mlogloss:0.73604\ttrain-mlogloss:0.728444\n",
      "[34]\ttest-mlogloss:0.731086\ttrain-mlogloss:0.723346\n",
      "[35]\ttest-mlogloss:0.726361\ttrain-mlogloss:0.718433\n",
      "[36]\ttest-mlogloss:0.721798\ttrain-mlogloss:0.713699\n",
      "[37]\ttest-mlogloss:0.717377\ttrain-mlogloss:0.70912\n",
      "[38]\ttest-mlogloss:0.713113\ttrain-mlogloss:0.704685\n",
      "[39]\ttest-mlogloss:0.708958\ttrain-mlogloss:0.700376\n",
      "[40]\ttest-mlogloss:0.704945\ttrain-mlogloss:0.6962\n",
      "[41]\ttest-mlogloss:0.701067\ttrain-mlogloss:0.692155\n",
      "[42]\ttest-mlogloss:0.697317\ttrain-mlogloss:0.688269\n",
      "[43]\ttest-mlogloss:0.69373\ttrain-mlogloss:0.684492\n",
      "[44]\ttest-mlogloss:0.690213\ttrain-mlogloss:0.680844\n",
      "[45]\ttest-mlogloss:0.686866\ttrain-mlogloss:0.677353\n",
      "[46]\ttest-mlogloss:0.683657\ttrain-mlogloss:0.673976\n",
      "[47]\ttest-mlogloss:0.680552\ttrain-mlogloss:0.670709\n",
      "[48]\ttest-mlogloss:0.677575\ttrain-mlogloss:0.667522\n",
      "[49]\ttest-mlogloss:0.674633\ttrain-mlogloss:0.664465\n",
      "[50]\ttest-mlogloss:0.671781\ttrain-mlogloss:0.661495\n",
      "[51]\ttest-mlogloss:0.669023\ttrain-mlogloss:0.658582\n",
      "[52]\ttest-mlogloss:0.666395\ttrain-mlogloss:0.655803\n",
      "[53]\ttest-mlogloss:0.66384\ttrain-mlogloss:0.653066\n",
      "[54]\ttest-mlogloss:0.661351\ttrain-mlogloss:0.650419\n",
      "[55]\ttest-mlogloss:0.658942\ttrain-mlogloss:0.647862\n",
      "[56]\ttest-mlogloss:0.656618\ttrain-mlogloss:0.645384\n",
      "[57]\ttest-mlogloss:0.654382\ttrain-mlogloss:0.643021\n",
      "[58]\ttest-mlogloss:0.652164\ttrain-mlogloss:0.64067\n",
      "[59]\ttest-mlogloss:0.650082\ttrain-mlogloss:0.638451\n",
      "[60]\ttest-mlogloss:0.648019\ttrain-mlogloss:0.636243\n",
      "[61]\ttest-mlogloss:0.646\ttrain-mlogloss:0.634081\n",
      "[62]\ttest-mlogloss:0.644109\ttrain-mlogloss:0.632049\n",
      "[63]\ttest-mlogloss:0.642217\ttrain-mlogloss:0.630033\n",
      "[64]\ttest-mlogloss:0.6404\ttrain-mlogloss:0.628068\n",
      "[65]\ttest-mlogloss:0.638602\ttrain-mlogloss:0.626125\n",
      "[66]\ttest-mlogloss:0.63685\ttrain-mlogloss:0.624245\n",
      "[67]\ttest-mlogloss:0.635191\ttrain-mlogloss:0.622449\n",
      "[68]\ttest-mlogloss:0.633569\ttrain-mlogloss:0.62069\n",
      "[69]\ttest-mlogloss:0.632021\ttrain-mlogloss:0.618988\n",
      "[70]\ttest-mlogloss:0.630497\ttrain-mlogloss:0.617347\n",
      "[71]\ttest-mlogloss:0.629048\ttrain-mlogloss:0.615739\n",
      "[72]\ttest-mlogloss:0.627617\ttrain-mlogloss:0.614177\n",
      "[73]\ttest-mlogloss:0.626192\ttrain-mlogloss:0.612643\n",
      "[74]\ttest-mlogloss:0.624807\ttrain-mlogloss:0.611126\n",
      "[75]\ttest-mlogloss:0.623491\ttrain-mlogloss:0.609711\n",
      "[76]\ttest-mlogloss:0.622227\ttrain-mlogloss:0.608299\n",
      "[77]\ttest-mlogloss:0.621001\ttrain-mlogloss:0.606949\n",
      "[78]\ttest-mlogloss:0.619816\ttrain-mlogloss:0.605634\n",
      "[79]\ttest-mlogloss:0.618652\ttrain-mlogloss:0.604335\n",
      "[80]\ttest-mlogloss:0.617536\ttrain-mlogloss:0.603091\n",
      "[81]\ttest-mlogloss:0.61646\ttrain-mlogloss:0.601872\n",
      "[82]\ttest-mlogloss:0.615357\ttrain-mlogloss:0.600671\n",
      "[83]\ttest-mlogloss:0.614301\ttrain-mlogloss:0.599506\n",
      "[84]\ttest-mlogloss:0.613292\ttrain-mlogloss:0.598356\n",
      "[85]\ttest-mlogloss:0.612311\ttrain-mlogloss:0.597255\n",
      "[86]\ttest-mlogloss:0.611273\ttrain-mlogloss:0.596173\n",
      "[87]\ttest-mlogloss:0.610324\ttrain-mlogloss:0.595118\n",
      "[88]\ttest-mlogloss:0.609348\ttrain-mlogloss:0.594048\n",
      "[89]\ttest-mlogloss:0.60844\ttrain-mlogloss:0.593039\n",
      "[90]\ttest-mlogloss:0.607545\ttrain-mlogloss:0.592011\n",
      "[91]\ttest-mlogloss:0.606637\ttrain-mlogloss:0.59104\n",
      "[92]\ttest-mlogloss:0.605762\ttrain-mlogloss:0.590064\n",
      "[93]\ttest-mlogloss:0.604921\ttrain-mlogloss:0.589142\n",
      "[94]\ttest-mlogloss:0.604139\ttrain-mlogloss:0.588243\n",
      "[95]\ttest-mlogloss:0.60338\ttrain-mlogloss:0.587333\n",
      "[96]\ttest-mlogloss:0.602641\ttrain-mlogloss:0.586458\n",
      "[97]\ttest-mlogloss:0.60185\ttrain-mlogloss:0.585555\n",
      "[98]\ttest-mlogloss:0.601131\ttrain-mlogloss:0.584696\n",
      "[99]\ttest-mlogloss:0.600353\ttrain-mlogloss:0.583809\n"
     ]
    }
   ],
   "source": [
    "for train_index, test_index in skf.split(X, y):\n",
    "    X_train, X_test = X[train_index], X[test_index]\n",
    "    y_train, y_test = y[train_index], y[test_index]\n",
    "    \n",
    "    dtrain = xgb.DMatrix(X_train, y_train)\n",
    "    dtrain = xgb.DMatrix(X_train, y_train)\n",
    "    dtest = xgb.DMatrix(X_test, y_test)\n",
    "    \n",
    "    watchlist  = [(dtest,'test'), (dtrain,'train')] # native interface only\n",
    "    bst = xgb.train(params, dtrain, num_rounds, watchlist)"
   ]
  },
  {
   "cell_type": "code",
   "execution_count": 28,
   "metadata": {
    "collapsed": false
   },
   "outputs": [
    {
     "data": {
      "text/plain": [
       "'longitude'"
      ]
     },
     "execution_count": 28,
     "metadata": {},
     "output_type": "execute_result"
    }
   ],
   "source": [
    "all_features_to_use[8]"
   ]
  },
  {
   "cell_type": "code",
   "execution_count": 29,
   "metadata": {
    "collapsed": false
   },
   "outputs": [
    {
     "data": {
      "text/plain": [
       "<matplotlib.axes._subplots.AxesSubplot at 0x7fe78023da90>"
      ]
     },
     "execution_count": 29,
     "metadata": {},
     "output_type": "execute_result"
    },
    {
     "data": {
      "image/png": "[encoded data removed]",
      "text/plain": [
       "<matplotlib.figure.Figure at 0x7fe7771dbe90>"
      ]
     },
     "metadata": {},
     "output_type": "display_data"
    }
   ],
   "source": [
    "xgb.plot_importance(bst, importance_type='gain', xlabel='Gain', max_num_features=20)"
   ]
  },
  {
   "cell_type": "markdown",
   "metadata": {},
   "source": [
    "in 1st place winnder's https://github.com/plantsgo/Rental-Listing-Inquiries/blob/master/xgb.py \n",
    "\n",
    "    params = {'booster': 'gbtree',\n",
    "              #'objective': 'multi:softmax',\n",
    "              'objective': 'multi:softprob',\n",
    "              'eval_metric': 'mlogloss',\n",
    "              'gamma': 1,\n",
    "              'min_child_weight': 1.5,\n",
    "              'max_depth': 5,\n",
    "              'lambda': 10,\n",
    "              'subsample': 0.7,\n",
    "              'colsample_bytree': 0.7,\n",
    "              'colsample_bylevel': 0.7,\n",
    "              'eta': 0.03,\n",
    "              'tree_method': 'exact',\n",
    "              'seed': 2017,\n",
    "              'nthread': 12,\n",
    "              \"num_class\":3\n",
    "              }\n",
    "    num_round = 10000\n",
    "    early_stopping_rounds = 50\n",
    "    \n",
    "    watchlist = [(train_matrix, 'train'),\n",
    "                 (test_matrix, 'eval')\n",
    "                 ]\n",
    "    if test_matrix:\n",
    "        model = xgb.train(params, train_matrix, num_boost_round=num_round, evals=watchlist,\n",
    "                      early_stopping_rounds=early_stopping_rounds\n",
    "                      )\n",
    "        pred_test_y = model.predict(test_matrix,ntree_limit=model.best_iteration)\n",
    "        return pred_test_y, model\n",
    "    else:\n",
    "        model = xgb.train(params, train_matrix, num_boost_round=num_round\n",
    "                      )\n",
    "        return model"
   ]
  },
  {
   "cell_type": "code",
   "execution_count": 36,
   "metadata": {
    "collapsed": true
   },
   "outputs": [],
   "source": [
    "# for xgb.train\n",
    "params = {\n",
    "    'objective':'multi:softprob',\n",
    "    'max_depth':5,\n",
    "    'silent':1,\n",
    "    'eta':0.03,\n",
    "    'num_class':3,\n",
    "    'eval_metric':'mlogloss', \n",
    "    'subsample': 0.7,\n",
    "    'colsample_bytree': 0.7, \n",
    "    'colsample_bylevel': 0.7, \n",
    "    'tree_method': 'exact', \n",
    "    'min_child_weight': 1.5, \n",
    "    'lambda': 10, \n",
    "    'gamma': 1\n",
    "}\n",
    "\n",
    "num_rounds = 2000\n",
    "early_stopping_rounds = 20"
   ]
  },
  {
   "cell_type": "code",
   "execution_count": 37,
   "metadata": {
    "collapsed": false
   },
   "outputs": [],
   "source": [
    "X = train.loc[:, all_features_to_use].values\n",
    "y = train.loc[:, 'interest_level_in_num'].values\n",
    "\n",
    "skf = StratifiedKFold(n_splits=5, shuffle=True, random_state=2017)"
   ]
  },
  {
   "cell_type": "code",
   "execution_count": 154,
   "metadata": {
    "collapsed": false
   },
   "outputs": [
    {
     "name": "stdout",
     "output_type": "stream",
     "text": [
      "[    2     3     4 ..., 49349 49350 49351]\n",
      "[    0     1     2 ..., 49348 49350 49351]\n",
      "[    0     1     4 ..., 49349 49350 49351]\n",
      "[    0     1     2 ..., 49348 49349 49350]\n",
      "[    0     1     2 ..., 49346 49349 49351]\n"
     ]
    }
   ],
   "source": [
    "for train_index, test_index in skf.split(X, y):\n",
    "    print train_index"
   ]
  },
  {
   "cell_type": "code",
   "execution_count": 155,
   "metadata": {
    "collapsed": false,
    "scrolled": true
   },
   "outputs": [
    {
     "name": "stdout",
     "output_type": "stream",
     "text": [
      "[0]\ttest-mlogloss:1.07785\ttrain-mlogloss:1.0776\n",
      "[1]\ttest-mlogloss:1.05862\ttrain-mlogloss:1.05806\n",
      "[2]\ttest-mlogloss:1.04121\ttrain-mlogloss:1.04034\n",
      "[3]\ttest-mlogloss:1.02371\ttrain-mlogloss:1.02255\n",
      "[4]\ttest-mlogloss:1.00713\ttrain-mlogloss:1.00561\n",
      "[5]\ttest-mlogloss:0.991354\ttrain-mlogloss:0.989449\n",
      "[6]\ttest-mlogloss:0.975869\ttrain-mlogloss:0.97366\n",
      "[7]\ttest-mlogloss:0.961122\ttrain-mlogloss:0.958569\n",
      "[8]\ttest-mlogloss:0.947583\ttrain-mlogloss:0.944734\n",
      "[9]\ttest-mlogloss:0.93418\ttrain-mlogloss:0.931056\n",
      "[10]\ttest-mlogloss:0.921935\ttrain-mlogloss:0.918534\n",
      "[11]\ttest-mlogloss:0.909453\ttrain-mlogloss:0.905747\n",
      "[12]\ttest-mlogloss:0.898042\ttrain-mlogloss:0.894006\n",
      "[13]\ttest-mlogloss:0.886982\ttrain-mlogloss:0.88263\n",
      "[14]\ttest-mlogloss:0.875903\ttrain-mlogloss:0.871184\n",
      "[15]\ttest-mlogloss:0.865351\ttrain-mlogloss:0.860313\n",
      "[16]\ttest-mlogloss:0.855685\ttrain-mlogloss:0.850326\n",
      "[17]\ttest-mlogloss:0.846435\ttrain-mlogloss:0.840799\n",
      "[18]\ttest-mlogloss:0.83712\ttrain-mlogloss:0.831219\n",
      "[19]\ttest-mlogloss:0.828395\ttrain-mlogloss:0.822181\n",
      "[20]\ttest-mlogloss:0.819679\ttrain-mlogloss:0.813147\n",
      "[21]\ttest-mlogloss:0.811351\ttrain-mlogloss:0.804501\n",
      "[22]\ttest-mlogloss:0.803506\ttrain-mlogloss:0.796383\n",
      "[23]\ttest-mlogloss:0.795817\ttrain-mlogloss:0.788367\n",
      "[24]\ttest-mlogloss:0.788298\ttrain-mlogloss:0.780576\n",
      "[25]\ttest-mlogloss:0.781642\ttrain-mlogloss:0.773599\n",
      "[26]\ttest-mlogloss:0.774805\ttrain-mlogloss:0.766446\n",
      "[27]\ttest-mlogloss:0.768408\ttrain-mlogloss:0.759732\n",
      "[28]\ttest-mlogloss:0.762002\ttrain-mlogloss:0.752999\n",
      "[29]\ttest-mlogloss:0.755669\ttrain-mlogloss:0.746322\n",
      "[30]\ttest-mlogloss:0.749753\ttrain-mlogloss:0.74007\n",
      "[31]\ttest-mlogloss:0.744008\ttrain-mlogloss:0.734091\n",
      "[32]\ttest-mlogloss:0.73861\ttrain-mlogloss:0.728364\n",
      "[33]\ttest-mlogloss:0.733169\ttrain-mlogloss:0.722626\n",
      "[34]\ttest-mlogloss:0.728117\ttrain-mlogloss:0.717258\n",
      "[35]\ttest-mlogloss:0.723168\ttrain-mlogloss:0.71202\n",
      "[36]\ttest-mlogloss:0.718556\ttrain-mlogloss:0.707103\n",
      "[37]\ttest-mlogloss:0.714067\ttrain-mlogloss:0.702386\n",
      "[38]\ttest-mlogloss:0.709647\ttrain-mlogloss:0.697678\n",
      "[39]\ttest-mlogloss:0.705338\ttrain-mlogloss:0.693122\n",
      "[40]\ttest-mlogloss:0.701412\ttrain-mlogloss:0.68888\n",
      "[41]\ttest-mlogloss:0.697324\ttrain-mlogloss:0.684524\n",
      "[42]\ttest-mlogloss:0.693491\ttrain-mlogloss:0.68038\n",
      "[43]\ttest-mlogloss:0.689749\ttrain-mlogloss:0.676384\n",
      "[44]\ttest-mlogloss:0.686145\ttrain-mlogloss:0.67249\n",
      "[45]\ttest-mlogloss:0.682564\ttrain-mlogloss:0.668668\n",
      "[46]\ttest-mlogloss:0.679107\ttrain-mlogloss:0.664971\n",
      "[47]\ttest-mlogloss:0.675868\ttrain-mlogloss:0.661494\n",
      "[48]\ttest-mlogloss:0.672691\ttrain-mlogloss:0.658055\n",
      "[49]\ttest-mlogloss:0.66965\ttrain-mlogloss:0.654773\n",
      "[50]\ttest-mlogloss:0.666633\ttrain-mlogloss:0.651492\n",
      "[51]\ttest-mlogloss:0.663756\ttrain-mlogloss:0.648379\n",
      "[52]\ttest-mlogloss:0.660905\ttrain-mlogloss:0.645349\n",
      "[53]\ttest-mlogloss:0.658137\ttrain-mlogloss:0.642337\n",
      "[54]\ttest-mlogloss:0.65542\ttrain-mlogloss:0.639399\n",
      "[55]\ttest-mlogloss:0.652817\ttrain-mlogloss:0.63651\n",
      "[56]\ttest-mlogloss:0.650229\ttrain-mlogloss:0.633691\n",
      "[57]\ttest-mlogloss:0.647845\ttrain-mlogloss:0.631023\n",
      "[58]\ttest-mlogloss:0.645477\ttrain-mlogloss:0.628423\n",
      "[59]\ttest-mlogloss:0.643227\ttrain-mlogloss:0.625968\n",
      "[60]\ttest-mlogloss:0.641117\ttrain-mlogloss:0.62356\n",
      "[61]\ttest-mlogloss:0.638912\ttrain-mlogloss:0.621144\n",
      "[62]\ttest-mlogloss:0.636732\ttrain-mlogloss:0.61879\n",
      "[63]\ttest-mlogloss:0.634775\ttrain-mlogloss:0.616613\n",
      "[64]\ttest-mlogloss:0.632774\ttrain-mlogloss:0.614451\n",
      "[65]\ttest-mlogloss:0.630909\ttrain-mlogloss:0.612315\n",
      "[66]\ttest-mlogloss:0.629045\ttrain-mlogloss:0.610182\n",
      "[67]\ttest-mlogloss:0.62735\ttrain-mlogloss:0.608176\n",
      "[68]\ttest-mlogloss:0.62561\ttrain-mlogloss:0.606222\n",
      "[69]\ttest-mlogloss:0.62397\ttrain-mlogloss:0.604342\n",
      "[70]\ttest-mlogloss:0.622459\ttrain-mlogloss:0.602605\n",
      "[71]\ttest-mlogloss:0.620841\ttrain-mlogloss:0.600735\n",
      "[72]\ttest-mlogloss:0.619231\ttrain-mlogloss:0.598943\n",
      "[73]\ttest-mlogloss:0.617722\ttrain-mlogloss:0.597155\n",
      "[74]\ttest-mlogloss:0.61631\ttrain-mlogloss:0.595549\n",
      "[75]\ttest-mlogloss:0.614886\ttrain-mlogloss:0.593861\n",
      "[76]\ttest-mlogloss:0.613573\ttrain-mlogloss:0.592325\n",
      "[77]\ttest-mlogloss:0.61216\ttrain-mlogloss:0.590657\n",
      "[78]\ttest-mlogloss:0.610758\ttrain-mlogloss:0.589056\n",
      "[79]\ttest-mlogloss:0.609422\ttrain-mlogloss:0.587518\n",
      "[80]\ttest-mlogloss:0.608147\ttrain-mlogloss:0.585993\n",
      "[81]\ttest-mlogloss:0.606876\ttrain-mlogloss:0.584536\n",
      "[82]\ttest-mlogloss:0.605804\ttrain-mlogloss:0.583157\n",
      "[83]\ttest-mlogloss:0.60467\ttrain-mlogloss:0.581746\n",
      "[84]\ttest-mlogloss:0.603577\ttrain-mlogloss:0.580378\n",
      "[85]\ttest-mlogloss:0.602494\ttrain-mlogloss:0.57908\n",
      "[86]\ttest-mlogloss:0.601427\ttrain-mlogloss:0.577783\n",
      "[87]\ttest-mlogloss:0.60037\ttrain-mlogloss:0.57652\n",
      "[88]\ttest-mlogloss:0.599413\ttrain-mlogloss:0.575297\n",
      "[89]\ttest-mlogloss:0.598422\ttrain-mlogloss:0.574084\n",
      "[90]\ttest-mlogloss:0.597468\ttrain-mlogloss:0.5729\n",
      "[91]\ttest-mlogloss:0.596453\ttrain-mlogloss:0.571659\n",
      "[92]\ttest-mlogloss:0.595516\ttrain-mlogloss:0.570491\n",
      "[93]\ttest-mlogloss:0.594673\ttrain-mlogloss:0.569388\n",
      "[94]\ttest-mlogloss:0.593828\ttrain-mlogloss:0.568337\n",
      "[95]\ttest-mlogloss:0.593065\ttrain-mlogloss:0.567299\n",
      "[96]\ttest-mlogloss:0.592161\ttrain-mlogloss:0.566182\n",
      "[97]\ttest-mlogloss:0.591444\ttrain-mlogloss:0.565172\n",
      "[98]\ttest-mlogloss:0.590707\ttrain-mlogloss:0.564118\n",
      "[99]\ttest-mlogloss:0.589949\ttrain-mlogloss:0.563151\n",
      "[0]\ttest-mlogloss:1.07811\ttrain-mlogloss:1.07754\n",
      "[1]\ttest-mlogloss:1.05912\ttrain-mlogloss:1.05809\n",
      "[2]\ttest-mlogloss:1.04199\ttrain-mlogloss:1.04049\n",
      "[3]\ttest-mlogloss:1.02464\ttrain-mlogloss:1.02266\n",
      "[4]\ttest-mlogloss:1.00815\ttrain-mlogloss:1.0057\n",
      "[5]\ttest-mlogloss:0.992378\ttrain-mlogloss:0.989524\n",
      "[6]\ttest-mlogloss:0.976862\ttrain-mlogloss:0.97361\n",
      "[7]\ttest-mlogloss:0.962176\ttrain-mlogloss:0.958482\n",
      "[8]\ttest-mlogloss:0.948749\ttrain-mlogloss:0.944701\n",
      "[9]\ttest-mlogloss:0.935448\ttrain-mlogloss:0.931018\n",
      "[10]\ttest-mlogloss:0.923159\ttrain-mlogloss:0.918361\n",
      "[11]\ttest-mlogloss:0.910877\ttrain-mlogloss:0.905625\n",
      "[12]\ttest-mlogloss:0.899537\ttrain-mlogloss:0.893922\n",
      "[13]\ttest-mlogloss:0.888504\ttrain-mlogloss:0.882581\n",
      "[14]\ttest-mlogloss:0.877554\ttrain-mlogloss:0.871185\n",
      "[15]\ttest-mlogloss:0.867037\ttrain-mlogloss:0.860312\n",
      "[16]\ttest-mlogloss:0.857446\ttrain-mlogloss:0.850322\n",
      "[17]\ttest-mlogloss:0.84815\ttrain-mlogloss:0.840717\n",
      "[18]\ttest-mlogloss:0.838998\ttrain-mlogloss:0.831168\n",
      "[19]\ttest-mlogloss:0.830308\ttrain-mlogloss:0.822085\n",
      "[20]\ttest-mlogloss:0.821655\ttrain-mlogloss:0.813067\n",
      "[21]\ttest-mlogloss:0.813411\ttrain-mlogloss:0.804496\n",
      "[22]\ttest-mlogloss:0.8056\ttrain-mlogloss:0.796315\n",
      "[23]\ttest-mlogloss:0.797857\ttrain-mlogloss:0.78824\n",
      "[24]\ttest-mlogloss:0.790443\ttrain-mlogloss:0.7804\n",
      "[25]\ttest-mlogloss:0.783789\ttrain-mlogloss:0.773409\n",
      "[26]\ttest-mlogloss:0.776947\ttrain-mlogloss:0.76624\n",
      "[27]\ttest-mlogloss:0.77055\ttrain-mlogloss:0.759513\n",
      "[28]\ttest-mlogloss:0.764252\ttrain-mlogloss:0.752797\n",
      "[29]\ttest-mlogloss:0.757993\ttrain-mlogloss:0.746178\n",
      "[30]\ttest-mlogloss:0.752018\ttrain-mlogloss:0.7399\n",
      "[31]\ttest-mlogloss:0.746297\ttrain-mlogloss:0.733879\n",
      "[32]\ttest-mlogloss:0.740831\ttrain-mlogloss:0.728105\n",
      "[33]\ttest-mlogloss:0.735497\ttrain-mlogloss:0.722444\n",
      "[34]\ttest-mlogloss:0.730418\ttrain-mlogloss:0.717048\n",
      "[35]\ttest-mlogloss:0.725513\ttrain-mlogloss:0.711846\n",
      "[36]\ttest-mlogloss:0.720931\ttrain-mlogloss:0.706904\n",
      "[37]\ttest-mlogloss:0.716415\ttrain-mlogloss:0.702135\n",
      "[38]\ttest-mlogloss:0.712032\ttrain-mlogloss:0.697395\n",
      "[39]\ttest-mlogloss:0.707778\ttrain-mlogloss:0.692881\n",
      "[40]\ttest-mlogloss:0.703767\ttrain-mlogloss:0.688552\n",
      "[41]\ttest-mlogloss:0.699676\ttrain-mlogloss:0.684209\n",
      "[42]\ttest-mlogloss:0.695854\ttrain-mlogloss:0.680153\n",
      "[43]\ttest-mlogloss:0.692196\ttrain-mlogloss:0.676164\n",
      "[44]\ttest-mlogloss:0.688569\ttrain-mlogloss:0.672266\n",
      "[45]\ttest-mlogloss:0.684992\ttrain-mlogloss:0.668421\n",
      "[46]\ttest-mlogloss:0.681606\ttrain-mlogloss:0.664709\n",
      "[47]\ttest-mlogloss:0.678456\ttrain-mlogloss:0.661266\n",
      "[48]\ttest-mlogloss:0.675214\ttrain-mlogloss:0.657769\n",
      "[49]\ttest-mlogloss:0.672209\ttrain-mlogloss:0.654446\n",
      "[50]\ttest-mlogloss:0.669218\ttrain-mlogloss:0.651159\n",
      "[51]\ttest-mlogloss:0.666379\ttrain-mlogloss:0.648033\n",
      "[52]\ttest-mlogloss:0.663566\ttrain-mlogloss:0.644986\n",
      "[53]\ttest-mlogloss:0.660789\ttrain-mlogloss:0.64195\n",
      "[54]\ttest-mlogloss:0.65814\ttrain-mlogloss:0.638957\n",
      "[55]\ttest-mlogloss:0.655568\ttrain-mlogloss:0.636118\n",
      "[56]\ttest-mlogloss:0.653097\ttrain-mlogloss:0.633365\n",
      "[57]\ttest-mlogloss:0.650701\ttrain-mlogloss:0.630686\n",
      "[58]\ttest-mlogloss:0.648386\ttrain-mlogloss:0.628087\n",
      "[59]\ttest-mlogloss:0.646161\ttrain-mlogloss:0.625566\n",
      "[60]\ttest-mlogloss:0.64407\ttrain-mlogloss:0.623192\n",
      "[61]\ttest-mlogloss:0.641959\ttrain-mlogloss:0.620837\n",
      "[62]\ttest-mlogloss:0.639886\ttrain-mlogloss:0.618455\n",
      "[63]\ttest-mlogloss:0.637986\ttrain-mlogloss:0.616261\n",
      "[64]\ttest-mlogloss:0.636055\ttrain-mlogloss:0.614034\n",
      "[65]\ttest-mlogloss:0.63417\ttrain-mlogloss:0.611818\n",
      "[66]\ttest-mlogloss:0.632321\ttrain-mlogloss:0.609707\n",
      "[67]\ttest-mlogloss:0.630613\ttrain-mlogloss:0.607712\n",
      "[68]\ttest-mlogloss:0.628879\ttrain-mlogloss:0.605742\n",
      "[69]\ttest-mlogloss:0.627239\ttrain-mlogloss:0.603856\n",
      "[70]\ttest-mlogloss:0.625723\ttrain-mlogloss:0.602068\n",
      "[71]\ttest-mlogloss:0.624161\ttrain-mlogloss:0.600228\n",
      "[72]\ttest-mlogloss:0.622665\ttrain-mlogloss:0.59844\n",
      "[73]\ttest-mlogloss:0.62115\ttrain-mlogloss:0.596621\n",
      "[74]\ttest-mlogloss:0.61974\ttrain-mlogloss:0.594973\n",
      "[75]\ttest-mlogloss:0.618343\ttrain-mlogloss:0.593265\n",
      "[76]\ttest-mlogloss:0.617036\ttrain-mlogloss:0.591695\n",
      "[77]\ttest-mlogloss:0.615709\ttrain-mlogloss:0.590142\n",
      "[78]\ttest-mlogloss:0.614394\ttrain-mlogloss:0.588611\n",
      "[79]\ttest-mlogloss:0.613073\ttrain-mlogloss:0.586996\n",
      "[80]\ttest-mlogloss:0.611799\ttrain-mlogloss:0.58546\n",
      "[81]\ttest-mlogloss:0.61058\ttrain-mlogloss:0.583975\n",
      "[82]\ttest-mlogloss:0.609431\ttrain-mlogloss:0.582601\n",
      "[83]\ttest-mlogloss:0.608252\ttrain-mlogloss:0.581146\n",
      "[84]\ttest-mlogloss:0.607189\ttrain-mlogloss:0.579811\n",
      "[85]\ttest-mlogloss:0.606118\ttrain-mlogloss:0.578527\n",
      "[86]\ttest-mlogloss:0.60511\ttrain-mlogloss:0.577204\n",
      "[87]\ttest-mlogloss:0.604083\ttrain-mlogloss:0.575914\n",
      "[88]\ttest-mlogloss:0.603113\ttrain-mlogloss:0.57473\n",
      "[89]\ttest-mlogloss:0.602154\ttrain-mlogloss:0.573539\n",
      "[90]\ttest-mlogloss:0.6012\ttrain-mlogloss:0.572347\n",
      "[91]\ttest-mlogloss:0.600213\ttrain-mlogloss:0.571099\n",
      "[92]\ttest-mlogloss:0.59936\ttrain-mlogloss:0.569964\n",
      "[93]\ttest-mlogloss:0.598489\ttrain-mlogloss:0.568886\n",
      "[94]\ttest-mlogloss:0.597674\ttrain-mlogloss:0.567819\n",
      "[95]\ttest-mlogloss:0.596858\ttrain-mlogloss:0.566772\n",
      "[96]\ttest-mlogloss:0.596059\ttrain-mlogloss:0.565746\n",
      "[97]\ttest-mlogloss:0.595307\ttrain-mlogloss:0.56466\n",
      "[98]\ttest-mlogloss:0.594556\ttrain-mlogloss:0.563636\n",
      "[99]\ttest-mlogloss:0.593831\ttrain-mlogloss:0.562621\n",
      "[0]\ttest-mlogloss:1.07792\ttrain-mlogloss:1.0776\n",
      "[1]\ttest-mlogloss:1.05876\ttrain-mlogloss:1.05815\n",
      "[2]\ttest-mlogloss:1.04141\ttrain-mlogloss:1.04056\n",
      "[3]\ttest-mlogloss:1.02392\ttrain-mlogloss:1.02272\n",
      "[4]\ttest-mlogloss:1.00719\ttrain-mlogloss:1.00575\n",
      "[5]\ttest-mlogloss:0.991238\ttrain-mlogloss:0.989611\n",
      "[6]\ttest-mlogloss:0.975701\ttrain-mlogloss:0.973737\n",
      "[7]\ttest-mlogloss:0.961072\ttrain-mlogloss:0.95876\n",
      "[8]\ttest-mlogloss:0.947488\ttrain-mlogloss:0.944871\n",
      "[9]\ttest-mlogloss:0.934081\ttrain-mlogloss:0.931162\n",
      "[10]\ttest-mlogloss:0.921684\ttrain-mlogloss:0.918429\n",
      "[11]\ttest-mlogloss:0.909286\ttrain-mlogloss:0.905699\n",
      "[12]\ttest-mlogloss:0.897797\ttrain-mlogloss:0.893939\n",
      "[13]\ttest-mlogloss:0.886652\ttrain-mlogloss:0.882544\n",
      "[14]\ttest-mlogloss:0.875544\ttrain-mlogloss:0.871125\n",
      "[15]\ttest-mlogloss:0.865006\ttrain-mlogloss:0.860237\n",
      "[16]\ttest-mlogloss:0.85532\ttrain-mlogloss:0.850222\n",
      "[17]\ttest-mlogloss:0.845928\ttrain-mlogloss:0.840542\n",
      "[18]\ttest-mlogloss:0.836621\ttrain-mlogloss:0.830954\n",
      "[19]\ttest-mlogloss:0.827801\ttrain-mlogloss:0.821852\n",
      "[20]\ttest-mlogloss:0.819061\ttrain-mlogloss:0.812882\n",
      "[21]\ttest-mlogloss:0.810707\ttrain-mlogloss:0.804243\n",
      "[22]\ttest-mlogloss:0.802858\ttrain-mlogloss:0.796123\n",
      "[23]\ttest-mlogloss:0.795106\ttrain-mlogloss:0.788106\n",
      "[24]\ttest-mlogloss:0.787632\ttrain-mlogloss:0.780304\n",
      "[25]\ttest-mlogloss:0.78098\ttrain-mlogloss:0.773373\n",
      "[26]\ttest-mlogloss:0.774071\ttrain-mlogloss:0.766197\n",
      "[27]\ttest-mlogloss:0.767583\ttrain-mlogloss:0.759469\n",
      "[28]\ttest-mlogloss:0.761176\ttrain-mlogloss:0.752764\n",
      "[29]\ttest-mlogloss:0.754865\ttrain-mlogloss:0.746129\n",
      "[30]\ttest-mlogloss:0.748808\ttrain-mlogloss:0.739812\n",
      "[31]\ttest-mlogloss:0.74307\ttrain-mlogloss:0.733822\n",
      "[32]\ttest-mlogloss:0.737564\ttrain-mlogloss:0.728097\n",
      "[33]\ttest-mlogloss:0.732159\ttrain-mlogloss:0.722417\n",
      "[34]\ttest-mlogloss:0.727069\ttrain-mlogloss:0.717078\n",
      "[35]\ttest-mlogloss:0.722099\ttrain-mlogloss:0.711888\n",
      "[36]\ttest-mlogloss:0.717483\ttrain-mlogloss:0.706971\n",
      "[37]\ttest-mlogloss:0.712927\ttrain-mlogloss:0.702223\n",
      "[38]\ttest-mlogloss:0.708513\ttrain-mlogloss:0.697501\n",
      "[39]\ttest-mlogloss:0.704204\ttrain-mlogloss:0.692933\n",
      "[40]\ttest-mlogloss:0.700146\ttrain-mlogloss:0.688638\n",
      "[41]\ttest-mlogloss:0.696061\ttrain-mlogloss:0.684283\n",
      "[42]\ttest-mlogloss:0.692151\ttrain-mlogloss:0.680128\n",
      "[43]\ttest-mlogloss:0.688514\ttrain-mlogloss:0.676143\n",
      "[44]\ttest-mlogloss:0.684836\ttrain-mlogloss:0.672216\n",
      "[45]\ttest-mlogloss:0.681174\ttrain-mlogloss:0.668381\n",
      "[46]\ttest-mlogloss:0.677763\ttrain-mlogloss:0.664693\n",
      "[47]\ttest-mlogloss:0.674516\ttrain-mlogloss:0.661224\n",
      "[48]\ttest-mlogloss:0.671386\ttrain-mlogloss:0.657771\n",
      "[49]\ttest-mlogloss:0.668329\ttrain-mlogloss:0.654514\n",
      "[50]\ttest-mlogloss:0.665377\ttrain-mlogloss:0.651279\n",
      "[51]\ttest-mlogloss:0.662513\ttrain-mlogloss:0.648136\n",
      "[52]\ttest-mlogloss:0.659711\ttrain-mlogloss:0.645105\n",
      "[53]\ttest-mlogloss:0.65699\ttrain-mlogloss:0.642138\n",
      "[54]\ttest-mlogloss:0.654338\ttrain-mlogloss:0.63926\n",
      "[55]\ttest-mlogloss:0.651739\ttrain-mlogloss:0.636371\n",
      "[56]\ttest-mlogloss:0.649166\ttrain-mlogloss:0.633618\n",
      "[57]\ttest-mlogloss:0.646727\ttrain-mlogloss:0.630898\n",
      "[58]\ttest-mlogloss:0.644379\ttrain-mlogloss:0.62828\n",
      "[59]\ttest-mlogloss:0.642142\ttrain-mlogloss:0.625838\n",
      "[60]\ttest-mlogloss:0.639971\ttrain-mlogloss:0.623431\n",
      "[61]\ttest-mlogloss:0.637852\ttrain-mlogloss:0.621036\n",
      "[62]\ttest-mlogloss:0.635721\ttrain-mlogloss:0.618772\n",
      "[63]\ttest-mlogloss:0.633741\ttrain-mlogloss:0.616522\n",
      "[64]\ttest-mlogloss:0.631844\ttrain-mlogloss:0.61437\n",
      "[65]\ttest-mlogloss:0.629952\ttrain-mlogloss:0.612225\n",
      "[66]\ttest-mlogloss:0.62804\ttrain-mlogloss:0.610121\n",
      "[67]\ttest-mlogloss:0.626303\ttrain-mlogloss:0.608121\n",
      "[68]\ttest-mlogloss:0.624596\ttrain-mlogloss:0.606241\n",
      "[69]\ttest-mlogloss:0.622972\ttrain-mlogloss:0.604364\n",
      "[70]\ttest-mlogloss:0.621409\ttrain-mlogloss:0.60256\n",
      "[71]\ttest-mlogloss:0.619907\ttrain-mlogloss:0.600743\n",
      "[72]\ttest-mlogloss:0.618396\ttrain-mlogloss:0.598965\n",
      "[73]\ttest-mlogloss:0.616903\ttrain-mlogloss:0.59722\n",
      "[74]\ttest-mlogloss:0.615464\ttrain-mlogloss:0.595612\n",
      "[75]\ttest-mlogloss:0.614066\ttrain-mlogloss:0.593961\n",
      "[76]\ttest-mlogloss:0.612737\ttrain-mlogloss:0.592416\n",
      "[77]\ttest-mlogloss:0.611389\ttrain-mlogloss:0.59084\n",
      "[78]\ttest-mlogloss:0.610112\ttrain-mlogloss:0.589303\n",
      "[79]\ttest-mlogloss:0.608776\ttrain-mlogloss:0.587732\n",
      "[80]\ttest-mlogloss:0.607439\ttrain-mlogloss:0.586188\n",
      "[81]\ttest-mlogloss:0.606197\ttrain-mlogloss:0.58472\n",
      "[82]\ttest-mlogloss:0.60496\ttrain-mlogloss:0.583305\n",
      "[83]\ttest-mlogloss:0.603793\ttrain-mlogloss:0.581901\n",
      "[84]\ttest-mlogloss:0.602655\ttrain-mlogloss:0.580529\n",
      "[85]\ttest-mlogloss:0.601573\ttrain-mlogloss:0.579174\n",
      "[86]\ttest-mlogloss:0.600496\ttrain-mlogloss:0.577894\n",
      "[87]\ttest-mlogloss:0.599431\ttrain-mlogloss:0.576662\n",
      "[88]\ttest-mlogloss:0.598445\ttrain-mlogloss:0.575438\n",
      "[89]\ttest-mlogloss:0.597468\ttrain-mlogloss:0.574273\n",
      "[90]\ttest-mlogloss:0.596515\ttrain-mlogloss:0.573044\n",
      "[91]\ttest-mlogloss:0.595556\ttrain-mlogloss:0.571779\n",
      "[92]\ttest-mlogloss:0.594536\ttrain-mlogloss:0.57055\n",
      "[93]\ttest-mlogloss:0.593685\ttrain-mlogloss:0.569461\n",
      "[94]\ttest-mlogloss:0.592854\ttrain-mlogloss:0.568377\n",
      "[95]\ttest-mlogloss:0.592025\ttrain-mlogloss:0.567281\n",
      "[96]\ttest-mlogloss:0.591201\ttrain-mlogloss:0.566163\n",
      "[97]\ttest-mlogloss:0.59038\ttrain-mlogloss:0.565139\n",
      "[98]\ttest-mlogloss:0.589583\ttrain-mlogloss:0.564162\n",
      "[99]\ttest-mlogloss:0.588817\ttrain-mlogloss:0.563136\n",
      "[0]\ttest-mlogloss:1.07782\ttrain-mlogloss:1.07754\n",
      "[1]\ttest-mlogloss:1.05864\ttrain-mlogloss:1.05806\n",
      "[2]\ttest-mlogloss:1.04119\ttrain-mlogloss:1.04026\n",
      "[3]\ttest-mlogloss:1.02372\ttrain-mlogloss:1.02246\n",
      "[4]\ttest-mlogloss:1.00701\ttrain-mlogloss:1.00543\n",
      "[5]\ttest-mlogloss:0.991282\ttrain-mlogloss:0.98931\n",
      "[6]\ttest-mlogloss:0.975758\ttrain-mlogloss:0.973462\n",
      "[7]\ttest-mlogloss:0.961079\ttrain-mlogloss:0.958384\n",
      "[8]\ttest-mlogloss:0.947505\ttrain-mlogloss:0.944505\n",
      "[9]\ttest-mlogloss:0.934146\ttrain-mlogloss:0.930914\n",
      "[10]\ttest-mlogloss:0.921721\ttrain-mlogloss:0.918221\n",
      "[11]\ttest-mlogloss:0.909307\ttrain-mlogloss:0.905437\n",
      "[12]\ttest-mlogloss:0.897914\ttrain-mlogloss:0.8937\n",
      "[13]\ttest-mlogloss:0.886905\ttrain-mlogloss:0.88232\n",
      "[14]\ttest-mlogloss:0.875814\ttrain-mlogloss:0.870957\n",
      "[15]\ttest-mlogloss:0.865239\ttrain-mlogloss:0.860071\n",
      "[16]\ttest-mlogloss:0.855672\ttrain-mlogloss:0.850129\n",
      "[17]\ttest-mlogloss:0.846282\ttrain-mlogloss:0.840431\n",
      "[18]\ttest-mlogloss:0.836962\ttrain-mlogloss:0.830825\n",
      "[19]\ttest-mlogloss:0.828221\ttrain-mlogloss:0.821688\n",
      "[20]\ttest-mlogloss:0.819588\ttrain-mlogloss:0.812721\n",
      "[21]\ttest-mlogloss:0.811227\ttrain-mlogloss:0.80406\n",
      "[22]\ttest-mlogloss:0.803371\ttrain-mlogloss:0.795886\n",
      "[23]\ttest-mlogloss:0.795688\ttrain-mlogloss:0.787885\n",
      "[24]\ttest-mlogloss:0.78816\ttrain-mlogloss:0.780102\n",
      "[25]\ttest-mlogloss:0.781497\ttrain-mlogloss:0.773126\n",
      "[26]\ttest-mlogloss:0.774652\ttrain-mlogloss:0.765972\n",
      "[27]\ttest-mlogloss:0.768289\ttrain-mlogloss:0.75929\n",
      "[28]\ttest-mlogloss:0.761912\ttrain-mlogloss:0.752603\n",
      "[29]\ttest-mlogloss:0.755662\ttrain-mlogloss:0.746017\n",
      "[30]\ttest-mlogloss:0.749687\ttrain-mlogloss:0.739714\n",
      "[31]\ttest-mlogloss:0.743931\ttrain-mlogloss:0.73372\n",
      "[32]\ttest-mlogloss:0.738506\ttrain-mlogloss:0.727952\n",
      "[33]\ttest-mlogloss:0.733125\ttrain-mlogloss:0.722217\n",
      "[34]\ttest-mlogloss:0.728022\ttrain-mlogloss:0.716804\n",
      "[35]\ttest-mlogloss:0.72314\ttrain-mlogloss:0.711587\n",
      "[36]\ttest-mlogloss:0.718571\ttrain-mlogloss:0.70665\n",
      "[37]\ttest-mlogloss:0.714157\ttrain-mlogloss:0.701882\n",
      "[38]\ttest-mlogloss:0.709765\ttrain-mlogloss:0.697184\n",
      "[39]\ttest-mlogloss:0.705529\ttrain-mlogloss:0.692607\n",
      "[40]\ttest-mlogloss:0.701623\ttrain-mlogloss:0.68832\n",
      "[41]\ttest-mlogloss:0.697547\ttrain-mlogloss:0.683958\n",
      "[42]\ttest-mlogloss:0.693744\ttrain-mlogloss:0.679849\n",
      "[43]\ttest-mlogloss:0.690133\ttrain-mlogloss:0.675863\n",
      "[44]\ttest-mlogloss:0.686528\ttrain-mlogloss:0.671983\n",
      "[45]\ttest-mlogloss:0.682961\ttrain-mlogloss:0.66809\n",
      "[46]\ttest-mlogloss:0.679629\ttrain-mlogloss:0.66445\n",
      "[47]\ttest-mlogloss:0.676444\ttrain-mlogloss:0.66097\n",
      "[48]\ttest-mlogloss:0.673291\ttrain-mlogloss:0.657502\n",
      "[49]\ttest-mlogloss:0.670327\ttrain-mlogloss:0.6542\n",
      "[50]\ttest-mlogloss:0.66741\ttrain-mlogloss:0.650914\n",
      "[51]\ttest-mlogloss:0.664508\ttrain-mlogloss:0.647779\n",
      "[52]\ttest-mlogloss:0.661713\ttrain-mlogloss:0.644741\n",
      "[53]\ttest-mlogloss:0.65901\ttrain-mlogloss:0.641778\n",
      "[54]\ttest-mlogloss:0.656365\ttrain-mlogloss:0.638863\n",
      "[55]\ttest-mlogloss:0.653688\ttrain-mlogloss:0.635949\n",
      "[56]\ttest-mlogloss:0.651166\ttrain-mlogloss:0.633135\n",
      "[57]\ttest-mlogloss:0.648723\ttrain-mlogloss:0.630419\n",
      "[58]\ttest-mlogloss:0.646357\ttrain-mlogloss:0.627776\n",
      "[59]\ttest-mlogloss:0.644155\ttrain-mlogloss:0.625319\n",
      "[60]\ttest-mlogloss:0.642036\ttrain-mlogloss:0.622931\n",
      "[61]\ttest-mlogloss:0.639928\ttrain-mlogloss:0.620572\n",
      "[62]\ttest-mlogloss:0.637859\ttrain-mlogloss:0.618244\n",
      "[63]\ttest-mlogloss:0.635915\ttrain-mlogloss:0.61605\n",
      "[64]\ttest-mlogloss:0.633965\ttrain-mlogloss:0.613825\n",
      "[65]\ttest-mlogloss:0.632114\ttrain-mlogloss:0.611711\n",
      "[66]\ttest-mlogloss:0.630248\ttrain-mlogloss:0.609569\n",
      "[67]\ttest-mlogloss:0.62853\ttrain-mlogloss:0.607564\n",
      "[68]\ttest-mlogloss:0.62691\ttrain-mlogloss:0.605631\n",
      "[69]\ttest-mlogloss:0.62526\ttrain-mlogloss:0.603715\n",
      "[70]\ttest-mlogloss:0.623807\ttrain-mlogloss:0.60198\n",
      "[71]\ttest-mlogloss:0.622207\ttrain-mlogloss:0.600159\n",
      "[72]\ttest-mlogloss:0.620659\ttrain-mlogloss:0.59836\n",
      "[73]\ttest-mlogloss:0.619205\ttrain-mlogloss:0.596605\n",
      "[74]\ttest-mlogloss:0.617762\ttrain-mlogloss:0.594915\n",
      "[75]\ttest-mlogloss:0.616328\ttrain-mlogloss:0.593212\n",
      "[76]\ttest-mlogloss:0.61496\ttrain-mlogloss:0.59156\n",
      "[77]\ttest-mlogloss:0.613589\ttrain-mlogloss:0.589867\n",
      "[78]\ttest-mlogloss:0.612248\ttrain-mlogloss:0.588274\n",
      "[79]\ttest-mlogloss:0.610938\ttrain-mlogloss:0.586734\n",
      "[80]\ttest-mlogloss:0.609735\ttrain-mlogloss:0.585247\n",
      "[81]\ttest-mlogloss:0.608526\ttrain-mlogloss:0.5838\n",
      "[82]\ttest-mlogloss:0.607364\ttrain-mlogloss:0.582341\n",
      "[83]\ttest-mlogloss:0.606228\ttrain-mlogloss:0.580901\n",
      "[84]\ttest-mlogloss:0.605232\ttrain-mlogloss:0.579607\n",
      "[85]\ttest-mlogloss:0.60415\ttrain-mlogloss:0.5783\n",
      "[86]\ttest-mlogloss:0.603165\ttrain-mlogloss:0.577048\n",
      "[87]\ttest-mlogloss:0.602148\ttrain-mlogloss:0.575798\n",
      "[88]\ttest-mlogloss:0.601251\ttrain-mlogloss:0.574594\n",
      "[89]\ttest-mlogloss:0.600316\ttrain-mlogloss:0.573388\n",
      "[90]\ttest-mlogloss:0.599386\ttrain-mlogloss:0.572269\n",
      "[91]\ttest-mlogloss:0.598487\ttrain-mlogloss:0.571072\n",
      "[92]\ttest-mlogloss:0.597594\ttrain-mlogloss:0.569926\n",
      "[93]\ttest-mlogloss:0.596793\ttrain-mlogloss:0.56887\n",
      "[94]\ttest-mlogloss:0.595894\ttrain-mlogloss:0.567807\n",
      "[95]\ttest-mlogloss:0.595145\ttrain-mlogloss:0.566826\n",
      "[96]\ttest-mlogloss:0.594413\ttrain-mlogloss:0.565789\n",
      "[97]\ttest-mlogloss:0.593691\ttrain-mlogloss:0.564782\n",
      "[98]\ttest-mlogloss:0.592944\ttrain-mlogloss:0.563789\n",
      "[99]\ttest-mlogloss:0.592164\ttrain-mlogloss:0.562748\n",
      "[0]\ttest-mlogloss:1.07892\ttrain-mlogloss:1.07862\n",
      "[1]\ttest-mlogloss:1.05918\ttrain-mlogloss:1.0585\n",
      "[2]\ttest-mlogloss:1.0406\ttrain-mlogloss:1.0395\n",
      "[3]\ttest-mlogloss:1.02308\ttrain-mlogloss:1.02171\n",
      "[4]\ttest-mlogloss:1.00651\ttrain-mlogloss:1.00473\n",
      "[5]\ttest-mlogloss:0.99023\ttrain-mlogloss:0.988095\n",
      "[6]\ttest-mlogloss:0.975016\ttrain-mlogloss:0.972596\n",
      "[7]\ttest-mlogloss:0.960291\ttrain-mlogloss:0.957582\n",
      "[8]\ttest-mlogloss:0.94639\ttrain-mlogloss:0.94335\n",
      "[9]\ttest-mlogloss:0.93305\ttrain-mlogloss:0.92964\n",
      "[10]\ttest-mlogloss:0.920587\ttrain-mlogloss:0.916824\n",
      "[11]\ttest-mlogloss:0.908356\ttrain-mlogloss:0.904218\n",
      "[12]\ttest-mlogloss:0.896757\ttrain-mlogloss:0.892199\n",
      "[13]\ttest-mlogloss:0.88573\ttrain-mlogloss:0.88086\n",
      "[14]\ttest-mlogloss:0.875723\ttrain-mlogloss:0.870559\n",
      "[15]\ttest-mlogloss:0.865358\ttrain-mlogloss:0.859866\n",
      "[16]\ttest-mlogloss:0.855497\ttrain-mlogloss:0.849734\n",
      "[17]\ttest-mlogloss:0.845753\ttrain-mlogloss:0.839695\n",
      "[18]\ttest-mlogloss:0.837034\ttrain-mlogloss:0.830674\n",
      "[19]\ttest-mlogloss:0.828167\ttrain-mlogloss:0.821463\n",
      "[20]\ttest-mlogloss:0.819484\ttrain-mlogloss:0.812433\n",
      "[21]\ttest-mlogloss:0.81119\ttrain-mlogloss:0.803852\n",
      "[22]\ttest-mlogloss:0.803087\ttrain-mlogloss:0.795412\n",
      "[23]\ttest-mlogloss:0.795846\ttrain-mlogloss:0.787931\n",
      "[24]\ttest-mlogloss:0.788703\ttrain-mlogloss:0.780445\n",
      "[25]\ttest-mlogloss:0.781613\ttrain-mlogloss:0.773023\n",
      "[26]\ttest-mlogloss:0.774977\ttrain-mlogloss:0.766064\n",
      "[27]\ttest-mlogloss:0.768479\ttrain-mlogloss:0.759264\n",
      "[28]\ttest-mlogloss:0.761992\ttrain-mlogloss:0.752489\n",
      "[29]\ttest-mlogloss:0.755782\ttrain-mlogloss:0.746026\n",
      "[30]\ttest-mlogloss:0.749959\ttrain-mlogloss:0.739863\n",
      "[31]\ttest-mlogloss:0.744207\ttrain-mlogloss:0.733887\n",
      "[32]\ttest-mlogloss:0.738814\ttrain-mlogloss:0.728158\n",
      "[33]\ttest-mlogloss:0.733601\ttrain-mlogloss:0.722672\n",
      "[34]\ttest-mlogloss:0.728596\ttrain-mlogloss:0.717344\n",
      "[35]\ttest-mlogloss:0.723639\ttrain-mlogloss:0.71208\n",
      "[36]\ttest-mlogloss:0.718986\ttrain-mlogloss:0.707156\n",
      "[37]\ttest-mlogloss:0.714517\ttrain-mlogloss:0.702353\n",
      "[38]\ttest-mlogloss:0.710031\ttrain-mlogloss:0.697548\n",
      "[39]\ttest-mlogloss:0.7058\ttrain-mlogloss:0.69306\n",
      "[40]\ttest-mlogloss:0.70164\ttrain-mlogloss:0.688596\n",
      "[41]\ttest-mlogloss:0.697802\ttrain-mlogloss:0.684457\n",
      "[42]\ttest-mlogloss:0.693936\ttrain-mlogloss:0.680344\n",
      "[43]\ttest-mlogloss:0.690174\ttrain-mlogloss:0.676304\n",
      "[44]\ttest-mlogloss:0.686501\ttrain-mlogloss:0.672343\n",
      "[45]\ttest-mlogloss:0.683118\ttrain-mlogloss:0.668638\n",
      "[46]\ttest-mlogloss:0.679617\ttrain-mlogloss:0.664869\n",
      "[47]\ttest-mlogloss:0.676229\ttrain-mlogloss:0.661195\n",
      "[48]\ttest-mlogloss:0.672914\ttrain-mlogloss:0.657613\n",
      "[49]\ttest-mlogloss:0.669768\ttrain-mlogloss:0.65417\n",
      "[50]\ttest-mlogloss:0.666705\ttrain-mlogloss:0.650882\n",
      "[51]\ttest-mlogloss:0.663773\ttrain-mlogloss:0.647697\n",
      "[52]\ttest-mlogloss:0.66092\ttrain-mlogloss:0.64454\n",
      "[53]\ttest-mlogloss:0.658269\ttrain-mlogloss:0.641605\n",
      "[54]\ttest-mlogloss:0.655853\ttrain-mlogloss:0.638894\n",
      "[55]\ttest-mlogloss:0.653313\ttrain-mlogloss:0.636105\n",
      "[56]\ttest-mlogloss:0.650856\ttrain-mlogloss:0.633356\n",
      "[57]\ttest-mlogloss:0.648434\ttrain-mlogloss:0.630664\n",
      "[58]\ttest-mlogloss:0.646167\ttrain-mlogloss:0.628087\n",
      "[59]\ttest-mlogloss:0.643892\ttrain-mlogloss:0.625582\n",
      "[60]\ttest-mlogloss:0.641808\ttrain-mlogloss:0.623154\n",
      "[61]\ttest-mlogloss:0.639704\ttrain-mlogloss:0.620784\n",
      "[62]\ttest-mlogloss:0.637825\ttrain-mlogloss:0.618633\n",
      "[63]\ttest-mlogloss:0.635788\ttrain-mlogloss:0.616353\n",
      "[64]\ttest-mlogloss:0.633958\ttrain-mlogloss:0.614253\n",
      "[65]\ttest-mlogloss:0.632159\ttrain-mlogloss:0.612185\n",
      "[66]\ttest-mlogloss:0.630403\ttrain-mlogloss:0.61015\n",
      "[67]\ttest-mlogloss:0.628611\ttrain-mlogloss:0.608081\n",
      "[68]\ttest-mlogloss:0.627062\ttrain-mlogloss:0.60626\n",
      "[69]\ttest-mlogloss:0.62545\ttrain-mlogloss:0.604318\n",
      "[70]\ttest-mlogloss:0.623746\ttrain-mlogloss:0.602397\n",
      "[71]\ttest-mlogloss:0.622159\ttrain-mlogloss:0.600611\n",
      "[72]\ttest-mlogloss:0.620788\ttrain-mlogloss:0.59897\n",
      "[73]\ttest-mlogloss:0.619219\ttrain-mlogloss:0.597176\n",
      "[74]\ttest-mlogloss:0.617785\ttrain-mlogloss:0.595529\n",
      "[75]\ttest-mlogloss:0.616445\ttrain-mlogloss:0.593897\n",
      "[76]\ttest-mlogloss:0.615078\ttrain-mlogloss:0.59225\n",
      "[77]\ttest-mlogloss:0.613776\ttrain-mlogloss:0.590694\n",
      "[78]\ttest-mlogloss:0.612416\ttrain-mlogloss:0.589117\n",
      "[79]\ttest-mlogloss:0.61112\ttrain-mlogloss:0.587583\n",
      "[80]\ttest-mlogloss:0.609992\ttrain-mlogloss:0.586182\n",
      "[81]\ttest-mlogloss:0.608741\ttrain-mlogloss:0.584695\n",
      "[82]\ttest-mlogloss:0.607603\ttrain-mlogloss:0.583315\n",
      "[83]\ttest-mlogloss:0.606506\ttrain-mlogloss:0.581981\n",
      "[84]\ttest-mlogloss:0.605344\ttrain-mlogloss:0.580635\n",
      "[85]\ttest-mlogloss:0.6042\ttrain-mlogloss:0.579301\n",
      "[86]\ttest-mlogloss:0.603144\ttrain-mlogloss:0.57801\n",
      "[87]\ttest-mlogloss:0.602039\ttrain-mlogloss:0.576716\n",
      "[88]\ttest-mlogloss:0.601097\ttrain-mlogloss:0.575533\n",
      "[89]\ttest-mlogloss:0.600132\ttrain-mlogloss:0.574349\n",
      "[90]\ttest-mlogloss:0.599168\ttrain-mlogloss:0.573174\n",
      "[91]\ttest-mlogloss:0.59829\ttrain-mlogloss:0.572086\n",
      "[92]\ttest-mlogloss:0.597402\ttrain-mlogloss:0.57094\n",
      "[93]\ttest-mlogloss:0.596453\ttrain-mlogloss:0.569789\n",
      "[94]\ttest-mlogloss:0.595638\ttrain-mlogloss:0.56874\n",
      "[95]\ttest-mlogloss:0.59483\ttrain-mlogloss:0.567702\n",
      "[96]\ttest-mlogloss:0.594043\ttrain-mlogloss:0.566672\n",
      "[97]\ttest-mlogloss:0.593305\ttrain-mlogloss:0.565721\n",
      "[98]\ttest-mlogloss:0.592576\ttrain-mlogloss:0.564793\n",
      "[99]\ttest-mlogloss:0.591761\ttrain-mlogloss:0.563779\n"
     ]
    }
   ],
   "source": [
    "for train_index, test_index in skf.split(X, y):\n",
    "    X_train, X_test = X[train_index], X[test_index]\n",
    "    y_train, y_test = y[train_index], y[test_index]\n",
    "    \n",
    "    dtrain = xgb.DMatrix(X_train, y_train)\n",
    "    dtest = xgb.DMatrix(X_test, y_test)\n",
    "    \n",
    "    watchlist  = [(dtest,'test'), (dtrain,'train')] # native interface only\n",
    "    bst = xgb.train(params, dtrain, num_boost_round=num_rounds, evals=watchlist)"
   ]
  },
  {
   "cell_type": "markdown",
   "metadata": {},
   "source": [
    "With just 'features_to_use', the best score is \"[2662]\ttest-mlogloss:0.538867\ttrain-mlogloss:0.335969\"\n",
    "\n",
    "with just 'manager_id_features', the best score is \"[990]\ttest-mlogloss:0.659298\ttrain-mlogloss:0.58707\""
   ]
  },
  {
   "cell_type": "code",
   "execution_count": 39,
   "metadata": {
    "collapsed": false
   },
   "outputs": [
    {
     "data": {
      "text/plain": [
       "(49352, 192)"
      ]
     },
     "execution_count": 39,
     "metadata": {},
     "output_type": "execute_result"
    }
   ],
   "source": [
    "X.shape"
   ]
  },
  {
   "cell_type": "code",
   "execution_count": 38,
   "metadata": {
    "collapsed": false
   },
   "outputs": [],
   "source": [
    "# making submmit file\n",
    "dtest = xgb.DMatrix(test.loc[:, all_features_to_use].values)\n",
    "dtrain = xgb.DMatrix(X, y)\n",
    "\n",
    "model = xgb.train(params, dtrain, num_boost_round=num_rounds)"
   ]
  },
  {
   "cell_type": "code",
   "execution_count": 40,
   "metadata": {
    "collapsed": true
   },
   "outputs": [],
   "source": [
    "pred_test = model.predict(dtest)"
   ]
  },
  {
   "cell_type": "code",
   "execution_count": 41,
   "metadata": {
    "collapsed": false
   },
   "outputs": [],
   "source": [
    "out_df = pd.DataFrame(pred_test)\n",
    "out_df.columns = ['low', 'medium', 'high']\n",
    "out_df.loc[:, 'listing_id'] = test.loc[:, 'listing_id'].values\n",
    "out_df.loc[:, ['listing_id', 'high', 'medium', 'low']].to_csv('./data/xgb_all_features.csv', index=False)"
   ]
  },
  {
   "cell_type": "code",
   "execution_count": 59,
   "metadata": {
    "collapsed": false
   },
   "outputs": [
    {
     "data": {
      "text/plain": [
       "array([[ 0.40748122,  0.44685197,  0.14566681],\n",
       "       [ 0.96654153,  0.01125877,  0.02219969],\n",
       "       [ 0.83025759,  0.15360817,  0.01613423],\n",
       "       ..., \n",
       "       [ 0.49655908,  0.38804275,  0.1153982 ],\n",
       "       [ 0.27064472,  0.45110559,  0.27824971],\n",
       "       [ 0.79035372,  0.17333017,  0.03631615]], dtype=float32)"
      ]
     },
     "execution_count": 59,
     "metadata": {},
     "output_type": "execute_result"
    }
   ],
   "source": [
    "pred_test"
   ]
  },
  {
   "cell_type": "markdown",
   "metadata": {},
   "source": [
    "### Bias-Variance Trade off"
   ]
  },
  {
   "cell_type": "code",
   "execution_count": 18,
   "metadata": {
    "collapsed": true
   },
   "outputs": [],
   "source": [
    "from sklearn.model_selection import validation_curve"
   ]
  },
  {
   "cell_type": "markdown",
   "metadata": {},
   "source": [
    "- use Scikit-learn wrapper,\n",
    "- train the model for different values of trees (`n_estimators`) using stratified 10-fold CV,\n",
    "- plot train/test errors"
   ]
  },
  {
   "cell_type": "code",
   "execution_count": 22,
   "metadata": {
    "collapsed": false
   },
   "outputs": [],
   "source": [
    "# for XGBClassifier\n",
    "default_params = {\n",
    "    'objective': 'multi:softprob',\n",
    "    'max_depth': 2,\n",
    "    'learning_rate': 0.5,\n",
    "    'silent': 1.0\n",
    "}\n",
    "\n",
    "skf = StratifiedKFold(n_splits=10, shuffle=True, random_state=2017)\n",
    "n_estimators_range = np.linspace(1, 200, 10).astype('int')\n",
    "\n",
    "train_scores, test_scores = validation_curve(\n",
    "    XGBClassifier(**default_params),\n",
    "    X, y,\n",
    "    param_name = 'n_estimators',\n",
    "    param_range = n_estimators_range,\n",
    "    cv=skf,\n",
    "    scoring='neg_log_loss'\n",
    ")"
   ]
  },
  {
   "cell_type": "code",
   "execution_count": 23,
   "metadata": {
    "collapsed": false
   },
   "outputs": [
    {
     "data": {
      "image/png": "[encoded data removed]",
      "text/plain": [
       "<matplotlib.figure.Figure at 0x7f2eb1b00b90>"
      ]
     },
     "metadata": {},
     "output_type": "display_data"
    },
    {
     "name": "stdout",
     "output_type": "stream",
     "text": [
      "Best cross-validation result (-0.55) obtained for 200 trees\n"
     ]
    }
   ],
   "source": [
    "train_scores_mean = np.mean(train_scores, axis=1)\n",
    "train_scores_std = np.std(train_scores, axis=1)\n",
    "test_scores_mean = np.mean(test_scores, axis=1)\n",
    "test_scores_std = np.std(test_scores, axis=1)\n",
    "\n",
    "fig = plt.figure(figsize=(10, 6), dpi=100)\n",
    "\n",
    "plt.title(\"Validation Curve with XGBoost (eta = 0.5)\")\n",
    "plt.xlabel(\"number of trees\")\n",
    "plt.ylabel(\"neg_log_loss\")\n",
    "\n",
    "plt.plot(n_estimators_range,\n",
    "             train_scores_mean,\n",
    "             label=\"Training score\",\n",
    "             color=\"r\")\n",
    "\n",
    "plt.plot(n_estimators_range,\n",
    "             test_scores_mean, \n",
    "             label=\"Cross-validation score\",\n",
    "             color=\"g\")\n",
    "\n",
    "plt.fill_between(n_estimators_range, \n",
    "                 train_scores_mean - train_scores_std,\n",
    "                 train_scores_mean + train_scores_std, \n",
    "                 alpha=0.2, color=\"r\")\n",
    "\n",
    "plt.fill_between(n_estimators_range,\n",
    "                 test_scores_mean - test_scores_std,\n",
    "                 test_scores_mean + test_scores_std,\n",
    "                 alpha=0.2, color=\"g\")\n",
    "\n",
    "plt.legend(loc=\"best\")\n",
    "plt.show()\n",
    "\n",
    "i = np.argmax(test_scores_mean)\n",
    "print(\"Best cross-validation result ({0:.2f}) obtained for {1} trees\".format(test_scores_mean[i], n_estimators_range[i]))"
   ]
  },
  {
   "cell_type": "code",
   "execution_count": 43,
   "metadata": {
    "collapsed": true
   },
   "outputs": [],
   "source": [
    "# for XGBClassifier - 파라미터 몇개 빠진듯?\n",
    "default_params = {\n",
    "    'objective': 'multi:softprob',\n",
    "    'max_depth': 3,\n",
    "    'learning_rate': 0.5,\n",
    "    'silent': 1.0,\n",
    "    'colsample_bytree': 0.6,\n",
    "    'subsample': 0.7\n",
    "}\n",
    "\n",
    "skf = StratifiedKFold(n_splits=10, shuffle=True, random_state=2017)\n",
    "n_estimators_range = np.linspace(1, 200, 10).astype('int')\n",
    "\n",
    "train_scores, test_scores = validation_curve(\n",
    "    XGBClassifier(**default_params),\n",
    "    X, y,\n",
    "    param_name = 'n_estimators',\n",
    "    param_range = n_estimators_range,\n",
    "    cv=skf,\n",
    "    scoring='neg_log_loss'\n",
    ")"
   ]
  },
  {
   "cell_type": "code",
   "execution_count": 44,
   "metadata": {
    "collapsed": false
   },
   "outputs": [
    {
     "data": {
      "image/png": "[encoded data removed]",
      "text/plain": [
       "<matplotlib.figure.Figure at 0x7f175ea60350>"
      ]
     },
     "metadata": {},
     "output_type": "display_data"
    },
    {
     "name": "stdout",
     "output_type": "stream",
     "text": [
      "Best cross-validation result (-0.55) obtained for 177 trees\n"
     ]
    }
   ],
   "source": [
    "train_scores_mean = np.mean(train_scores, axis=1)\n",
    "train_scores_std = np.std(train_scores, axis=1)\n",
    "test_scores_mean = np.mean(test_scores, axis=1)\n",
    "test_scores_std = np.std(test_scores, axis=1)\n",
    "\n",
    "fig = plt.figure(figsize=(10, 6), dpi=100)\n",
    "\n",
    "plt.title(\"Validation Curve with XGBoost (eta = 0.5)\")\n",
    "plt.xlabel(\"number of trees\")\n",
    "plt.ylabel(\"neg_log_loss\")\n",
    "\n",
    "plt.plot(n_estimators_range,\n",
    "             train_scores_mean,\n",
    "             label=\"Training score\",\n",
    "             color=\"r\")\n",
    "\n",
    "plt.plot(n_estimators_range,\n",
    "             test_scores_mean, \n",
    "             label=\"Cross-validation score\",\n",
    "             color=\"g\")\n",
    "\n",
    "plt.fill_between(n_estimators_range, \n",
    "                 train_scores_mean - train_scores_std,\n",
    "                 train_scores_mean + train_scores_std, \n",
    "                 alpha=0.2, color=\"r\")\n",
    "\n",
    "plt.fill_between(n_estimators_range,\n",
    "                 test_scores_mean - test_scores_std,\n",
    "                 test_scores_mean + test_scores_std,\n",
    "                 alpha=0.2, color=\"g\")\n",
    "\n",
    "plt.legend(loc=\"best\")\n",
    "plt.show()\n",
    "\n",
    "i = np.argmax(test_scores_mean)\n",
    "print(\"Best cross-validation result ({0:.2f}) obtained for {1} trees\".format(test_scores_mean[i], n_estimators_range[i]))"
   ]
  },
  {
   "cell_type": "markdown",
   "metadata": {},
   "source": [
    "#### Dealing with high variance\n",
    "If model is too complex try:\n",
    "- using less features (ie. feature selection),\n",
    "- using more training samples (ie. artificially generated),\n",
    "- increasing regularization (add penalties for extra complexity)\n",
    "\n",
    "In XGBoost you can try to:\n",
    "- reduce depth of each tree (`max_depth`),\n",
    "- increase `min_child_weight` parameter,\n",
    "- increase `gamma` parameter,\n",
    "- add more randomness using `subsample`, `colsample_bytree` parameters,\n",
    "- increase `lambda` and `alpha` regularization parameters\n",
    "\n",
    "#### Dealing with high bias\n",
    "If model is too simple:\n",
    "- add more features (ie. better feature engineering),\n",
    "- more sophisticated model\n",
    "- decrease regularization\n",
    "\n",
    "In XGBoost you can do it by:\n",
    "- increase depth of each tree (`max_depth`),\n",
    "- decrease `min_child_weight` parameter,\n",
    "- decrease `gamma` parameter,\n",
    "- decrease `lambda` and `alpha` regularization parameters"
   ]
  },
  {
   "cell_type": "markdown",
   "metadata": {},
   "source": [
    "https://xgboost.readthedocs.io/en/latest/parameter.html\n",
    "\n",
    "https://xgboost.readthedocs.io/en/latest/how_to/param_tuning.html"
   ]
  },
  {
   "cell_type": "markdown",
   "metadata": {},
   "source": [
    "Maybe helpful but not checked yet\n",
    "\n",
    "https://www.analyticsvidhya.com/blog/2016/03/complete-guide-parameter-tuning-xgboost-with-codes-python/"
   ]
  },
  {
   "cell_type": "markdown",
   "metadata": {},
   "source": [
    "`min_child_weight` "
   ]
  },
  {
   "cell_type": "markdown",
   "metadata": {},
   "source": [
    "### Hyper-parameter tuning"
   ]
  },
  {
   "cell_type": "markdown",
   "metadata": {},
   "source": [
    "#### Grid-Search"
   ]
  },
  {
   "cell_type": "code",
   "execution_count": 28,
   "metadata": {
    "collapsed": true
   },
   "outputs": [],
   "source": [
    "from sklearn.model_selection import GridSearchCV"
   ]
  },
  {
   "cell_type": "code",
   "execution_count": 24,
   "metadata": {
    "collapsed": true
   },
   "outputs": [],
   "source": [
    "params_grid = {\n",
    "    'max_depth': [1, 2, 3],\n",
    "    'n_estimators': [5, 10, 25, 50],\n",
    "    'learning_rate': np.linspace(1e-16, 1, 3)\n",
    "}"
   ]
  },
  {
   "cell_type": "code",
   "execution_count": 25,
   "metadata": {
    "collapsed": true
   },
   "outputs": [],
   "source": [
    "params_fixed = {\n",
    "    'objective': 'multi:softprob',\n",
    "    'silent': 1\n",
    "}"
   ]
  },
  {
   "cell_type": "code",
   "execution_count": 31,
   "metadata": {
    "collapsed": false
   },
   "outputs": [],
   "source": [
    "skf = StratifiedKFold(n_splits=10, shuffle=True, random_state=2017)\n",
    "\n",
    "bst_grid = GridSearchCV(\n",
    "    estimator=XGBClassifier(**params_fixed),\n",
    "    param_grid=params_grid,\n",
    "    cv=skf,\n",
    "    scoring='neg_log_loss'\n",
    ")"
   ]
  },
  {
   "cell_type": "code",
   "execution_count": 32,
   "metadata": {
    "collapsed": false
   },
   "outputs": [
    {
     "data": {
      "text/plain": [
       "GridSearchCV(cv=StratifiedKFold(n_splits=10, random_state=2017, shuffle=True),\n",
       "       error_score='raise',\n",
       "       estimator=XGBClassifier(base_score=0.5, colsample_bylevel=1, colsample_bytree=1,\n",
       "       gamma=0, learning_rate=0.1, max_delta_step=0, max_depth=3,\n",
       "       min_child_weight=1, missing=None, n_estimators=100, nthread=-1,\n",
       "       objective='multi:softprob', reg_alpha=0, reg_lambda=1,\n",
       "       scale_pos_weight=1, seed=0, silent=1, subsample=1),\n",
       "       fit_params={}, iid=True, n_jobs=1,\n",
       "       param_grid={'n_estimators': [5, 10, 25, 50], 'learning_rate': array([  1.00000e-16,   5.00000e-01,   1.00000e+00]), 'max_depth': [1, 2, 3]},\n",
       "       pre_dispatch='2*n_jobs', refit=True, return_train_score=True,\n",
       "       scoring='neg_log_loss', verbose=0)"
      ]
     },
     "execution_count": 32,
     "metadata": {},
     "output_type": "execute_result"
    }
   ],
   "source": [
    "bst_grid.fit(X, y)"
   ]
  },
  {
   "cell_type": "code",
   "execution_count": 38,
   "metadata": {
    "collapsed": false
   },
   "outputs": [
    {
     "data": {
      "text/plain": [
       "{'learning_rate': 1.0, 'max_depth': 3, 'n_estimators': 50}"
      ]
     },
     "execution_count": 38,
     "metadata": {},
     "output_type": "execute_result"
    }
   ],
   "source": [
    "bst_grid.best_params_"
   ]
  },
  {
   "cell_type": "code",
   "execution_count": 37,
   "metadata": {
    "collapsed": false
   },
   "outputs": [
    {
     "data": {
      "text/plain": [
       "-0.55369701243578895"
      ]
     },
     "execution_count": 37,
     "metadata": {},
     "output_type": "execute_result"
    }
   ],
   "source": [
    "bst_grid.best_score_"
   ]
  },
  {
   "cell_type": "markdown",
   "metadata": {},
   "source": [
    "#### Randomize Grid-Search"
   ]
  },
  {
   "cell_type": "code",
   "execution_count": 31,
   "metadata": {
    "collapsed": true
   },
   "outputs": [],
   "source": [
    "from scipy.stats import randint, uniform\n",
    "from sklearn.model_selection import RandomizedSearchCV"
   ]
  },
  {
   "cell_type": "code",
   "execution_count": 85,
   "metadata": {
    "collapsed": false
   },
   "outputs": [],
   "source": [
    "params_dist_grid = {\n",
    "    'max_depth': [2, 4, 6, 8, 10],\n",
    "    'gamma': [0.5, 1],\n",
    "    'n_estimators': randint(1, 1001), # uniform discrete random distribution\n",
    "    'learning_rate': uniform(), # gaussian distribution\n",
    "    'colsample_bytree': [0.2, 0.4, 0.6, 0.8, 1.]\n",
    "}"
   ]
  },
  {
   "cell_type": "code",
   "execution_count": 86,
   "metadata": {
    "collapsed": true
   },
   "outputs": [],
   "source": [
    "params_fixed = {\n",
    "    'objective': 'multi:softprob',\n",
    "    'subsample': 0.7,\n",
    "    'silent': 1\n",
    "}"
   ]
  },
  {
   "cell_type": "code",
   "execution_count": 87,
   "metadata": {
    "collapsed": false
   },
   "outputs": [],
   "source": [
    "skf = StratifiedKFold(n_splits=10, shuffle=True, random_state=2017)\n",
    "\n",
    "rs_grid = RandomizedSearchCV(\n",
    "    estimator=XGBClassifier(**params_fixed),\n",
    "    param_distributions=params_dist_grid,\n",
    "    n_iter=10,\n",
    "    cv=skf,\n",
    "    scoring='neg_log_loss'\n",
    ")"
   ]
  },
  {
   "cell_type": "code",
   "execution_count": 88,
   "metadata": {
    "collapsed": false
   },
   "outputs": [
    {
     "ename": "KeyboardInterrupt",
     "evalue": "",
     "output_type": "error",
     "traceback": [
      "\u001b[0;31m---------------------------------------------------------------------------\u001b[0m",
      "\u001b[0;31mKeyboardInterrupt\u001b[0m                         Traceback (most recent call last)",
      "\u001b[0;32m<ipython-input-88-50c670c3e71a>\u001b[0m in \u001b[0;36m<module>\u001b[0;34m()\u001b[0m\n\u001b[0;32m----> 1\u001b[0;31m \u001b[0mrs_grid\u001b[0m\u001b[0;34m.\u001b[0m\u001b[0mfit\u001b[0m\u001b[0;34m(\u001b[0m\u001b[0mX\u001b[0m\u001b[0;34m,\u001b[0m \u001b[0my\u001b[0m\u001b[0;34m)\u001b[0m\u001b[0;34m\u001b[0m\u001b[0m\n\u001b[0m",
      "\u001b[0;32m/home/kian/anaconda2/lib/python2.7/site-packages/sklearn/model_selection/_search.pyc\u001b[0m in \u001b[0;36mfit\u001b[0;34m(self, X, y, groups)\u001b[0m\n\u001b[1;32m   1188\u001b[0m                                           \u001b[0mself\u001b[0m\u001b[0;34m.\u001b[0m\u001b[0mn_iter\u001b[0m\u001b[0;34m,\u001b[0m\u001b[0;34m\u001b[0m\u001b[0m\n\u001b[1;32m   1189\u001b[0m                                           random_state=self.random_state)\n\u001b[0;32m-> 1190\u001b[0;31m         \u001b[0;32mreturn\u001b[0m \u001b[0mself\u001b[0m\u001b[0;34m.\u001b[0m\u001b[0m_fit\u001b[0m\u001b[0;34m(\u001b[0m\u001b[0mX\u001b[0m\u001b[0;34m,\u001b[0m \u001b[0my\u001b[0m\u001b[0;34m,\u001b[0m \u001b[0mgroups\u001b[0m\u001b[0;34m,\u001b[0m \u001b[0msampled_params\u001b[0m\u001b[0;34m)\u001b[0m\u001b[0;34m\u001b[0m\u001b[0m\n\u001b[0m",
      "\u001b[0;32m/home/kian/anaconda2/lib/python2.7/site-packages/sklearn/model_selection/_search.pyc\u001b[0m in \u001b[0;36m_fit\u001b[0;34m(self, X, y, groups, parameter_iterable)\u001b[0m\n\u001b[1;32m    562\u001b[0m                                   \u001b[0mreturn_times\u001b[0m\u001b[0;34m=\u001b[0m\u001b[0mTrue\u001b[0m\u001b[0;34m,\u001b[0m \u001b[0mreturn_parameters\u001b[0m\u001b[0;34m=\u001b[0m\u001b[0mTrue\u001b[0m\u001b[0;34m,\u001b[0m\u001b[0;34m\u001b[0m\u001b[0m\n\u001b[1;32m    563\u001b[0m                                   error_score=self.error_score)\n\u001b[0;32m--> 564\u001b[0;31m           \u001b[0;32mfor\u001b[0m \u001b[0mparameters\u001b[0m \u001b[0;32min\u001b[0m \u001b[0mparameter_iterable\u001b[0m\u001b[0;34m\u001b[0m\u001b[0m\n\u001b[0m\u001b[1;32m    565\u001b[0m           for train, test in cv_iter)\n\u001b[1;32m    566\u001b[0m \u001b[0;34m\u001b[0m\u001b[0m\n",
      "\u001b[0;32m/home/kian/anaconda2/lib/python2.7/site-packages/sklearn/externals/joblib/parallel.pyc\u001b[0m in \u001b[0;36m__call__\u001b[0;34m(self, iterable)\u001b[0m\n\u001b[1;32m    756\u001b[0m             \u001b[0;31m# was dispatched. In particular this covers the edge\u001b[0m\u001b[0;34m\u001b[0m\u001b[0;34m\u001b[0m\u001b[0m\n\u001b[1;32m    757\u001b[0m             \u001b[0;31m# case of Parallel used with an exhausted iterator.\u001b[0m\u001b[0;34m\u001b[0m\u001b[0;34m\u001b[0m\u001b[0m\n\u001b[0;32m--> 758\u001b[0;31m             \u001b[0;32mwhile\u001b[0m \u001b[0mself\u001b[0m\u001b[0;34m.\u001b[0m\u001b[0mdispatch_one_batch\u001b[0m\u001b[0;34m(\u001b[0m\u001b[0miterator\u001b[0m\u001b[0;34m)\u001b[0m\u001b[0;34m:\u001b[0m\u001b[0;34m\u001b[0m\u001b[0m\n\u001b[0m\u001b[1;32m    759\u001b[0m                 \u001b[0mself\u001b[0m\u001b[0;34m.\u001b[0m\u001b[0m_iterating\u001b[0m \u001b[0;34m=\u001b[0m \u001b[0mTrue\u001b[0m\u001b[0;34m\u001b[0m\u001b[0m\n\u001b[1;32m    760\u001b[0m             \u001b[0;32melse\u001b[0m\u001b[0;34m:\u001b[0m\u001b[0;34m\u001b[0m\u001b[0m\n",
      "\u001b[0;32m/home/kian/anaconda2/lib/python2.7/site-packages/sklearn/externals/joblib/parallel.pyc\u001b[0m in \u001b[0;36mdispatch_one_batch\u001b[0;34m(self, iterator)\u001b[0m\n\u001b[1;32m    606\u001b[0m                 \u001b[0;32mreturn\u001b[0m \u001b[0mFalse\u001b[0m\u001b[0;34m\u001b[0m\u001b[0m\n\u001b[1;32m    607\u001b[0m             \u001b[0;32melse\u001b[0m\u001b[0;34m:\u001b[0m\u001b[0;34m\u001b[0m\u001b[0m\n\u001b[0;32m--> 608\u001b[0;31m                 \u001b[0mself\u001b[0m\u001b[0;34m.\u001b[0m\u001b[0m_dispatch\u001b[0m\u001b[0;34m(\u001b[0m\u001b[0mtasks\u001b[0m\u001b[0;34m)\u001b[0m\u001b[0;34m\u001b[0m\u001b[0m\n\u001b[0m\u001b[1;32m    609\u001b[0m                 \u001b[0;32mreturn\u001b[0m \u001b[0mTrue\u001b[0m\u001b[0;34m\u001b[0m\u001b[0m\n\u001b[1;32m    610\u001b[0m \u001b[0;34m\u001b[0m\u001b[0m\n",
      "\u001b[0;32m/home/kian/anaconda2/lib/python2.7/site-packages/sklearn/externals/joblib/parallel.pyc\u001b[0m in \u001b[0;36m_dispatch\u001b[0;34m(self, batch)\u001b[0m\n\u001b[1;32m    569\u001b[0m         \u001b[0mdispatch_timestamp\u001b[0m \u001b[0;34m=\u001b[0m \u001b[0mtime\u001b[0m\u001b[0;34m.\u001b[0m\u001b[0mtime\u001b[0m\u001b[0;34m(\u001b[0m\u001b[0;34m)\u001b[0m\u001b[0;34m\u001b[0m\u001b[0m\n\u001b[1;32m    570\u001b[0m         \u001b[0mcb\u001b[0m \u001b[0;34m=\u001b[0m \u001b[0mBatchCompletionCallBack\u001b[0m\u001b[0;34m(\u001b[0m\u001b[0mdispatch_timestamp\u001b[0m\u001b[0;34m,\u001b[0m \u001b[0mlen\u001b[0m\u001b[0;34m(\u001b[0m\u001b[0mbatch\u001b[0m\u001b[0;34m)\u001b[0m\u001b[0;34m,\u001b[0m \u001b[0mself\u001b[0m\u001b[0;34m)\u001b[0m\u001b[0;34m\u001b[0m\u001b[0m\n\u001b[0;32m--> 571\u001b[0;31m         \u001b[0mjob\u001b[0m \u001b[0;34m=\u001b[0m \u001b[0mself\u001b[0m\u001b[0;34m.\u001b[0m\u001b[0m_backend\u001b[0m\u001b[0;34m.\u001b[0m\u001b[0mapply_async\u001b[0m\u001b[0;34m(\u001b[0m\u001b[0mbatch\u001b[0m\u001b[0;34m,\u001b[0m \u001b[0mcallback\u001b[0m\u001b[0;34m=\u001b[0m\u001b[0mcb\u001b[0m\u001b[0;34m)\u001b[0m\u001b[0;34m\u001b[0m\u001b[0m\n\u001b[0m\u001b[1;32m    572\u001b[0m         \u001b[0mself\u001b[0m\u001b[0;34m.\u001b[0m\u001b[0m_jobs\u001b[0m\u001b[0;34m.\u001b[0m\u001b[0mappend\u001b[0m\u001b[0;34m(\u001b[0m\u001b[0mjob\u001b[0m\u001b[0;34m)\u001b[0m\u001b[0;34m\u001b[0m\u001b[0m\n\u001b[1;32m    573\u001b[0m \u001b[0;34m\u001b[0m\u001b[0m\n",
      "\u001b[0;32m/home/kian/anaconda2/lib/python2.7/site-packages/sklearn/externals/joblib/_parallel_backends.pyc\u001b[0m in \u001b[0;36mapply_async\u001b[0;34m(self, func, callback)\u001b[0m\n\u001b[1;32m    107\u001b[0m     \u001b[0;32mdef\u001b[0m \u001b[0mapply_async\u001b[0m\u001b[0;34m(\u001b[0m\u001b[0mself\u001b[0m\u001b[0;34m,\u001b[0m \u001b[0mfunc\u001b[0m\u001b[0;34m,\u001b[0m \u001b[0mcallback\u001b[0m\u001b[0;34m=\u001b[0m\u001b[0mNone\u001b[0m\u001b[0;34m)\u001b[0m\u001b[0;34m:\u001b[0m\u001b[0;34m\u001b[0m\u001b[0m\n\u001b[1;32m    108\u001b[0m         \u001b[0;34m\"\"\"Schedule a func to be run\"\"\"\u001b[0m\u001b[0;34m\u001b[0m\u001b[0m\n\u001b[0;32m--> 109\u001b[0;31m         \u001b[0mresult\u001b[0m \u001b[0;34m=\u001b[0m \u001b[0mImmediateResult\u001b[0m\u001b[0;34m(\u001b[0m\u001b[0mfunc\u001b[0m\u001b[0;34m)\u001b[0m\u001b[0;34m\u001b[0m\u001b[0m\n\u001b[0m\u001b[1;32m    110\u001b[0m         \u001b[0;32mif\u001b[0m \u001b[0mcallback\u001b[0m\u001b[0;34m:\u001b[0m\u001b[0;34m\u001b[0m\u001b[0m\n\u001b[1;32m    111\u001b[0m             \u001b[0mcallback\u001b[0m\u001b[0;34m(\u001b[0m\u001b[0mresult\u001b[0m\u001b[0;34m)\u001b[0m\u001b[0;34m\u001b[0m\u001b[0m\n",
      "\u001b[0;32m/home/kian/anaconda2/lib/python2.7/site-packages/sklearn/externals/joblib/_parallel_backends.pyc\u001b[0m in \u001b[0;36m__init__\u001b[0;34m(self, batch)\u001b[0m\n\u001b[1;32m    324\u001b[0m         \u001b[0;31m# Don't delay the application, to avoid keeping the input\u001b[0m\u001b[0;34m\u001b[0m\u001b[0;34m\u001b[0m\u001b[0m\n\u001b[1;32m    325\u001b[0m         \u001b[0;31m# arguments in memory\u001b[0m\u001b[0;34m\u001b[0m\u001b[0;34m\u001b[0m\u001b[0m\n\u001b[0;32m--> 326\u001b[0;31m         \u001b[0mself\u001b[0m\u001b[0;34m.\u001b[0m\u001b[0mresults\u001b[0m \u001b[0;34m=\u001b[0m \u001b[0mbatch\u001b[0m\u001b[0;34m(\u001b[0m\u001b[0;34m)\u001b[0m\u001b[0;34m\u001b[0m\u001b[0m\n\u001b[0m\u001b[1;32m    327\u001b[0m \u001b[0;34m\u001b[0m\u001b[0m\n\u001b[1;32m    328\u001b[0m     \u001b[0;32mdef\u001b[0m \u001b[0mget\u001b[0m\u001b[0;34m(\u001b[0m\u001b[0mself\u001b[0m\u001b[0;34m)\u001b[0m\u001b[0;34m:\u001b[0m\u001b[0;34m\u001b[0m\u001b[0m\n",
      "\u001b[0;32m/home/kian/anaconda2/lib/python2.7/site-packages/sklearn/externals/joblib/parallel.pyc\u001b[0m in \u001b[0;36m__call__\u001b[0;34m(self)\u001b[0m\n\u001b[1;32m    129\u001b[0m \u001b[0;34m\u001b[0m\u001b[0m\n\u001b[1;32m    130\u001b[0m     \u001b[0;32mdef\u001b[0m \u001b[0m__call__\u001b[0m\u001b[0;34m(\u001b[0m\u001b[0mself\u001b[0m\u001b[0;34m)\u001b[0m\u001b[0;34m:\u001b[0m\u001b[0;34m\u001b[0m\u001b[0m\n\u001b[0;32m--> 131\u001b[0;31m         \u001b[0;32mreturn\u001b[0m \u001b[0;34m[\u001b[0m\u001b[0mfunc\u001b[0m\u001b[0;34m(\u001b[0m\u001b[0;34m*\u001b[0m\u001b[0margs\u001b[0m\u001b[0;34m,\u001b[0m \u001b[0;34m**\u001b[0m\u001b[0mkwargs\u001b[0m\u001b[0;34m)\u001b[0m \u001b[0;32mfor\u001b[0m \u001b[0mfunc\u001b[0m\u001b[0;34m,\u001b[0m \u001b[0margs\u001b[0m\u001b[0;34m,\u001b[0m \u001b[0mkwargs\u001b[0m \u001b[0;32min\u001b[0m \u001b[0mself\u001b[0m\u001b[0;34m.\u001b[0m\u001b[0mitems\u001b[0m\u001b[0;34m]\u001b[0m\u001b[0;34m\u001b[0m\u001b[0m\n\u001b[0m\u001b[1;32m    132\u001b[0m \u001b[0;34m\u001b[0m\u001b[0m\n\u001b[1;32m    133\u001b[0m     \u001b[0;32mdef\u001b[0m \u001b[0m__len__\u001b[0m\u001b[0;34m(\u001b[0m\u001b[0mself\u001b[0m\u001b[0;34m)\u001b[0m\u001b[0;34m:\u001b[0m\u001b[0;34m\u001b[0m\u001b[0m\n",
      "\u001b[0;32m/home/kian/anaconda2/lib/python2.7/site-packages/sklearn/model_selection/_validation.pyc\u001b[0m in \u001b[0;36m_fit_and_score\u001b[0;34m(estimator, X, y, scorer, train, test, verbose, parameters, fit_params, return_train_score, return_parameters, return_n_test_samples, return_times, error_score)\u001b[0m\n\u001b[1;32m    236\u001b[0m             \u001b[0mestimator\u001b[0m\u001b[0;34m.\u001b[0m\u001b[0mfit\u001b[0m\u001b[0;34m(\u001b[0m\u001b[0mX_train\u001b[0m\u001b[0;34m,\u001b[0m \u001b[0;34m**\u001b[0m\u001b[0mfit_params\u001b[0m\u001b[0;34m)\u001b[0m\u001b[0;34m\u001b[0m\u001b[0m\n\u001b[1;32m    237\u001b[0m         \u001b[0;32melse\u001b[0m\u001b[0;34m:\u001b[0m\u001b[0;34m\u001b[0m\u001b[0m\n\u001b[0;32m--> 238\u001b[0;31m             \u001b[0mestimator\u001b[0m\u001b[0;34m.\u001b[0m\u001b[0mfit\u001b[0m\u001b[0;34m(\u001b[0m\u001b[0mX_train\u001b[0m\u001b[0;34m,\u001b[0m \u001b[0my_train\u001b[0m\u001b[0;34m,\u001b[0m \u001b[0;34m**\u001b[0m\u001b[0mfit_params\u001b[0m\u001b[0;34m)\u001b[0m\u001b[0;34m\u001b[0m\u001b[0m\n\u001b[0m\u001b[1;32m    239\u001b[0m \u001b[0;34m\u001b[0m\u001b[0m\n\u001b[1;32m    240\u001b[0m     \u001b[0;32mexcept\u001b[0m \u001b[0mException\u001b[0m \u001b[0;32mas\u001b[0m \u001b[0me\u001b[0m\u001b[0;34m:\u001b[0m\u001b[0;34m\u001b[0m\u001b[0m\n",
      "\u001b[0;32m/home/kian/anaconda2/lib/python2.7/site-packages/xgboost-0.6-py2.7.egg/xgboost/sklearn.pyc\u001b[0m in \u001b[0;36mfit\u001b[0;34m(self, X, y, sample_weight, eval_set, eval_metric, early_stopping_rounds, verbose)\u001b[0m\n\u001b[1;32m    462\u001b[0m                               \u001b[0mearly_stopping_rounds\u001b[0m\u001b[0;34m=\u001b[0m\u001b[0mearly_stopping_rounds\u001b[0m\u001b[0;34m,\u001b[0m\u001b[0;34m\u001b[0m\u001b[0m\n\u001b[1;32m    463\u001b[0m                               \u001b[0mevals_result\u001b[0m\u001b[0;34m=\u001b[0m\u001b[0mevals_result\u001b[0m\u001b[0;34m,\u001b[0m \u001b[0mobj\u001b[0m\u001b[0;34m=\u001b[0m\u001b[0mobj\u001b[0m\u001b[0;34m,\u001b[0m \u001b[0mfeval\u001b[0m\u001b[0;34m=\u001b[0m\u001b[0mfeval\u001b[0m\u001b[0;34m,\u001b[0m\u001b[0;34m\u001b[0m\u001b[0m\n\u001b[0;32m--> 464\u001b[0;31m                               verbose_eval=verbose)\n\u001b[0m\u001b[1;32m    465\u001b[0m \u001b[0;34m\u001b[0m\u001b[0m\n\u001b[1;32m    466\u001b[0m         \u001b[0mself\u001b[0m\u001b[0;34m.\u001b[0m\u001b[0mobjective\u001b[0m \u001b[0;34m=\u001b[0m \u001b[0mxgb_options\u001b[0m\u001b[0;34m[\u001b[0m\u001b[0;34m\"objective\"\u001b[0m\u001b[0;34m]\u001b[0m\u001b[0;34m\u001b[0m\u001b[0m\n",
      "\u001b[0;32m/home/kian/anaconda2/lib/python2.7/site-packages/xgboost-0.6-py2.7.egg/xgboost/training.pyc\u001b[0m in \u001b[0;36mtrain\u001b[0;34m(params, dtrain, num_boost_round, evals, obj, feval, maximize, early_stopping_rounds, evals_result, verbose_eval, xgb_model, callbacks, learning_rates)\u001b[0m\n\u001b[1;32m    202\u001b[0m                            \u001b[0mevals\u001b[0m\u001b[0;34m=\u001b[0m\u001b[0mevals\u001b[0m\u001b[0;34m,\u001b[0m\u001b[0;34m\u001b[0m\u001b[0m\n\u001b[1;32m    203\u001b[0m                            \u001b[0mobj\u001b[0m\u001b[0;34m=\u001b[0m\u001b[0mobj\u001b[0m\u001b[0;34m,\u001b[0m \u001b[0mfeval\u001b[0m\u001b[0;34m=\u001b[0m\u001b[0mfeval\u001b[0m\u001b[0;34m,\u001b[0m\u001b[0;34m\u001b[0m\u001b[0m\n\u001b[0;32m--> 204\u001b[0;31m                            xgb_model=xgb_model, callbacks=callbacks)\n\u001b[0m\u001b[1;32m    205\u001b[0m \u001b[0;34m\u001b[0m\u001b[0m\n\u001b[1;32m    206\u001b[0m \u001b[0;34m\u001b[0m\u001b[0m\n",
      "\u001b[0;32m/home/kian/anaconda2/lib/python2.7/site-packages/xgboost-0.6-py2.7.egg/xgboost/training.pyc\u001b[0m in \u001b[0;36m_train_internal\u001b[0;34m(params, dtrain, num_boost_round, evals, obj, feval, xgb_model, callbacks)\u001b[0m\n\u001b[1;32m     72\u001b[0m         \u001b[0;31m# Skip the first update if it is a recovery step.\u001b[0m\u001b[0;34m\u001b[0m\u001b[0;34m\u001b[0m\u001b[0m\n\u001b[1;32m     73\u001b[0m         \u001b[0;32mif\u001b[0m \u001b[0mversion\u001b[0m \u001b[0;34m%\u001b[0m \u001b[0;36m2\u001b[0m \u001b[0;34m==\u001b[0m \u001b[0;36m0\u001b[0m\u001b[0;34m:\u001b[0m\u001b[0;34m\u001b[0m\u001b[0m\n\u001b[0;32m---> 74\u001b[0;31m             \u001b[0mbst\u001b[0m\u001b[0;34m.\u001b[0m\u001b[0mupdate\u001b[0m\u001b[0;34m(\u001b[0m\u001b[0mdtrain\u001b[0m\u001b[0;34m,\u001b[0m \u001b[0mi\u001b[0m\u001b[0;34m,\u001b[0m \u001b[0mobj\u001b[0m\u001b[0;34m)\u001b[0m\u001b[0;34m\u001b[0m\u001b[0m\n\u001b[0m\u001b[1;32m     75\u001b[0m             \u001b[0mbst\u001b[0m\u001b[0;34m.\u001b[0m\u001b[0msave_rabit_checkpoint\u001b[0m\u001b[0;34m(\u001b[0m\u001b[0;34m)\u001b[0m\u001b[0;34m\u001b[0m\u001b[0m\n\u001b[1;32m     76\u001b[0m             \u001b[0mversion\u001b[0m \u001b[0;34m+=\u001b[0m \u001b[0;36m1\u001b[0m\u001b[0;34m\u001b[0m\u001b[0m\n",
      "\u001b[0;32m/home/kian/anaconda2/lib/python2.7/site-packages/xgboost-0.6-py2.7.egg/xgboost/core.pyc\u001b[0m in \u001b[0;36mupdate\u001b[0;34m(self, dtrain, iteration, fobj)\u001b[0m\n\u001b[1;32m    817\u001b[0m \u001b[0;34m\u001b[0m\u001b[0m\n\u001b[1;32m    818\u001b[0m         \u001b[0;32mif\u001b[0m \u001b[0mfobj\u001b[0m \u001b[0;32mis\u001b[0m \u001b[0mNone\u001b[0m\u001b[0;34m:\u001b[0m\u001b[0;34m\u001b[0m\u001b[0m\n\u001b[0;32m--> 819\u001b[0;31m             \u001b[0m_check_call\u001b[0m\u001b[0;34m(\u001b[0m\u001b[0m_LIB\u001b[0m\u001b[0;34m.\u001b[0m\u001b[0mXGBoosterUpdateOneIter\u001b[0m\u001b[0;34m(\u001b[0m\u001b[0mself\u001b[0m\u001b[0;34m.\u001b[0m\u001b[0mhandle\u001b[0m\u001b[0;34m,\u001b[0m \u001b[0miteration\u001b[0m\u001b[0;34m,\u001b[0m \u001b[0mdtrain\u001b[0m\u001b[0;34m.\u001b[0m\u001b[0mhandle\u001b[0m\u001b[0;34m)\u001b[0m\u001b[0;34m)\u001b[0m\u001b[0;34m\u001b[0m\u001b[0m\n\u001b[0m\u001b[1;32m    820\u001b[0m         \u001b[0;32melse\u001b[0m\u001b[0;34m:\u001b[0m\u001b[0;34m\u001b[0m\u001b[0m\n\u001b[1;32m    821\u001b[0m             \u001b[0mpred\u001b[0m \u001b[0;34m=\u001b[0m \u001b[0mself\u001b[0m\u001b[0;34m.\u001b[0m\u001b[0mpredict\u001b[0m\u001b[0;34m(\u001b[0m\u001b[0mdtrain\u001b[0m\u001b[0;34m)\u001b[0m\u001b[0;34m\u001b[0m\u001b[0m\n",
      "\u001b[0;31mKeyboardInterrupt\u001b[0m: "
     ]
    }
   ],
   "source": [
    "rs_grid.fit(X, y)"
   ]
  },
  {
   "cell_type": "code",
   "execution_count": 39,
   "metadata": {
    "collapsed": false
   },
   "outputs": [
    {
     "data": {
      "text/plain": [
       "{'colsample_bytree': 0.3148797781637962,\n",
       " 'gamma': 1,\n",
       " 'learning_rate': 0.12970797503948339,\n",
       " 'max_depth': 2,\n",
       " 'n_estimators': 666,\n",
       " 'subsample': 0.61471163233607695}"
      ]
     },
     "execution_count": 39,
     "metadata": {},
     "output_type": "execute_result"
    }
   ],
   "source": [
    "rs_grid.best_params_"
   ]
  },
  {
   "cell_type": "code",
   "execution_count": 40,
   "metadata": {
    "collapsed": false
   },
   "outputs": [
    {
     "data": {
      "text/plain": [
       "-0.55063645940816919"
      ]
     },
     "execution_count": 40,
     "metadata": {},
     "output_type": "execute_result"
    }
   ],
   "source": [
    "rs_grid.best_score_"
   ]
  },
  {
   "cell_type": "markdown",
   "metadata": {},
   "source": [
    "### Evaluate results"
   ]
  },
  {
   "cell_type": "markdown",
   "metadata": {},
   "source": [
    "### Deal with missing values"
   ]
  },
  {
   "cell_type": "markdown",
   "metadata": {},
   "source": [
    "### Handle imbalanced Datasets"
   ]
  },
  {
   "cell_type": "markdown",
   "metadata": {},
   "source": [
    "#### General advices<a name='generaladvices' />\n",
    "These are some common tactics when approaching imbalanced datasets:\n",
    "\n",
    "- collect more data,\n",
    "- use better evaluation metric (that notices mistakes - ie. AUC, F1, Kappa, ...),\n",
    "- try oversampling minority class or undersampling majority class,\n",
    "- generate artificial samples of minority class (ie. SMOTE algorithm)\n",
    "\n",
    "In XGBoost you can try to:\n",
    "- make sure that parameter `min_child_weight` is small (because leaf nodes can have smaller size groups), it is set to `min_child_weight=1` by default,\n",
    "- assign more weights to specific samples while initalizing `DMatrix`,\n",
    "- control the balance of positive and negative weights  using `set_pos_weight` parameter,\n",
    "- use AUC for evaluation"
   ]
  },
  {
   "cell_type": "code",
   "execution_count": 56,
   "metadata": {
    "collapsed": true
   },
   "outputs": [],
   "source": [
    "from sklearn.model_selection import train_test_split\n",
    "from sklearn.metrics import accuracy_score, precision_score, recall_score"
   ]
  },
  {
   "cell_type": "code",
   "execution_count": 43,
   "metadata": {
    "collapsed": true
   },
   "outputs": [],
   "source": [
    "X_train, X_test, y_train, y_test = train_test_split(X, y, test_size=0.33, stratify=y)"
   ]
  },
  {
   "cell_type": "code",
   "execution_count": 46,
   "metadata": {
    "collapsed": false
   },
   "outputs": [
    {
     "data": {
      "text/plain": [
       "(array([ 0.,  1.,  2.]), array([22970,  7523,  2572]))"
      ]
     },
     "execution_count": 46,
     "metadata": {},
     "output_type": "execute_result"
    }
   ],
   "source": [
    "np.unique(y_train, return_counts=True)"
   ]
  },
  {
   "cell_type": "code",
   "execution_count": 50,
   "metadata": {
    "collapsed": false
   },
   "outputs": [],
   "source": [
    "params = {\n",
    "    'max_depth': 2,\n",
    "    'gamma': 1,\n",
    "    'n_estimators': 500,\n",
    "    'learning_rate': 0.2,\n",
    "    'subsample': 0.6,\n",
    "    'colsample_bytree': 0.3\n",
    "}"
   ]
  },
  {
   "cell_type": "code",
   "execution_count": 52,
   "metadata": {
    "collapsed": true
   },
   "outputs": [],
   "source": [
    "bst = XGBClassifier(**params).fit(X_train, y_train)\n",
    "y_test_preds = bst.predict(X_test)"
   ]
  },
  {
   "cell_type": "code",
   "execution_count": 55,
   "metadata": {
    "collapsed": false
   },
   "outputs": [
    {
     "data": {
      "text/html": [
       "<div>\n",
       "<table border=\"1\" class=\"dataframe\">\n",
       "  <thead>\n",
       "    <tr style=\"text-align: right;\">\n",
       "      <th>Predicted</th>\n",
       "      <th>0.0</th>\n",
       "      <th>1.0</th>\n",
       "      <th>2.0</th>\n",
       "      <th>All</th>\n",
       "    </tr>\n",
       "    <tr>\n",
       "      <th>Actual</th>\n",
       "      <th></th>\n",
       "      <th></th>\n",
       "      <th></th>\n",
       "      <th></th>\n",
       "    </tr>\n",
       "  </thead>\n",
       "  <tbody>\n",
       "    <tr>\n",
       "      <th>0.0</th>\n",
       "      <td>10432</td>\n",
       "      <td>829</td>\n",
       "      <td>53</td>\n",
       "      <td>11314</td>\n",
       "    </tr>\n",
       "    <tr>\n",
       "      <th>1.0</th>\n",
       "      <td>2018</td>\n",
       "      <td>1500</td>\n",
       "      <td>188</td>\n",
       "      <td>3706</td>\n",
       "    </tr>\n",
       "    <tr>\n",
       "      <th>2.0</th>\n",
       "      <td>295</td>\n",
       "      <td>626</td>\n",
       "      <td>346</td>\n",
       "      <td>1267</td>\n",
       "    </tr>\n",
       "    <tr>\n",
       "      <th>All</th>\n",
       "      <td>12745</td>\n",
       "      <td>2955</td>\n",
       "      <td>587</td>\n",
       "      <td>16287</td>\n",
       "    </tr>\n",
       "  </tbody>\n",
       "</table>\n",
       "</div>"
      ],
      "text/plain": [
       "Predicted    0.0   1.0  2.0    All\n",
       "Actual                            \n",
       "0.0        10432   829   53  11314\n",
       "1.0         2018  1500  188   3706\n",
       "2.0          295   626  346   1267\n",
       "All        12745  2955  587  16287"
      ]
     },
     "execution_count": 55,
     "metadata": {},
     "output_type": "execute_result"
    }
   ],
   "source": [
    "pd.crosstab(\n",
    "    pd.Series(y_test, name='Actual'),\n",
    "    pd.Series(y_test_preds, name='Predicted'),\n",
    "    margins=True\n",
    ")"
   ]
  },
  {
   "cell_type": "code",
   "execution_count": 59,
   "metadata": {
    "collapsed": false
   },
   "outputs": [
    {
     "name": "stdout",
     "output_type": "stream",
     "text": [
      "Accuracy: 0.75\n",
      "Precision: 0.64\n",
      "Recall: 0.53\n"
     ]
    }
   ],
   "source": [
    "print('Accuracy: {0:.2f}'.format(accuracy_score(y_test, y_test_preds)))\n",
    "print('Precision: {0:.2f}'.format(precision_score(y_test, y_test_preds, average='macro')))\n",
    "print('Recall: {0:.2f}'.format(recall_score(y_test, y_test_preds, average='macro')))"
   ]
  },
  {
   "cell_type": "markdown",
   "metadata": {},
   "source": [
    "How to use `scale_pos_weight` for multi class classification?? -> it is for `binary classification`\n",
    "https://datascience.stackexchange.com/questions/16342/unbalanced-multiclass-data-with-xgboost/18823\n",
    "\n",
    "by using sample_weight, we can specify weight.\n",
    "http://stackoverflow.com/questions/42192227/xgboost-python-classifier-class-weight-option"
   ]
  },
  {
   "cell_type": "code",
   "execution_count": 70,
   "metadata": {
    "collapsed": false
   },
   "outputs": [],
   "source": [
    "sample_weights = np.unique(y_train, return_counts=True)[1] * 1.0 / y_train.shape[0] * 1.0"
   ]
  },
  {
   "cell_type": "code",
   "execution_count": 71,
   "metadata": {
    "collapsed": false
   },
   "outputs": [
    {
     "data": {
      "text/plain": [
       "array([ 0.69469227,  0.22752155,  0.07778618])"
      ]
     },
     "execution_count": 71,
     "metadata": {},
     "output_type": "execute_result"
    }
   ],
   "source": [
    "sample_weights"
   ]
  },
  {
   "cell_type": "code",
   "execution_count": 72,
   "metadata": {
    "collapsed": true
   },
   "outputs": [],
   "source": [
    "bst = XGBClassifier(**params).fit(X_train, y_train, sample_weight=sample_weights)\n",
    "y_test_preds = bst.predict(X_test)"
   ]
  },
  {
   "cell_type": "code",
   "execution_count": 73,
   "metadata": {
    "collapsed": false
   },
   "outputs": [
    {
     "data": {
      "text/html": [
       "<div>\n",
       "<table border=\"1\" class=\"dataframe\">\n",
       "  <thead>\n",
       "    <tr style=\"text-align: right;\">\n",
       "      <th>Predicted</th>\n",
       "      <th>0.0</th>\n",
       "      <th>All</th>\n",
       "    </tr>\n",
       "    <tr>\n",
       "      <th>Actual</th>\n",
       "      <th></th>\n",
       "      <th></th>\n",
       "    </tr>\n",
       "  </thead>\n",
       "  <tbody>\n",
       "    <tr>\n",
       "      <th>0.0</th>\n",
       "      <td>11314</td>\n",
       "      <td>11314</td>\n",
       "    </tr>\n",
       "    <tr>\n",
       "      <th>1.0</th>\n",
       "      <td>3706</td>\n",
       "      <td>3706</td>\n",
       "    </tr>\n",
       "    <tr>\n",
       "      <th>2.0</th>\n",
       "      <td>1267</td>\n",
       "      <td>1267</td>\n",
       "    </tr>\n",
       "    <tr>\n",
       "      <th>All</th>\n",
       "      <td>16287</td>\n",
       "      <td>16287</td>\n",
       "    </tr>\n",
       "  </tbody>\n",
       "</table>\n",
       "</div>"
      ],
      "text/plain": [
       "Predicted    0.0    All\n",
       "Actual                 \n",
       "0.0        11314  11314\n",
       "1.0         3706   3706\n",
       "2.0         1267   1267\n",
       "All        16287  16287"
      ]
     },
     "execution_count": 73,
     "metadata": {},
     "output_type": "execute_result"
    }
   ],
   "source": [
    "pd.crosstab(\n",
    "    pd.Series(y_test, name='Actual'),\n",
    "    pd.Series(y_test_preds, name='Predicted'),\n",
    "    margins=True\n",
    ")"
   ]
  },
  {
   "cell_type": "code",
   "execution_count": 74,
   "metadata": {
    "collapsed": false
   },
   "outputs": [
    {
     "name": "stdout",
     "output_type": "stream",
     "text": [
      "Accuracy: 0.69\n",
      "Precision: 0.23\n",
      "Recall: 0.33\n"
     ]
    }
   ],
   "source": [
    "print('Accuracy: {0:.2f}'.format(accuracy_score(y_test, y_test_preds)))\n",
    "print('Precision: {0:.2f}'.format(precision_score(y_test, y_test_preds, average='macro')))\n",
    "print('Recall: {0:.2f}'.format(recall_score(y_test, y_test_preds, average='macro')))"
   ]
  },
  {
   "cell_type": "markdown",
   "metadata": {},
   "source": [
    "dont know how to apply sample_weights,,"
   ]
  },
  {
   "cell_type": "markdown",
   "metadata": {},
   "source": [
    "Maybe able to use xgboost with GPU\n",
    "https://github.com/dmlc/xgboost/blob/master/plugin/updater_gpu/README.md"
   ]
  }
 ],
 "metadata": {
  "anaconda-cloud": {},
  "kernelspec": {
   "display_name": "Python [conda root]",
   "language": "python",
   "name": "conda-root-py"
  },
  "language_info": {
   "codemirror_mode": {
    "name": "ipython",
    "version": 2
   },
   "file_extension": ".py",
   "mimetype": "text/x-python",
   "name": "python",
   "nbconvert_exporter": "python",
   "pygments_lexer": "ipython2",
   "version": "2.7.11"
  }
 },
 "nbformat": 4,
 "nbformat_minor": 0
}
